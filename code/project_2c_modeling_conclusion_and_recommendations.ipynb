{
 "cells": [
  {
   "cell_type": "markdown",
   "metadata": {},
   "source": [
    "# Project 2C: Ames Housing Data & Kaggle Challenge"
   ]
  },
  {
   "cell_type": "markdown",
   "metadata": {},
   "source": [
    "### Overall Contents:\n",
    "- Background\n",
    "- Data Cleaning\n",
    "- Exploratory Data Analysis\n",
    "- [Modeling](#4.-Visualize-the-Data) **(In this notebook)**\n",
    "- [Conclusions and Recommendations](#5.-Conclusions-and-Recommendations) **(In this notebook)**"
   ]
  },
  {
   "cell_type": "markdown",
   "metadata": {},
   "source": [
    "### Data Dictionary\n",
    "The dataset used for this analysis are as followed:-\n",
    "\n",
    "* [`train`]: Ames Housing Train Data - labeled as housing_data\n",
    "\n",
    "Data source: [Ames Housing Data](https://www.kaggle.com/c/dsi-us-11-project-2-regression-challenge/data) obtained from database [Ames Iowa Assessor's Office](http://www.cityofames.org/assessor/)\n",
    "\n",
    "|Feature|Type|Dataset|Description|\n",
    "|:------|:---:|:---:|:---|\n",
    "|overall_qual|integer|Housing|The overall material and finish of the house| \n",
    "|exter_qual|integer|Housing|Evaluates the quality of the material on the exterior| \n",
    "|bsmt_qual|integer|Housing|Evaluates the height of the basement| \n",
    "|total_bsmt_sf|integer|Housing|Total square feet of basement area|\n",
    "|heating_qc|integer|Housing|Heating quality and condition| \n",
    "|gr_liv_area|integer|Housing|Above grade (ground) living area square feet|\n",
    "|full_bath|integer|Housing|Full bathrooms above grade (ground)|  \n",
    "|kitchen_qual|integer|Housing|Kitchen quality| \n",
    "|fireplace_qu|integer|Housing|Fireplace quality| \n",
    "|garage_finish|integer|Housing|Interior finish of the garage| \n",
    "|garage_area|integer|Housing|Size of garage in square feet| \n",
    "|log_saleprice|float|Housing|Logarithm of the sale price of the house| \n",
    "|age|integer|Housing|Age of the house|\n",
    "|bsmt_qual_total|integer|Housing|Combine effect of total basement area and its quality| \n",
    "|arage_area_finish|integer|Housing|Combine effect of garage area and garage finish|\n",
    "|fire_heat_qc|integer|Housing|Combine effect of Fireplace quality and heating quality| \n",
    "|totrms_abvgrd|integer|Housing|Total rooms above ground|\n",
    "|ms_zoning|integer|Housing|The general zoning classification of the sale|\n",
    "||||- FV  Floating Village Residential|        \n",
    "||||- I   Industrial|   \n",
    "||||- RH  Residential High Density|        \n",
    "||||- RL  Residential Low Density|      \n",
    "||||- RM  Residential Medium Density| \n"
   ]
  },
  {
   "cell_type": "markdown",
   "metadata": {},
   "source": [
    "## 4. Modeling"
   ]
  },
  {
   "cell_type": "markdown",
   "metadata": {},
   "source": [
    "### 4.1 Libraries Import"
   ]
  },
  {
   "cell_type": "code",
   "execution_count": 1,
   "metadata": {},
   "outputs": [],
   "source": [
    "# Imports:\n",
    "import pandas as pd\n",
    "import numpy as np\n",
    "import seaborn as sns\n",
    "import matplotlib.pyplot as plt\n",
    "from sklearn.model_selection import train_test_split, cross_val_score\n",
    "from sklearn.linear_model import LinearRegression, Lasso, LassoCV, Ridge, RidgeCV\n",
    "from sklearn.metrics import r2_score, mean_squared_error\n",
    "from sklearn.preprocessing import StandardScaler\n",
    "\n",
    "%config InlineBackend.figure_format = 'retina'\n",
    "%matplotlib inline "
   ]
  },
  {
   "cell_type": "markdown",
   "metadata": {},
   "source": [
    "### 4.2 Data Import"
   ]
  },
  {
   "cell_type": "code",
   "execution_count": 2,
   "metadata": {},
   "outputs": [],
   "source": [
    "# Import of Ames Housing Train Data from csv\n",
    "train_housing_data = pd.read_csv('../datasets/potential_features_id.csv')\n",
    "test_housing_data = pd.read_csv('../datasets/test_potential_features_id.csv')"
   ]
  },
  {
   "cell_type": "code",
   "execution_count": 3,
   "metadata": {},
   "outputs": [
    {
     "data": {
      "text/html": [
       "<div>\n",
       "<style scoped>\n",
       "    .dataframe tbody tr th:only-of-type {\n",
       "        vertical-align: middle;\n",
       "    }\n",
       "\n",
       "    .dataframe tbody tr th {\n",
       "        vertical-align: top;\n",
       "    }\n",
       "\n",
       "    .dataframe thead th {\n",
       "        text-align: right;\n",
       "    }\n",
       "</style>\n",
       "<table border=\"1\" class=\"dataframe\">\n",
       "  <thead>\n",
       "    <tr style=\"text-align: right;\">\n",
       "      <th></th>\n",
       "      <th>id</th>\n",
       "      <th>overall_qual</th>\n",
       "      <th>exter_qual</th>\n",
       "      <th>bsmt_qual</th>\n",
       "      <th>total_bsmt_sf</th>\n",
       "      <th>heating_qc</th>\n",
       "      <th>gr_liv_area</th>\n",
       "      <th>full_bath</th>\n",
       "      <th>kitchen_qual</th>\n",
       "      <th>fireplace_qu</th>\n",
       "      <th>...</th>\n",
       "      <th>log_saleprice</th>\n",
       "      <th>age</th>\n",
       "      <th>bsmt_qual_total</th>\n",
       "      <th>garage_area_finish</th>\n",
       "      <th>fire_heat_qc</th>\n",
       "      <th>ms_zoning_FV</th>\n",
       "      <th>ms_zoning_I</th>\n",
       "      <th>ms_zoning_RH</th>\n",
       "      <th>ms_zoning_RL</th>\n",
       "      <th>ms_zoning_RM</th>\n",
       "    </tr>\n",
       "  </thead>\n",
       "  <tbody>\n",
       "    <tr>\n",
       "      <th>0</th>\n",
       "      <td>109</td>\n",
       "      <td>6</td>\n",
       "      <td>3</td>\n",
       "      <td>3</td>\n",
       "      <td>725</td>\n",
       "      <td>4</td>\n",
       "      <td>1479</td>\n",
       "      <td>2</td>\n",
       "      <td>3</td>\n",
       "      <td>0</td>\n",
       "      <td>...</td>\n",
       "      <td>11.779129</td>\n",
       "      <td>34</td>\n",
       "      <td>2175</td>\n",
       "      <td>950</td>\n",
       "      <td>0</td>\n",
       "      <td>0</td>\n",
       "      <td>0</td>\n",
       "      <td>0</td>\n",
       "      <td>1</td>\n",
       "      <td>0</td>\n",
       "    </tr>\n",
       "    <tr>\n",
       "      <th>1</th>\n",
       "      <td>544</td>\n",
       "      <td>7</td>\n",
       "      <td>3</td>\n",
       "      <td>4</td>\n",
       "      <td>913</td>\n",
       "      <td>4</td>\n",
       "      <td>2122</td>\n",
       "      <td>2</td>\n",
       "      <td>3</td>\n",
       "      <td>3</td>\n",
       "      <td>...</td>\n",
       "      <td>12.301383</td>\n",
       "      <td>14</td>\n",
       "      <td>3652</td>\n",
       "      <td>1118</td>\n",
       "      <td>12</td>\n",
       "      <td>0</td>\n",
       "      <td>0</td>\n",
       "      <td>0</td>\n",
       "      <td>1</td>\n",
       "      <td>0</td>\n",
       "    </tr>\n",
       "    <tr>\n",
       "      <th>2</th>\n",
       "      <td>153</td>\n",
       "      <td>5</td>\n",
       "      <td>2</td>\n",
       "      <td>3</td>\n",
       "      <td>1057</td>\n",
       "      <td>2</td>\n",
       "      <td>1057</td>\n",
       "      <td>1</td>\n",
       "      <td>3</td>\n",
       "      <td>0</td>\n",
       "      <td>...</td>\n",
       "      <td>11.599103</td>\n",
       "      <td>57</td>\n",
       "      <td>3171</td>\n",
       "      <td>246</td>\n",
       "      <td>0</td>\n",
       "      <td>0</td>\n",
       "      <td>0</td>\n",
       "      <td>0</td>\n",
       "      <td>1</td>\n",
       "      <td>0</td>\n",
       "    </tr>\n",
       "    <tr>\n",
       "      <th>3</th>\n",
       "      <td>318</td>\n",
       "      <td>5</td>\n",
       "      <td>2</td>\n",
       "      <td>4</td>\n",
       "      <td>384</td>\n",
       "      <td>3</td>\n",
       "      <td>1444</td>\n",
       "      <td>2</td>\n",
       "      <td>2</td>\n",
       "      <td>0</td>\n",
       "      <td>...</td>\n",
       "      <td>12.066811</td>\n",
       "      <td>4</td>\n",
       "      <td>1536</td>\n",
       "      <td>1200</td>\n",
       "      <td>0</td>\n",
       "      <td>0</td>\n",
       "      <td>0</td>\n",
       "      <td>0</td>\n",
       "      <td>1</td>\n",
       "      <td>0</td>\n",
       "    </tr>\n",
       "    <tr>\n",
       "      <th>4</th>\n",
       "      <td>255</td>\n",
       "      <td>6</td>\n",
       "      <td>2</td>\n",
       "      <td>2</td>\n",
       "      <td>676</td>\n",
       "      <td>2</td>\n",
       "      <td>1445</td>\n",
       "      <td>2</td>\n",
       "      <td>2</td>\n",
       "      <td>0</td>\n",
       "      <td>...</td>\n",
       "      <td>11.838626</td>\n",
       "      <td>110</td>\n",
       "      <td>1352</td>\n",
       "      <td>484</td>\n",
       "      <td>0</td>\n",
       "      <td>0</td>\n",
       "      <td>0</td>\n",
       "      <td>0</td>\n",
       "      <td>1</td>\n",
       "      <td>0</td>\n",
       "    </tr>\n",
       "  </tbody>\n",
       "</table>\n",
       "<p>5 rows × 22 columns</p>\n",
       "</div>"
      ],
      "text/plain": [
       "    id  overall_qual  exter_qual  bsmt_qual  total_bsmt_sf  heating_qc  \\\n",
       "0  109             6           3          3            725           4   \n",
       "1  544             7           3          4            913           4   \n",
       "2  153             5           2          3           1057           2   \n",
       "3  318             5           2          4            384           3   \n",
       "4  255             6           2          2            676           2   \n",
       "\n",
       "   gr_liv_area  full_bath  kitchen_qual  fireplace_qu  ...  log_saleprice  \\\n",
       "0         1479          2             3             0  ...      11.779129   \n",
       "1         2122          2             3             3  ...      12.301383   \n",
       "2         1057          1             3             0  ...      11.599103   \n",
       "3         1444          2             2             0  ...      12.066811   \n",
       "4         1445          2             2             0  ...      11.838626   \n",
       "\n",
       "   age  bsmt_qual_total  garage_area_finish  fire_heat_qc  ms_zoning_FV  \\\n",
       "0   34             2175                 950             0             0   \n",
       "1   14             3652                1118            12             0   \n",
       "2   57             3171                 246             0             0   \n",
       "3    4             1536                1200             0             0   \n",
       "4  110             1352                 484             0             0   \n",
       "\n",
       "   ms_zoning_I  ms_zoning_RH  ms_zoning_RL  ms_zoning_RM  \n",
       "0            0             0             1             0  \n",
       "1            0             0             1             0  \n",
       "2            0             0             1             0  \n",
       "3            0             0             1             0  \n",
       "4            0             0             1             0  \n",
       "\n",
       "[5 rows x 22 columns]"
      ]
     },
     "execution_count": 3,
     "metadata": {},
     "output_type": "execute_result"
    }
   ],
   "source": [
    "train_housing_data.head()"
   ]
  },
  {
   "cell_type": "code",
   "execution_count": 4,
   "metadata": {},
   "outputs": [
    {
     "data": {
      "text/html": [
       "<div>\n",
       "<style scoped>\n",
       "    .dataframe tbody tr th:only-of-type {\n",
       "        vertical-align: middle;\n",
       "    }\n",
       "\n",
       "    .dataframe tbody tr th {\n",
       "        vertical-align: top;\n",
       "    }\n",
       "\n",
       "    .dataframe thead th {\n",
       "        text-align: right;\n",
       "    }\n",
       "</style>\n",
       "<table border=\"1\" class=\"dataframe\">\n",
       "  <thead>\n",
       "    <tr style=\"text-align: right;\">\n",
       "      <th></th>\n",
       "      <th>id</th>\n",
       "      <th>overall_qual</th>\n",
       "      <th>exter_qual</th>\n",
       "      <th>bsmt_qual</th>\n",
       "      <th>total_bsmt_sf</th>\n",
       "      <th>heating_qc</th>\n",
       "      <th>gr_liv_area</th>\n",
       "      <th>full_bath</th>\n",
       "      <th>kitchen_qual</th>\n",
       "      <th>fireplace_qu</th>\n",
       "      <th>...</th>\n",
       "      <th>garage_area</th>\n",
       "      <th>age</th>\n",
       "      <th>bsmt_qual_total</th>\n",
       "      <th>garage_area_finish</th>\n",
       "      <th>fire_heat_qc</th>\n",
       "      <th>ms_zoning_FV</th>\n",
       "      <th>ms_zoning_I</th>\n",
       "      <th>ms_zoning_RH</th>\n",
       "      <th>ms_zoning_RL</th>\n",
       "      <th>ms_zoning_RM</th>\n",
       "    </tr>\n",
       "  </thead>\n",
       "  <tbody>\n",
       "    <tr>\n",
       "      <th>0</th>\n",
       "      <td>2658</td>\n",
       "      <td>6</td>\n",
       "      <td>2</td>\n",
       "      <td>2</td>\n",
       "      <td>1020</td>\n",
       "      <td>3</td>\n",
       "      <td>1928</td>\n",
       "      <td>2</td>\n",
       "      <td>1</td>\n",
       "      <td>0</td>\n",
       "      <td>...</td>\n",
       "      <td>440</td>\n",
       "      <td>100</td>\n",
       "      <td>2040</td>\n",
       "      <td>440</td>\n",
       "      <td>0</td>\n",
       "      <td>0</td>\n",
       "      <td>0</td>\n",
       "      <td>0</td>\n",
       "      <td>0</td>\n",
       "      <td>1</td>\n",
       "    </tr>\n",
       "    <tr>\n",
       "      <th>1</th>\n",
       "      <td>2718</td>\n",
       "      <td>5</td>\n",
       "      <td>2</td>\n",
       "      <td>4</td>\n",
       "      <td>1967</td>\n",
       "      <td>2</td>\n",
       "      <td>1967</td>\n",
       "      <td>2</td>\n",
       "      <td>2</td>\n",
       "      <td>0</td>\n",
       "      <td>...</td>\n",
       "      <td>580</td>\n",
       "      <td>33</td>\n",
       "      <td>7868</td>\n",
       "      <td>1740</td>\n",
       "      <td>0</td>\n",
       "      <td>0</td>\n",
       "      <td>0</td>\n",
       "      <td>0</td>\n",
       "      <td>1</td>\n",
       "      <td>0</td>\n",
       "    </tr>\n",
       "    <tr>\n",
       "      <th>2</th>\n",
       "      <td>2414</td>\n",
       "      <td>7</td>\n",
       "      <td>3</td>\n",
       "      <td>4</td>\n",
       "      <td>654</td>\n",
       "      <td>4</td>\n",
       "      <td>1496</td>\n",
       "      <td>2</td>\n",
       "      <td>3</td>\n",
       "      <td>4</td>\n",
       "      <td>...</td>\n",
       "      <td>426</td>\n",
       "      <td>4</td>\n",
       "      <td>2616</td>\n",
       "      <td>852</td>\n",
       "      <td>16</td>\n",
       "      <td>0</td>\n",
       "      <td>0</td>\n",
       "      <td>0</td>\n",
       "      <td>1</td>\n",
       "      <td>0</td>\n",
       "    </tr>\n",
       "    <tr>\n",
       "      <th>3</th>\n",
       "      <td>1989</td>\n",
       "      <td>5</td>\n",
       "      <td>3</td>\n",
       "      <td>3</td>\n",
       "      <td>968</td>\n",
       "      <td>2</td>\n",
       "      <td>968</td>\n",
       "      <td>1</td>\n",
       "      <td>2</td>\n",
       "      <td>0</td>\n",
       "      <td>...</td>\n",
       "      <td>480</td>\n",
       "      <td>87</td>\n",
       "      <td>2904</td>\n",
       "      <td>480</td>\n",
       "      <td>0</td>\n",
       "      <td>0</td>\n",
       "      <td>0</td>\n",
       "      <td>0</td>\n",
       "      <td>0</td>\n",
       "      <td>1</td>\n",
       "    </tr>\n",
       "    <tr>\n",
       "      <th>4</th>\n",
       "      <td>625</td>\n",
       "      <td>6</td>\n",
       "      <td>2</td>\n",
       "      <td>4</td>\n",
       "      <td>1394</td>\n",
       "      <td>3</td>\n",
       "      <td>1394</td>\n",
       "      <td>1</td>\n",
       "      <td>2</td>\n",
       "      <td>4</td>\n",
       "      <td>...</td>\n",
       "      <td>514</td>\n",
       "      <td>47</td>\n",
       "      <td>5576</td>\n",
       "      <td>1028</td>\n",
       "      <td>12</td>\n",
       "      <td>0</td>\n",
       "      <td>0</td>\n",
       "      <td>0</td>\n",
       "      <td>1</td>\n",
       "      <td>0</td>\n",
       "    </tr>\n",
       "  </tbody>\n",
       "</table>\n",
       "<p>5 rows × 21 columns</p>\n",
       "</div>"
      ],
      "text/plain": [
       "     id  overall_qual  exter_qual  bsmt_qual  total_bsmt_sf  heating_qc  \\\n",
       "0  2658             6           2          2           1020           3   \n",
       "1  2718             5           2          4           1967           2   \n",
       "2  2414             7           3          4            654           4   \n",
       "3  1989             5           3          3            968           2   \n",
       "4   625             6           2          4           1394           3   \n",
       "\n",
       "   gr_liv_area  full_bath  kitchen_qual  fireplace_qu  ...  garage_area  age  \\\n",
       "0         1928          2             1             0  ...          440  100   \n",
       "1         1967          2             2             0  ...          580   33   \n",
       "2         1496          2             3             4  ...          426    4   \n",
       "3          968          1             2             0  ...          480   87   \n",
       "4         1394          1             2             4  ...          514   47   \n",
       "\n",
       "   bsmt_qual_total  garage_area_finish  fire_heat_qc  ms_zoning_FV  \\\n",
       "0             2040                 440             0             0   \n",
       "1             7868                1740             0             0   \n",
       "2             2616                 852            16             0   \n",
       "3             2904                 480             0             0   \n",
       "4             5576                1028            12             0   \n",
       "\n",
       "   ms_zoning_I  ms_zoning_RH  ms_zoning_RL  ms_zoning_RM  \n",
       "0            0             0             0             1  \n",
       "1            0             0             1             0  \n",
       "2            0             0             1             0  \n",
       "3            0             0             0             1  \n",
       "4            0             0             1             0  \n",
       "\n",
       "[5 rows x 21 columns]"
      ]
     },
     "execution_count": 4,
     "metadata": {},
     "output_type": "execute_result"
    }
   ],
   "source": [
    "test_housing_data.head()"
   ]
  },
  {
   "cell_type": "markdown",
   "metadata": {},
   "source": [
    "### 4.3 Model the data "
   ]
  },
  {
   "cell_type": "markdown",
   "metadata": {},
   "source": [
    "We will be performing a train/test split on our data set to have a training set and a holdout set. In total, we will use three models (LinearRegression, Lasso Regression, Ridge Regression) to evaluate and choose the best model prior to fitting the dataset to predict the y-values from the validation set. After the evaluation, we will then proceed to perform a prediction of y-values of our test set for submission to Kaggle."
   ]
  },
  {
   "cell_type": "markdown",
   "metadata": {},
   "source": [
    "#### 4.3.1 Split the data into train/test data"
   ]
  },
  {
   "cell_type": "code",
   "execution_count": 6,
   "metadata": {},
   "outputs": [
    {
     "name": "stdout",
     "output_type": "stream",
     "text": [
      "<class 'pandas.core.frame.DataFrame'>\n",
      "RangeIndex: 2006 entries, 0 to 2005\n",
      "Data columns (total 22 columns):\n",
      " #   Column              Non-Null Count  Dtype  \n",
      "---  ------              --------------  -----  \n",
      " 0   id                  2006 non-null   int64  \n",
      " 1   overall_qual        2006 non-null   int64  \n",
      " 2   exter_qual          2006 non-null   int64  \n",
      " 3   bsmt_qual           2006 non-null   int64  \n",
      " 4   total_bsmt_sf       2006 non-null   int64  \n",
      " 5   heating_qc          2006 non-null   int64  \n",
      " 6   gr_liv_area         2006 non-null   int64  \n",
      " 7   full_bath           2006 non-null   int64  \n",
      " 8   kitchen_qual        2006 non-null   int64  \n",
      " 9   fireplace_qu        2006 non-null   int64  \n",
      " 10  garage_finish       2006 non-null   int64  \n",
      " 11  garage_area         2006 non-null   int64  \n",
      " 12  log_saleprice       2006 non-null   float64\n",
      " 13  age                 2006 non-null   int64  \n",
      " 14  bsmt_qual_total     2006 non-null   int64  \n",
      " 15  garage_area_finish  2006 non-null   int64  \n",
      " 16  fire_heat_qc        2006 non-null   int64  \n",
      " 17  ms_zoning_FV        2006 non-null   int64  \n",
      " 18  ms_zoning_I         2006 non-null   int64  \n",
      " 19  ms_zoning_RH        2006 non-null   int64  \n",
      " 20  ms_zoning_RL        2006 non-null   int64  \n",
      " 21  ms_zoning_RM        2006 non-null   int64  \n",
      "dtypes: float64(1), int64(21)\n",
      "memory usage: 344.9 KB\n"
     ]
    }
   ],
   "source": [
    "train_housing_data.info()"
   ]
  },
  {
   "cell_type": "code",
   "execution_count": 8,
   "metadata": {
    "scrolled": false
   },
   "outputs": [
    {
     "name": "stdout",
     "output_type": "stream",
     "text": [
      "<class 'pandas.core.frame.DataFrame'>\n",
      "RangeIndex: 878 entries, 0 to 877\n",
      "Data columns (total 21 columns):\n",
      " #   Column              Non-Null Count  Dtype\n",
      "---  ------              --------------  -----\n",
      " 0   id                  878 non-null    int64\n",
      " 1   overall_qual        878 non-null    int64\n",
      " 2   exter_qual          878 non-null    int64\n",
      " 3   bsmt_qual           878 non-null    int64\n",
      " 4   total_bsmt_sf       878 non-null    int64\n",
      " 5   heating_qc          878 non-null    int64\n",
      " 6   gr_liv_area         878 non-null    int64\n",
      " 7   full_bath           878 non-null    int64\n",
      " 8   kitchen_qual        878 non-null    int64\n",
      " 9   fireplace_qu        878 non-null    int64\n",
      " 10  garage_finish       878 non-null    int64\n",
      " 11  garage_area         878 non-null    int64\n",
      " 12  age                 878 non-null    int64\n",
      " 13  bsmt_qual_total     878 non-null    int64\n",
      " 14  garage_area_finish  878 non-null    int64\n",
      " 15  fire_heat_qc        878 non-null    int64\n",
      " 16  ms_zoning_FV        878 non-null    int64\n",
      " 17  ms_zoning_I         878 non-null    int64\n",
      " 18  ms_zoning_RH        878 non-null    int64\n",
      " 19  ms_zoning_RL        878 non-null    int64\n",
      " 20  ms_zoning_RM        878 non-null    int64\n",
      "dtypes: int64(21)\n",
      "memory usage: 144.2 KB\n"
     ]
    }
   ],
   "source": [
    "test_housing_data.info()"
   ]
  },
  {
   "cell_type": "code",
   "execution_count": 9,
   "metadata": {
    "scrolled": true
   },
   "outputs": [],
   "source": [
    "# Creating an X and Y variable for train set\n",
    "y_data = train_housing_data['log_saleprice']\n",
    "x_data = train_housing_data.drop(columns = ['id',\"log_saleprice\"])"
   ]
  },
  {
   "cell_type": "code",
   "execution_count": 13,
   "metadata": {},
   "outputs": [
    {
     "name": "stdout",
     "output_type": "stream",
     "text": [
      "X train:  (2006, 21)\n",
      "y train:  (2006,)\n"
     ]
    }
   ],
   "source": [
    "#Verify Dimensions\n",
    "print('X train: ', x_data.shape)\n",
    "print('y train: ', y_data.shape)"
   ]
  },
  {
   "cell_type": "code",
   "execution_count": 12,
   "metadata": {},
   "outputs": [
    {
     "name": "stdout",
     "output_type": "stream",
     "text": [
      "X test :  (878, 21)\n"
     ]
    }
   ],
   "source": [
    "#Verify Dimensions for test_housing_data\n",
    "print('X test : ', test_housing_data.shape)"
   ]
  },
  {
   "cell_type": "markdown",
   "metadata": {},
   "source": [
    "To prevent confusion, X_val and y_val will be used instead of X_test and y_test. This is to differentiate from the test data set naming."
   ]
  },
  {
   "cell_type": "code",
   "execution_count": 14,
   "metadata": {},
   "outputs": [],
   "source": [
    "# Perform the train-test-split on the train set with a train_size of 0.7\n",
    "X_train, X_val, y_train, y_val = train_test_split(x_data,y_data, train_size = 0.7, random_state = 7, shuffle = True)"
   ]
  },
  {
   "cell_type": "code",
   "execution_count": 15,
   "metadata": {},
   "outputs": [
    {
     "name": "stdout",
     "output_type": "stream",
     "text": [
      "X train:  (1404, 21)\n",
      "y train:  (1404,)\n",
      "X val:  (602, 21)\n",
      "y val:  (602,)\n",
      "x test:  (878, 21)\n"
     ]
    }
   ],
   "source": [
    "#Verify Dimensions\n",
    "print('X train: ', X_train.shape)\n",
    "print('y train: ', y_train.shape)\n",
    "print('X val: ', X_val.shape)\n",
    "print('y val: ', y_val.shape)\n",
    "print('x test: ',test_housing_data.shape)"
   ]
  },
  {
   "cell_type": "markdown",
   "metadata": {},
   "source": [
    "### 4.2 Standardscaler"
   ]
  },
  {
   "cell_type": "markdown",
   "metadata": {},
   "source": [
    "As we will be performing lasso and ridge model, we will need to standardscale the features. \n",
    "\n",
    "We first fit a standardscaler to the train data set and transform both x_train and X_test set."
   ]
  },
  {
   "cell_type": "code",
   "execution_count": 16,
   "metadata": {},
   "outputs": [],
   "source": [
    "# Initiate a blank StandardScaler\n",
    "sc = StandardScaler()"
   ]
  },
  {
   "cell_type": "code",
   "execution_count": 17,
   "metadata": {},
   "outputs": [],
   "source": [
    "# Fit and transform into X_train prior fitting into X_test\n",
    "z_train = sc.fit_transform(X_train)\n",
    "z_val = sc.transform(X_val)\n",
    "z_test = sc.transform(test_housing_data)"
   ]
  },
  {
   "cell_type": "markdown",
   "metadata": {},
   "source": [
    "### 4.3 Instantiate the model"
   ]
  },
  {
   "cell_type": "markdown",
   "metadata": {},
   "source": [
    "Prior to evaluating the models, we will need to create instances of these models"
   ]
  },
  {
   "cell_type": "code",
   "execution_count": 18,
   "metadata": {},
   "outputs": [],
   "source": [
    "# Instantiate the Linear Regression model\n",
    "lr = LinearRegression()"
   ]
  },
  {
   "cell_type": "code",
   "execution_count": 19,
   "metadata": {},
   "outputs": [],
   "source": [
    "# Instantiate the Lasso Regression model\n",
    "lasso = LassoCV (n_alphas = 200)"
   ]
  },
  {
   "cell_type": "code",
   "execution_count": 20,
   "metadata": {},
   "outputs": [],
   "source": [
    "# Instantiate the Ridge Regression model\n",
    "ridge = RidgeCV(alphas= np.logspace(0, 5, 200), cv = 5, scoring = 'r2')"
   ]
  },
  {
   "cell_type": "markdown",
   "metadata": {},
   "source": [
    "### 4.4 Cross validation"
   ]
  },
  {
   "cell_type": "markdown",
   "metadata": {},
   "source": [
    "We perform the evaluation of the these models using the cross_val_score"
   ]
  },
  {
   "cell_type": "code",
   "execution_count": 21,
   "metadata": {},
   "outputs": [
    {
     "name": "stdout",
     "output_type": "stream",
     "text": [
      "The linear regression cross_val_score is 0.867139939654631\n"
     ]
    }
   ],
   "source": [
    "# Perform a cross_val_score on the train_set for Linear Regression\n",
    "lr_scores = cross_val_score(lr, z_train, y_train, cv = 5)\n",
    "print(f\"The linear regression cross_val_score is {lr_scores.mean()}\")"
   ]
  },
  {
   "cell_type": "code",
   "execution_count": 22,
   "metadata": {},
   "outputs": [
    {
     "name": "stdout",
     "output_type": "stream",
     "text": [
      "The lasso regression cross_val_score is 0.8665843752472681\n"
     ]
    }
   ],
   "source": [
    "# Perform a cross_val_score on the train_set for Lasso Regression\n",
    "lasso_scores = cross_val_score(lasso, z_train, y_train, cv = 5)\n",
    "print(f\"The lasso regression cross_val_score is {lasso_scores.mean()}\")"
   ]
  },
  {
   "cell_type": "code",
   "execution_count": 23,
   "metadata": {},
   "outputs": [
    {
     "name": "stdout",
     "output_type": "stream",
     "text": [
      "The ridge regression cross_val_score is 0.8679540009558497\n"
     ]
    }
   ],
   "source": [
    "# Perform a cross_val_score on the train_set for Ridge Regression\n",
    "ridge_scores = cross_val_score(ridge, z_train, y_train, cv = 5)\n",
    "print(f\"The ridge regression cross_val_score is {ridge_scores.mean()}\")"
   ]
  },
  {
   "cell_type": "markdown",
   "metadata": {},
   "source": [
    "**Analysis: Ridge Regression performing the best with an R score of about 0.866.**\n",
    "\n",
    "The cross_val_score across these models are approximately the same with a score of 0.866 with Ridge Regression performing better than the rest with 0.868. The Ridge Regressions functions by penalizing the size of the weights by introducing a regularization parameter. This model is useful for our analysis in which we have many predictors that may have a high degree of Multicollinearity between each other [[1]](https://towardsdatascience.com/from-linear-regression-to-ridge-regression-the-lasso-and-the-elastic-net-4eaecaf5f7e6) However, using ridge regression requires standard scaling and select an optimal alpha (hyperparameter) for its peak performance. \n",
    "\n",
    "Despite that, this regression is preferable over Lasso Regression as the cross validation score for this model is the highest out of the three and it helps to shrinks our regression coefficients closer to zero by making our model simpler."
   ]
  },
  {
   "cell_type": "markdown",
   "metadata": {},
   "source": [
    "### 4.5 Model Fitting and Evaluation"
   ]
  },
  {
   "cell_type": "markdown",
   "metadata": {},
   "source": [
    "With our chosen Ridge model, we will proceed to fit our data to the model and evaluate our model further."
   ]
  },
  {
   "cell_type": "code",
   "execution_count": 24,
   "metadata": {},
   "outputs": [
    {
     "data": {
      "text/plain": [
       "RidgeCV(alphas=array([1.00000000e+00, 1.05956018e+00, 1.12266777e+00, 1.18953407e+00,\n",
       "       1.26038293e+00, 1.33545156e+00, 1.41499130e+00, 1.49926843e+00,\n",
       "       1.58856513e+00, 1.68318035e+00, 1.78343088e+00, 1.88965234e+00,\n",
       "       2.00220037e+00, 2.12145178e+00, 2.24780583e+00, 2.38168555e+00,\n",
       "       2.52353917e+00, 2.67384162e+00, 2.83309610e+00, 3.00183581e+00,\n",
       "       3.18062569e+00, 3.37006433e+0...\n",
       "       2.64308149e+04, 2.80050389e+04, 2.96730241e+04, 3.14403547e+04,\n",
       "       3.33129479e+04, 3.52970730e+04, 3.73993730e+04, 3.96268864e+04,\n",
       "       4.19870708e+04, 4.44878283e+04, 4.71375313e+04, 4.99450512e+04,\n",
       "       5.29197874e+04, 5.60716994e+04, 5.94113398e+04, 6.29498899e+04,\n",
       "       6.66991966e+04, 7.06718127e+04, 7.48810386e+04, 7.93409667e+04,\n",
       "       8.40665289e+04, 8.90735464e+04, 9.43787828e+04, 1.00000000e+05]),\n",
       "        cv=5, scoring='r2')"
      ]
     },
     "execution_count": 24,
     "metadata": {},
     "output_type": "execute_result"
    }
   ],
   "source": [
    "# Fit the standard scaled x_train and y_train to ridge\n",
    "ridge.fit(z_train, y_train)"
   ]
  },
  {
   "cell_type": "code",
   "execution_count": 25,
   "metadata": {
    "scrolled": true
   },
   "outputs": [
    {
     "data": {
      "text/plain": [
       "0.8750581652273024"
      ]
     },
     "execution_count": 25,
     "metadata": {},
     "output_type": "execute_result"
    }
   ],
   "source": [
    "# The r2 score of our train set using ridge\n",
    "ridge.score(z_train, y_train)"
   ]
  },
  {
   "cell_type": "code",
   "execution_count": 26,
   "metadata": {},
   "outputs": [
    {
     "data": {
      "text/plain": [
       "0.8826168433401163"
      ]
     },
     "execution_count": 26,
     "metadata": {},
     "output_type": "execute_result"
    }
   ],
   "source": [
    "# The r2 score of our val score using ridge\n",
    "ridge.score(z_val,y_val)"
   ]
  },
  {
   "cell_type": "code",
   "execution_count": 27,
   "metadata": {},
   "outputs": [],
   "source": [
    "# Make predictions for test_housing_data for Kaggle submissions\n",
    "test_housing_data_pred = ridge.predict(test_housing_data)"
   ]
  },
  {
   "cell_type": "code",
   "execution_count": 36,
   "metadata": {},
   "outputs": [
    {
     "data": {
      "text/plain": [
       "array([ 385.73073314,  707.84577835,  355.20501802,  321.48233331,\n",
       "        501.69968719,  240.50018365,  307.08483709,  458.82631934,\n",
       "        402.96391231,  394.58948505,  456.75716123,  331.95181207,\n",
       "        442.47466405,  659.54955442,  390.63081181,  178.43437852,\n",
       "        364.07592148,  338.47854575,  469.89070667,  382.89746063,\n",
       "        328.20740734,  289.85010229,  580.24853909,  328.2290692 ,\n",
       "        443.96842041,  284.44992158,  344.53504844,  309.29365012,\n",
       "        305.32148028,  164.97756998,  295.64863871,  305.68300158,\n",
       "        553.47849917,  435.38597969,  540.23078543,  329.64881329,\n",
       "        422.70637583,  151.03511986,  152.80141803,  506.70082235,\n",
       "        303.23814791,  456.01452549,  382.99451196,  355.16120461,\n",
       "        545.49384481,  263.27756867,  444.20673852,  295.23729606,\n",
       "        284.8276111 ,  314.42092058,  331.25249434,  322.11020152,\n",
       "        592.37057782,  334.3447601 ,  226.52980857,  320.00140126,\n",
       "        411.38372261,  372.84511014,  373.33360345,  474.3861034 ,\n",
       "        706.37934191,  392.25918292,  374.16486502,  397.52114643,\n",
       "        392.88482909,  716.32315346,  277.93985164,  483.05350108,\n",
       "        209.49930936,  322.10589947,  206.39540101,  722.99673951,\n",
       "        491.48088717,  282.65781906,  381.95201111,  603.02514231,\n",
       "        222.43486464,  373.22328648,  128.07475481,  737.16335886,\n",
       "        537.77284974,  266.82419087,  308.63454508,  362.58816078,\n",
       "        362.633077  ,  846.73914892,  282.80770872,  455.80326353,\n",
       "        622.43763285,  353.63215326,  323.1307001 ,  257.85695754,\n",
       "        347.50515026,  442.31246567,  303.48891269,  348.0605094 ,\n",
       "        468.77744005,  568.98867085,  408.74685641,  390.2956946 ,\n",
       "        598.4463214 ,  399.39682682,  291.64299442, 1015.39973843,\n",
       "        396.95036197,  244.05566626,  358.93193989,  515.98644301,\n",
       "        606.97135596,  541.54543165,  439.32410182,  469.18993816,\n",
       "        184.68656244,  424.18735782,  543.83655849,  980.15126258,\n",
       "        313.65582048,  294.52061552,  712.27780056,  356.99310578,\n",
       "        807.5255057 ,  503.64810436,  708.41645117,  372.21150649,\n",
       "        432.33726151,  683.74795087,  289.3701461 ,  325.52419326,\n",
       "        261.67813081,  558.71299789,  388.06307833,  420.67994141,\n",
       "        315.34378951,  340.0556714 ,  377.41784675,  609.42766866,\n",
       "        513.86337656,  415.99789526,  483.04543121,  310.34444274,\n",
       "        385.63880896,  331.03396232,  323.25637713,  489.7544239 ,\n",
       "        146.08220709,  415.51474532,  415.77026625,  327.11295625,\n",
       "        199.13088898,  620.34831512,  433.41550069,  393.41009597,\n",
       "        313.01108834,  289.75481284,  247.64914884,  346.52938485,\n",
       "        230.73312165,  303.26117079,  590.79302622,  521.93124158,\n",
       "        533.15936582,  299.45512091,  339.92025791, 1059.31163307,\n",
       "        597.92432727,  569.94273626,  420.68532763,  406.60210139,\n",
       "        510.17058246,  532.61668064, 1199.10668031,  372.40272673,\n",
       "        526.53291154,  314.96710312,  394.53725461,  393.94641088,\n",
       "        196.47986343,  608.269928  ,  261.31854202,  392.15670294,\n",
       "        354.11963835,  395.83447348,  487.1611081 ,  368.94320325,\n",
       "        418.10521762,  263.70277714,  362.70344289,  503.68074156,\n",
       "        312.01681819,  138.12070213,  415.41531349,  341.17927633,\n",
       "        260.79322747,  323.99188922,  372.39434538,  344.69788046,\n",
       "        453.77147373,  379.17712547,  298.19103101,  249.14040485,\n",
       "        751.66460381,  494.75122233,  310.126393  ,  410.70717796,\n",
       "        270.45520641,  158.85907696,  396.82462638,  281.61746137,\n",
       "        503.3553363 ,  444.10595215,  429.21076087,  398.47499705,\n",
       "        339.99061754,  746.30553772,  562.44847704,  407.99785823,\n",
       "        682.38384422,  292.48287168,  311.61133618,  333.08342627,\n",
       "        367.86125762,  337.43601142,  367.05903271,  347.54352106,\n",
       "        273.42316526,  241.16100781,  561.10831609,  481.61777826,\n",
       "        396.33852517,  582.64246866,  470.88586876,  228.49746734,\n",
       "        346.22093816,  262.20107691,  640.25584348,  357.07254446,\n",
       "        282.08812221,  827.27538918,  858.77235711,  567.81597746,\n",
       "        508.3546166 ,  478.65944746,  563.33580252,  616.93655888,\n",
       "        808.81313866,  608.36811807,  239.5811319 ,  287.27186067,\n",
       "        443.17620461,  773.18658622,  576.12535251,  383.89969695,\n",
       "        509.60362705,  460.55503032,  515.5759224 ,  297.42790533,\n",
       "        238.01783317,  858.45722173,  482.92556193,  391.60057987,\n",
       "        268.15960039,  337.20033745,  287.16867   ,  348.33758192,\n",
       "        506.00784506,  369.61471679,  397.46221984,  397.50688676,\n",
       "        403.18446158,  282.82169028,  509.87782519,  395.19791255,\n",
       "        318.57035219,  562.396193  ,  283.40826101,  446.72933654,\n",
       "        322.10827303,  517.48722031,  148.92046549,  332.23203396,\n",
       "        440.46188495,  317.49713832,  362.23752565,  202.75224645,\n",
       "        306.13853819,  446.60282325,  520.83297684,  233.64160384,\n",
       "        212.28502688,  363.22032425,  297.04566779,  222.20321144,\n",
       "        256.49642386,  129.73724465,  422.34831972,  322.09782959,\n",
       "        402.91624521,  493.44389927,  592.01102798,  357.76962464,\n",
       "        484.66918444,  761.11956048,  315.34953837,  444.63383031,\n",
       "        188.49257806,  312.47811604,  491.80944818,  487.59717949,\n",
       "        418.57469677,  337.30039471,  558.71831817,  473.00952178,\n",
       "        662.74425618,  538.81788354,  300.86005371,  748.09336506,\n",
       "        776.55454498,  679.70506563,  510.40696167,  285.91231625,\n",
       "        131.00769754,  336.9214451 ,  390.94480676,  557.23753684,\n",
       "        288.96487928,  350.35875722,  362.40374045,  424.72917286,\n",
       "        417.24632609,  353.58086346,  571.511048  ,  403.01157398,\n",
       "        415.05767515,  456.68690936,  180.18515183,  337.43894565,\n",
       "        191.18766693,  310.37748958,  346.9909698 ,  271.17428919,\n",
       "        435.03511348,  274.6680063 ,  313.34591224,  394.52319539,\n",
       "        591.94461438,  452.58382849,  417.69535552,  277.63283145,\n",
       "        369.09682733,  358.17916612,  401.21144177,  302.15036473,\n",
       "        292.75908883,  694.48846699,  363.98627751,  505.03446294,\n",
       "        335.57846788,  511.9440794 ,  504.84946718,  334.93925063,\n",
       "        355.68519628,  470.4743024 ,  310.00662105,  523.96801363,\n",
       "        519.21056015,  576.43872121,  504.04177604,  550.1522979 ,\n",
       "        454.47651923,  375.05182012,  536.55622567,  225.94037644,\n",
       "        379.218912  ,  795.64337721,  281.73727149,  721.21616624,\n",
       "        353.95402004,  660.2618767 ,  477.21361749,  377.58798735,\n",
       "        409.57330189,  408.01454004,  723.10704322,  623.04753042,\n",
       "        460.23442565,  490.17379904,  481.47271445,  294.94914879,\n",
       "        367.23917219,  318.6300414 ,  235.49330511,  710.70662323,\n",
       "        349.12565108,  381.00266059,  447.9042577 ,  215.90562519,\n",
       "        486.47451375,  384.34660759,  329.72689377,  306.70805867,\n",
       "        342.46816114,  631.28261626,  300.85689306,  706.83509462,\n",
       "        392.1201036 ,  327.89885779,  362.78392714,  444.40754254,\n",
       "        490.09800614,  324.11539687,  287.97400002,  348.11727735,\n",
       "        556.17249079,  214.82443125,  551.32025646,  589.55415681,\n",
       "        299.93405283,  595.98393672,  283.49694414,  442.87905839,\n",
       "        593.446415  ,  338.95393634,  521.45863576,  266.41802496,\n",
       "        577.40759384,  812.38782322,  438.02778323,  420.21565422,\n",
       "        295.16803597,  593.97304541,  144.10200353,  332.70910773,\n",
       "        295.03169547,  389.23410887,  290.65500972,  636.44289575,\n",
       "        507.87036091,  329.21026184,  283.52669692,  358.0691427 ,\n",
       "        442.89057461,  383.45057271,  241.62962671,  454.81527967,\n",
       "        391.74875027,  451.63715232,  244.15516297,  238.89517788,\n",
       "        613.41963909,  282.76721061,  391.15653422,  614.19439095,\n",
       "        485.75555222,  400.90567578,  389.42697918,  449.62607809,\n",
       "        519.33904391,  327.76571675,  457.14449571,  319.01801493,\n",
       "        286.53720685,  337.64721025,  307.20031212, 1195.49260851,\n",
       "        386.05972958,  439.2985327 ,  563.87340502,  562.36805416,\n",
       "        275.70946349,  274.79703882,  327.88009296,  602.69382739,\n",
       "        346.95947502,  288.54534532,  450.51885364,  578.66985197,\n",
       "        293.78311464,  344.66588086,  281.6514019 ,  483.3431741 ,\n",
       "        118.82870677,  502.472534  ,  249.45397799,  357.71923981,\n",
       "        611.6196181 ,  357.02597314,  316.65328333,  435.95815406,\n",
       "        424.32332193,  331.71773416,  459.76577784,  559.25867865,\n",
       "        483.61803255,  510.04195273,  623.76981804,  507.79936041,\n",
       "        380.48727741,  328.56954268,  390.17282864,  329.74652363,\n",
       "        352.66719465,  376.08823019,  345.472382  ,  440.93427529,\n",
       "        671.53792752,  279.37404564,  537.01261823,  296.89786104,\n",
       "        244.84957823,  513.75511041,  371.83517257,  331.38545366,\n",
       "        307.66858947,  305.09469238,  148.32389235,  422.67654702,\n",
       "        406.66325504,  363.269417  ,  674.88573246,  609.23690895,\n",
       "        305.6736561 ,  369.65336984,  354.52922162,  317.61768408,\n",
       "        512.64985783,  885.60790087,  388.99702595,  193.86966652,\n",
       "        320.56835519,  133.79054144,  268.09859028,  389.89067944,\n",
       "        364.62482935,  443.97053348,  398.21097726,  334.96670516,\n",
       "        251.5474192 ,  411.65633644,  402.66129883,  485.28136553,\n",
       "        324.56552688,  289.21208063,  243.34471251,  397.13840391,\n",
       "        435.96034739,  623.73183888,  531.87188377,  254.42645319,\n",
       "        234.49019282,  649.37680848,  314.19875489,  536.2335888 ,\n",
       "        114.57301821,  435.36288886,  517.21066687,  238.60894663,\n",
       "        333.7869315 ,  378.69089314,  250.45133903,  366.56171113,\n",
       "        308.52758341,  307.76429841,  449.00445872,  380.36783044,\n",
       "        393.33044187,  353.02082969,  396.20045166,  609.43241458,\n",
       "        279.33672119,  265.79814466,  495.85620532,  302.05771614,\n",
       "        281.80822542,  340.56944025,  451.89775627,  289.74324218,\n",
       "        395.29838945,  312.36609569,  491.71087697,  242.58166731,\n",
       "        386.95719799,  388.35852963,  671.9551517 ,  273.86563686,\n",
       "        385.17582393,  394.07134017,  356.39390333,  345.88326252,\n",
       "        751.681558  ,  533.97855948,  215.92797122,  300.91629189,\n",
       "        366.66897371,  351.77652678,  748.03278796,  392.57682775,\n",
       "        260.23030564,  266.78271829,  308.11016821,  737.52992712,\n",
       "        362.73752182,  454.29453347,  341.10672137,  390.56378746,\n",
       "        514.84565683,  258.31474006,  328.84519911,  270.22941439,\n",
       "        437.08853206,  313.52064065,  242.10562656,  774.79062796,\n",
       "        518.55276662,  164.88845202,  322.15024451,  150.17991161,\n",
       "        486.28768567,  533.40579966,  153.2840677 ,  260.43853794,\n",
       "        452.28812079,  198.60837856,  448.47345551,  287.94141697,\n",
       "        319.59594852,  266.78467929,  373.22089413,  349.27043076,\n",
       "        920.47824064,  417.70132598,  451.60314398,  433.80334413,\n",
       "        279.21810174,  267.78037299,  268.87160639,  367.69892445,\n",
       "        458.80984912,  452.81074402,  401.54773527,  326.89692602,\n",
       "        663.5980862 ,  280.55755883,  593.39140773,  571.78349539,\n",
       "        385.95996297,  227.17110037,  576.7800151 ,  344.92753951,\n",
       "        278.95831754,  397.2165079 ,  361.69135767,  283.35670438,\n",
       "        333.50284388,  394.29544438,  108.18014962,  340.99123864,\n",
       "        439.21135341,  411.99169073,  546.80812958,  441.67783917,\n",
       "        395.63170644,  443.01860749,  533.92162571,  423.76832901,\n",
       "        851.54729483,  559.73889538,  497.69916608,  419.89181412,\n",
       "        407.45574797,  718.16508114,  499.34819261,  668.05523978,\n",
       "        451.22480474,  402.11146985,  352.48980947,  342.18071728,\n",
       "        351.14476182,  236.78062636,  358.98681736,  260.28067637,\n",
       "        723.58594883,  414.65655062,  432.92577907,  575.02230937,\n",
       "        435.13514487,  328.91429936,  542.36343253,  815.5410628 ,\n",
       "        352.46979584,  464.41846944,  257.10537867,  301.87709878,\n",
       "        619.45460206,  330.3955592 ,  538.2282557 ,  424.40966947,\n",
       "        457.98380199,  726.84178332,  317.02672229,  584.3199748 ,\n",
       "        322.09765116,  413.6414338 ,  241.25950875,  291.9030914 ,\n",
       "        759.00522782,  624.66035633,  395.44252974,  379.84338991,\n",
       "        328.88316518,  685.31527861,  558.08220004,  305.37304052,\n",
       "        359.44916182,  349.13734497,  281.65096357,  452.16886348,\n",
       "        602.67889666,  434.80923696,  387.68564382,  446.88648813,\n",
       "        530.03692397,  550.41537369,  369.77523981,  278.34355957,\n",
       "        543.1608307 ,  521.10940035,  421.86381548,  322.56543233,\n",
       "        589.8973598 ,  230.37224884,  472.89572826,  436.42459716,\n",
       "        516.37264206,  387.23850891,  548.52957375,  368.87876473,\n",
       "        376.04455949,  314.72973868,  345.21195255,  366.7417706 ,\n",
       "        544.06240037,  374.25902177,  410.14130226,  338.42197516,\n",
       "        335.73571238,  401.86460706,  412.53070762,  481.55707043,\n",
       "        302.7659414 ,  804.96680321,  614.91018866,  439.28353584,\n",
       "        383.32299257,  389.48650284,  355.96198771,  287.30450105,\n",
       "       1035.37140225,  169.36997455,  357.08021938,  481.96266942,\n",
       "        294.2105194 ,  488.45389042,  387.71879277,  497.8181735 ,\n",
       "        471.52385545,  745.07367582,  284.05450601,  442.68404377,\n",
       "        620.7083056 ,  432.84416026,  519.65379861,  208.46881706,\n",
       "        536.94373371,  470.50543006,  338.59160758,  506.25481754,\n",
       "        390.49327321,  309.1007276 ,  370.55132453,  542.02401416,\n",
       "        381.71576196,  734.82690476,  260.32778143,  283.07782674,\n",
       "        309.4278022 ,  505.0278793 ,  597.01304794,  271.61204029,\n",
       "        674.56246235,  412.07759963,  394.54652836,  628.9910507 ,\n",
       "        489.8245893 ,  569.56308015,  536.70515553,  417.24320685,\n",
       "        391.06658713,  541.43677384,  579.39968269,  419.39070179,\n",
       "        357.03762601,  326.28394417,  244.07447967,  342.51205467,\n",
       "        537.43323624,  295.16698674,  307.04322233,  346.45517682,\n",
       "        293.57352044,  302.04101708,  356.65311229,  608.4672215 ,\n",
       "        288.5118095 ,  510.73076071,  492.27433441,  564.42980873,\n",
       "        480.71114207,  229.45486985,  309.13637588,  334.88736467,\n",
       "        517.27400642,  293.88744331,  757.85001194,  430.40080781,\n",
       "        345.95290089,  493.37521923,  913.75862784,  349.15163402,\n",
       "        553.39991588,  378.00714525,  409.58400645,  437.15425321,\n",
       "        739.45113034,  490.00172429,  340.89968919,  312.49872907,\n",
       "        656.67889845,  318.69260742,  374.61476658,  340.56600464,\n",
       "        460.36255306,  380.0597176 ,  492.83627214,  360.53373812,\n",
       "        329.21458007,  471.55254591,  715.88007544,  440.21245273,\n",
       "        239.5725168 ,  375.29636058,  495.93595549,  424.45815308,\n",
       "        291.40213385,  374.01510964,  475.65649989,  305.44295197,\n",
       "        508.70792102,  243.36121885,  416.26777631,  260.22215751,\n",
       "        786.94247155,  279.87612125,  315.3880421 ,  407.76138402,\n",
       "        428.29030396,  413.24941267,  620.21559718,  532.64435955,\n",
       "        518.34312429,  510.78806936,  552.73513315,  825.27903742,\n",
       "        520.06780616,  440.47002918,  445.8719125 ,  336.16044404,\n",
       "        292.08977812,  306.4010915 ])"
      ]
     },
     "execution_count": 36,
     "metadata": {},
     "output_type": "execute_result"
    }
   ],
   "source": [
    "test_housing_data_pred"
   ]
  },
  {
   "cell_type": "code",
   "execution_count": 29,
   "metadata": {},
   "outputs": [],
   "source": [
    "kaggle_test = pd.DataFrame(test_housing_data[\"id\"])"
   ]
  },
  {
   "cell_type": "code",
   "execution_count": 35,
   "metadata": {},
   "outputs": [
    {
     "name": "stderr",
     "output_type": "stream",
     "text": [
      "<ipython-input-35-27d71b2e4506>:1: RuntimeWarning: overflow encountered in exp\n",
      "  kaggle_test[\"saleprice\"] = np.exp(test_housing_data_pred)\n"
     ]
    }
   ],
   "source": [
    "kaggle_test[\"saleprice\"] = np.exp(test_housing_data_pred)"
   ]
  },
  {
   "cell_type": "code",
   "execution_count": 34,
   "metadata": {},
   "outputs": [],
   "source": [
    "kaggle_test.to_csv('submit_kaggle_chinxia.csv', index=False)"
   ]
  },
  {
   "cell_type": "markdown",
   "metadata": {},
   "source": [
    "**Analysis: Train score, test score and cross val score are similar with about 87-88%, which indicates the model prediction is reliable.**\n",
    "\n",
    "Both our train and test score is about 0.87, which indicates that 87% of the variability in sale price can be explained by the x predictors in our model. While it is observed that the train score is higher than the test score. This might indicate that there is a non distributed proportion of sample split in the test and train set resulting in the test set having an overly-representated sample. Thus, the sample in the test sets fair better in being predicted.\n",
    "\n",
    "On the other hand, it is observed that the train and test score is higher than the cross val score. This observation is possible as the cross val score is a better estimator as it performs k-fold cross validation by performing multiple train/test splits across different splits of the data, which would be a more representative score in comparison with the score of a single train/test split. Nevertheless, the score of the single train/test split of about 0.87 with the cross val score of 0.867 indicates the score is similar and thus, the model prediction is reliable."
   ]
  },
  {
   "cell_type": "markdown",
   "metadata": {},
   "source": [
    "#### 4.5.1 To check out and interpret our model coefficient and intercept"
   ]
  },
  {
   "cell_type": "code",
   "execution_count": null,
   "metadata": {},
   "outputs": [],
   "source": [
    "# Plot of coefficients of X predictors\n",
    "pd.Series(((np.exp(ridge.coef_)-1)*100), index = x_data.columns).plot.barh(figsize=(10, 7))\n",
    "plt.xlabel(\"Coefficients (%)\", fontdict = {'fontsize' : 15})\n",
    "plt.ylabel(\"X predictors\", fontdict = {'fontsize' : 15})\n",
    "plt.yticks(fontsize=12)\n",
    "plt.xticks(fontsize=12)\n",
    "plt.title(('Coefficients of X predictors from Ridge Regression model\\n'), weight = 'bold', fontdict = {'fontsize' : 18});"
   ]
  },
  {
   "cell_type": "code",
   "execution_count": null,
   "metadata": {},
   "outputs": [],
   "source": [
    "# The coefficients of the X variable in our model\n",
    "ridge_coefs = pd.DataFrame({'X variable':X_train.columns,\n",
    "                            'coefficients':ridge.coef_,\n",
    "                            'exp_coef': np.exp(ridge.coef_),\n",
    "                            'coef (%)':((np.exp(ridge.coef_)-1)*100)})\n",
    "ridge_coefs.sort_values('coef (%)', inplace=True, ascending=False)\n",
    "ridge_coefs.head(20)"
   ]
  },
  {
   "cell_type": "code",
   "execution_count": null,
   "metadata": {},
   "outputs": [],
   "source": [
    "# The intercept in our model\n",
    "ridge.intercept_"
   ]
  },
  {
   "cell_type": "markdown",
   "metadata": {},
   "source": [
    "**Interpretation of coefficients and intercept**\n",
    "\n",
    "**Coefficients**\n",
    "\n",
    "While holding all else constant, it is interpreted as for every 1 unit increase in the x predictor, we expect to observe an increase of the value percentage in y target variable. While for the interaction term, an increase in 1 unit in the x predictor, we expect to observe an increase of the value percentage in y target variable and an increase in the other x variable that it has interaction term with. \n",
    "\n",
    "With reference to table above, a unit increase in the above grade living area (gr_liv_area) increases 11.18% in sale price. Thus the top 5 features the sales price is heavily affected by the changes are above grade living area, overall quality of the house, ms zoning at Residential Low Density, the interaction of total basement area and the quality of the basement as well as the fireplace quality. \n",
    "\n",
    "The two zones that the sale price is affected mainly at Residential Low Density and Floating Village Residential with each unit change resulting in 6.5% and 3.3% increase in sale price compared to the other zones with 0-1.8% increase. Interestingly, kitchen quality, garage area and heating quality plays a significant role in sale price that results in an increase of 3.2-4.8% in sale price for every unit increase. Meanwhile, there are a few features that has very low correlation such as basement quality and full bath that has very minimum changes to sales prices. This is in particular with full bath that causes a decrease in sale price by 1% for each unit increase despite full bath is one of the top consideration of a buyer.\n",
    "\n",
    "Therefore based on the model prediction, It is best to have a minimum amount of full bath with a focus on the features of the residential zome of low density or floating village, above grade living area, overall quality of the house, fireplace as well as the basement area and its quality. As these features heavily impacted the change in saleprice of the house.\n",
    "\n",
    "**Intercept**\n",
    "\n",
    "When the x predictors are at zero, we expect the log(y) to intercept at 12.011. \n"
   ]
  },
  {
   "cell_type": "markdown",
   "metadata": {},
   "source": [
    "#### 4.5.2 To evaluate how our model fair in prediction and also with null model"
   ]
  },
  {
   "cell_type": "code",
   "execution_count": null,
   "metadata": {},
   "outputs": [],
   "source": [
    "print(f'MSE on train set: {mean_squared_error(np.exp(y_train), np.exp(ridge.predict(z_train)))}')\n",
    "print(f'MSE on test set: {mean_squared_error(np.exp(y_val),np.exp(ridge.predict(z_val)))}')"
   ]
  },
  {
   "cell_type": "markdown",
   "metadata": {},
   "source": [
    "**Analysis: The MSE represents the average distance squared from the predicted value. Based on the results above, the MSE for train set and test set are similar, which means that the model is not likely to overfit to the data.**"
   ]
  },
  {
   "cell_type": "code",
   "execution_count": null,
   "metadata": {},
   "outputs": [],
   "source": [
    "print(f'RMSE on train set: {np.sqrt(mean_squared_error(np.exp(y_train), np.exp(ridge.predict(z_train))))}')\n",
    "print(f'RMSE on test set: {np.sqrt(mean_squared_error(np.exp(y_val),np.exp(ridge.predict(z_val))))}')"
   ]
  },
  {
   "cell_type": "markdown",
   "metadata": {},
   "source": [
    "**Analysis: Based on the RSME value, it is approximately +- 23000 unit differences from the predicted value for the model**"
   ]
  },
  {
   "cell_type": "code",
   "execution_count": null,
   "metadata": {
    "scrolled": true
   },
   "outputs": [],
   "source": [
    "print(f'R^2 on train set: {r2_score(np.exp(y_train), np.exp(ridge.predict(z_train)))}')\n",
    "print(f'R^2 on test set: {r2_score(np.exp(y_val), np.exp(ridge.predict(z_val)))}')"
   ]
  },
  {
   "cell_type": "markdown",
   "metadata": {},
   "source": [
    "**Analysis: Based on the R2 value, 89% of the observed variation can be explained by the model's inputs.**"
   ]
  },
  {
   "cell_type": "code",
   "execution_count": null,
   "metadata": {},
   "outputs": [],
   "source": [
    "print(f'MSE of baseline model: {mean_squared_error(np.exp(y_val), [np.mean(np.exp(y_train))] * len(y_val))}')"
   ]
  },
  {
   "cell_type": "code",
   "execution_count": null,
   "metadata": {},
   "outputs": [],
   "source": [
    "print(f'R^2 of baseline model: {r2_score(np.exp(y_val), [np.mean(np.exp(y_train))] * len(y_val))}')"
   ]
  },
  {
   "cell_type": "markdown",
   "metadata": {},
   "source": [
    "**Analysis: With reference to the MSE and R^2 value of the baseline model, our model is a fairly good model with an R^2 value with 0.89 and a much smaller MSE value compared with the baseline model with R^2 value of 0 and a very big MSE value.** "
   ]
  },
  {
   "cell_type": "markdown",
   "metadata": {},
   "source": [
    "#### 4.5.3 To check on the LINE Assumptions"
   ]
  },
  {
   "cell_type": "markdown",
   "metadata": {},
   "source": [
    "- L - Linear relationship\n",
    "- I - Independent errors\n",
    "- N - Normally distributed errors\n",
    "- E - Equal variance of errors (homoscedasticity)\n",
    "- M - No Multicollinearity/Independence of Predictors"
   ]
  },
  {
   "cell_type": "code",
   "execution_count": null,
   "metadata": {
    "scrolled": false
   },
   "outputs": [],
   "source": [
    "# For linear relationship\n",
    "plt.figure(figsize = (10,5))\n",
    "plt.scatter(train_housing_data[\"gr_liv_area\"], y_data, s = 1)\n",
    "plt.xlabel(\"above grade living area (sqft)\", fontdict = {'fontsize' : 12})\n",
    "plt.ylabel(\"log_sale price\", fontdict = {'fontsize' : 12})\n",
    "plt.title(('Distribution of above grade living area with log_scale price\\n'), weight = 'bold', fontdict = {'fontsize' : 15});"
   ]
  },
  {
   "cell_type": "markdown",
   "metadata": {},
   "source": [
    "**Analysis: The scatterplot indicates that the  samples are approximately normally distributed.**"
   ]
  },
  {
   "cell_type": "code",
   "execution_count": null,
   "metadata": {},
   "outputs": [],
   "source": [
    "# make y predictions\n",
    "y_pred = ridge.predict(z_val)"
   ]
  },
  {
   "cell_type": "markdown",
   "metadata": {},
   "source": [
    "**For independence**\n",
    "Yes, the sample are assumed to be indepedent."
   ]
  },
  {
   "cell_type": "code",
   "execution_count": null,
   "metadata": {},
   "outputs": [],
   "source": [
    "# Normally distributed\n",
    "residuals = np.exp(y_val) - np.exp(y_pred)\n",
    "plt.hist(residuals, bins=50);\n",
    "plt.xlabel(\"log_scale price\", fontdict = {'fontsize' : 12})\n",
    "plt.ylabel(\"log_sale price\", fontdict = {'fontsize' : 12})\n",
    "plt.title(('Distribution of above residuals of log_sale price\\n'), weight = 'bold', fontdict = {'fontsize' : 15});"
   ]
  },
  {
   "cell_type": "markdown",
   "metadata": {},
   "source": [
    "**Analysis: The histogram indicates that the samples are normally distributed.**"
   ]
  },
  {
   "cell_type": "code",
   "execution_count": null,
   "metadata": {},
   "outputs": [],
   "source": [
    "# Evenly variance of error\n",
    "plt.scatter(np.exp(y_pred), residuals, s = 3)\n",
    "plt.axhline(0, color = 'orange')\n",
    "plt.xlabel(\"log_sale price\", fontdict = {'fontsize' : 12})\n",
    "plt.ylabel(\"residuals\", fontdict = {'fontsize' : 12})\n",
    "plt.title(('Distribution of residuals of log_sale price\\n'), weight = 'bold', fontdict = {'fontsize' : 15});"
   ]
  },
  {
   "cell_type": "markdown",
   "metadata": {},
   "source": [
    "**Analysis: The residuals are approximately evenly distributed**"
   ]
  },
  {
   "cell_type": "code",
   "execution_count": null,
   "metadata": {},
   "outputs": [],
   "source": [
    "# Multicolinearity\n",
    "plt.figure(figsize = [40,50])\n",
    "res = sns.heatmap(train_housing_data.corr(), annot = True, mask = np.triu(train_housing_data.corr()), vmin = -1, vmax =1, cmap = 'coolwarm', fmt='.1g')\n",
    "sns.set(font_scale=1.8)"
   ]
  },
  {
   "cell_type": "markdown",
   "metadata": {},
   "source": [
    "**Analysis: There are no strong correlation between x-predictors unless within the nominal categorical data or there is an interaction term associated and developed using that x-predictors**"
   ]
  },
  {
   "cell_type": "markdown",
   "metadata": {},
   "source": [
    "## Conclusions "
   ]
  },
  {
   "cell_type": "markdown",
   "metadata": {},
   "source": [
    "In conclusion, we have addressed our problem statement stated in the beginning, we have first performed data cleaning for the datasets followed by exploring and visualizing the data using exploratory data analysis. We then performed extensive feature engineering on various attributes that have resulted in an increase correlation to the house prices, such as total basement area and basement quality, garage area and garage finish, fireplace quality and heating quality. \n",
    "\n",
    "Based on the engineered data, we built three linear regression models: Linear Regression, Lasso and Ridge. The three models yield similar and stable results for the cross validation score. We have chosen Ridge as our model as the cross validation score for this model is the highest out of the three, and this model is useful for our analysis in which we have many predictors that may have a high degree of Multicollinearity between each other. The model accomplished an R2 score of approximately 89% on training sets and 90% on training-validation sets with an RMSE of 23395 and 22741 respectively. \n",
    "\n",
    "Using this model, we are able to identify the key features that are affecting the changes of the sale price of the house and utilise it to structure key features into future affordable and marketable homes."
   ]
  },
  {
   "cell_type": "markdown",
   "metadata": {},
   "source": [
    "## Recommendations"
   ]
  },
  {
   "cell_type": "markdown",
   "metadata": {},
   "source": [
    "Overall, the top 5 features of the property that will affect the changes of the sale price are above grade living area, overall quality of the house, ms zoning at Residential Low Density, the interaction of total basement area and the quality of the basement as well as the fireplace quality. Interestingly, kitchen quality, garage area and heating quality were also identified as key features that enhance the sale price of the house. Meanwhile, it is best to have a minimum amount of full bath required in the house as it causes a decrease in sale price by 1% for each unit increase although full bath is listed as one of the buyer's feature consideration.\n",
    "\n",
    "With these insights, our construction company in Ames Iowa is able to utilise this domain knowledge to build a affordable and desirable houses and advise homeowners to renovate their house focusing on key features that will increase their sale price, as well as estimate and predict the sale price given the features."
   ]
  },
  {
   "cell_type": "markdown",
   "metadata": {},
   "source": [
    "## References"
   ]
  },
  {
   "cell_type": "markdown",
   "metadata": {},
   "source": [
    "[1] \"From Linear Regression to Ridge Regression, the Lasso, and the Elastic Net,\"2020. [Online]. Available: https://towardsdatascience.com/from-linear-regression-to-ridge-regression-the-lasso-and-the-elastic-net-4eaecaf5f7e6 [Accessed: Apr. 8. 2021]."
   ]
  }
 ],
 "metadata": {
  "kernelspec": {
   "display_name": "Python 3",
   "language": "python",
   "name": "python3"
  },
  "language_info": {
   "codemirror_mode": {
    "name": "ipython",
    "version": 3
   },
   "file_extension": ".py",
   "mimetype": "text/x-python",
   "name": "python",
   "nbconvert_exporter": "python",
   "pygments_lexer": "ipython3",
   "version": "3.8.5"
  }
 },
 "nbformat": 4,
 "nbformat_minor": 4
}
