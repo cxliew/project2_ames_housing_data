{
 "cells": [
  {
   "cell_type": "markdown",
   "metadata": {},
   "source": [
    "# Project 2A: Ames Housing Data & Kaggle Challenge"
   ]
  },
  {
   "cell_type": "markdown",
   "metadata": {},
   "source": [
    "## Problem Statement"
   ]
  },
  {
   "cell_type": "markdown",
   "metadata": {},
   "source": [
    "Due to the increasing population in Ames Iowa, there is an increasing demand for housing for the residents in Ames Iowa. As it is the same in many place, the sales price of a house typically will vary according to its types and features. As a data scientist working in a private construction company in Ames Iowa, we are interested to first explore the association between residential features and its sales prices. This will allows us to gain an insight to optimize the construction plan to include those features that are correlated to prices, which will translate to higher sales profits."
   ]
  },
  {
   "cell_type": "markdown",
   "metadata": {},
   "source": [
    "### Overall Contents:\n",
    "- [Background](#1.-Background) **(In this notebook)**\n",
    "- [Data Cleaning](#2.-Data-Cleaning) **(In this notebook)**\n",
    "- Exploratory Data Analysis\n",
    "- Modeling\n",
    "- Conclusions and Recommendations"
   ]
  },
  {
   "cell_type": "markdown",
   "metadata": {},
   "source": [
    "## 1. Background"
   ]
  },
  {
   "cell_type": "markdown",
   "metadata": {},
   "source": [
    "Houses styles in United states varies across different parts of the states depending on the location you are in. In 1991, many of the houses in United States are landed property with 60% of the USA land is a private land,[[1]](https://www.summitpost.org/public-and-private-land-percentages-by-us-states/186111) thus making the construction a lucrative business. As the human population are increasing,this increases the demand of the need of new houses to be build and existing houses to be remodeled making the knowledge of consumer desirables features an important asset.\n",
    "\n",
    "The need of new houses also extend to Ames, Iowa, which is a city in Story County,Iowa,[[2]](https://www.niche.com/places-to-live/ames-story-ia/) which is located in the midwest region of the United States. The housing unit with owner-occupied in 2019 is 40.7% with a median value of these housing units of USD205,900.[[3]](https://www.census.gov/quickfacts/amescityiowa) With the home appreaction in Ames increases quickly up to 28.1% in the last 10 years [[4]](https://www.bestplaces.net/housing/city/iowa/ames), Awes, Iowa faced a challenge of purchasing an affordable housing resulting in an increase in remodeling run down house leading to the disinterest of developers in Ames city[[5]](https://www.thegazette.com/regional-development/iowas-affordable-housing-struggle/). With the need of more housing, our private construction company in Ames, Iowa would like to gain further insight to explore the association between residential that are correlated to prices. This allows the company to integrate this domain knowledge of consumer desirables features to build more affordable housing, thus translating to higher sales profits. Hence, as a data scientist in this company, I will be handling on this project and our goals are the following:\n",
    "\n",
    "1. To identify the features that are highly correlated to sale prices (from both domain knowledge and technical analysis)\n",
    "\n",
    "2. To build a good model to estimate and predict the sales price of housing in Ames Iowa\n",
    "\n",
    "By knowing what are the key features that affect the sales price, our construction company will be able to use this insight to make informed business decisions, such as to build desirable affordable houses that are highly marketable and advise potential house owners to renovate their house to include features that are likely to increase sales price prior selling.\n"
   ]
  },
  {
   "cell_type": "markdown",
   "metadata": {},
   "source": [
    "### 1.1 Datasets\n",
    "\n",
    "The dataset used for this analysis are as followed:-\n",
    "\n",
    "* [`train`]: Ames Housing Train Data - labeled as housing_data\n",
    "* [`test `]: Ames Housing Test Data - labeled as test_housing_data\n",
    "\n",
    "Data source: [Ames Housing Data](https://www.kaggle.com/c/dsi-us-11-project-2-regression-challenge/data) obtained from database [Ames Iowa Assessor's Office](http://www.cityofames.org/assessor/)\n",
    "\n",
    "\n",
    "The dataset contains the individual residential properties features that were sold in Ames, Iowa between 2006 to 2010. The data consists of 2051 observations with 81 features in which 14 discrete, 20 continous, 22 nominal and 23 ordinal. The main features are as followed:-\n",
    "\n",
    "1. Parcel identification number (PID)\n",
    "2. Type and style of dwelling\n",
    "3. Type of zoning\n",
    "4. Land lot (frontage, area, road or alley access, shape, flatness, configuration, slope)\n",
    "5. Physical locations (neighbourhood and amenities proximity )\n",
    "6. Overall house condition and quality\n",
    "7. Construction & remodel date\n",
    "8. Presence of utilities\n",
    "9. Housing structure\n",
    "  * Roof style, materials\n",
    "  * Exterior materials, quality and condition\n",
    "  * Masonry veneer type and area\n",
    "  * Type of foundation\n",
    "10. House layout\n",
    "  * Area (square feet) (first/second Floor, low quality of finished floors, above grade (ground) living area)\n",
    "  * Basement (quality, condition, exposure, finished/unfinished/total area, full/half Bathrooms)\n",
    "  * Heating (type, quality and condition)\n",
    "  * Central air-conditioning\n",
    "  * Electrical system\n",
    "  * Above grade (ground) utilities\n",
    "      * Full/half bathrooms\n",
    "      * Bedrooms\n",
    "      * Kitchen (number and its quality)\n",
    "      * Total rooms (does not include bathrooms)\n",
    "      * Fireplaces (number and its quality)\n",
    "  * Home functionality\n",
    "  * Garage (location, year built, interior finish, total area, car capacity area, quality, condition)\n",
    "  * Exterior\n",
    "      * Paved driveway\n",
    "      * Wood deck area\n",
    "      * Porch area (square feet) (open, enclosed, three season, screen)\n",
    "      * Pool (area, quality)\n",
    "      * Fence quality\n",
    "      * Miscellaneous features\n",
    "11. House value\n",
    "  * Value of miscellneous feature\n",
    "  * Month, year sold\n",
    "  * Type of sale\n",
    "  * Sale price ($$)"
   ]
  },
  {
   "cell_type": "markdown",
   "metadata": {},
   "source": [
    "## 2. Data Cleaning"
   ]
  },
  {
   "cell_type": "markdown",
   "metadata": {},
   "source": [
    "### 2.1 Libraries Import"
   ]
  },
  {
   "cell_type": "code",
   "execution_count": 6,
   "metadata": {},
   "outputs": [],
   "source": [
    "# Imports:\n",
    "import pandas as pd\n",
    "import numpy as np"
   ]
  },
  {
   "cell_type": "markdown",
   "metadata": {},
   "source": [
    "### 2.2 Data Import"
   ]
  },
  {
   "cell_type": "code",
   "execution_count": 7,
   "metadata": {},
   "outputs": [],
   "source": [
    "# Import of Ames Housing Train Data from csv\n",
    "housing_data = pd.read_csv('../datasets/train.csv')\n",
    "test_housing_data = pd.read_csv('../datasets/test.csv')"
   ]
  },
  {
   "cell_type": "markdown",
   "metadata": {},
   "source": [
    "### 2.3 Data Cleaning"
   ]
  },
  {
   "cell_type": "markdown",
   "metadata": {},
   "source": [
    "### 2.3.1 Overview"
   ]
  },
  {
   "cell_type": "code",
   "execution_count": 8,
   "metadata": {
    "scrolled": true
   },
   "outputs": [
    {
     "data": {
      "text/html": [
       "<div>\n",
       "<style scoped>\n",
       "    .dataframe tbody tr th:only-of-type {\n",
       "        vertical-align: middle;\n",
       "    }\n",
       "\n",
       "    .dataframe tbody tr th {\n",
       "        vertical-align: top;\n",
       "    }\n",
       "\n",
       "    .dataframe thead th {\n",
       "        text-align: right;\n",
       "    }\n",
       "</style>\n",
       "<table border=\"1\" class=\"dataframe\">\n",
       "  <thead>\n",
       "    <tr style=\"text-align: right;\">\n",
       "      <th></th>\n",
       "      <th>Id</th>\n",
       "      <th>PID</th>\n",
       "      <th>MS SubClass</th>\n",
       "      <th>MS Zoning</th>\n",
       "      <th>Lot Frontage</th>\n",
       "      <th>Lot Area</th>\n",
       "      <th>Street</th>\n",
       "      <th>Alley</th>\n",
       "      <th>Lot Shape</th>\n",
       "      <th>Land Contour</th>\n",
       "      <th>...</th>\n",
       "      <th>Screen Porch</th>\n",
       "      <th>Pool Area</th>\n",
       "      <th>Pool QC</th>\n",
       "      <th>Fence</th>\n",
       "      <th>Misc Feature</th>\n",
       "      <th>Misc Val</th>\n",
       "      <th>Mo Sold</th>\n",
       "      <th>Yr Sold</th>\n",
       "      <th>Sale Type</th>\n",
       "      <th>SalePrice</th>\n",
       "    </tr>\n",
       "  </thead>\n",
       "  <tbody>\n",
       "    <tr>\n",
       "      <th>0</th>\n",
       "      <td>109</td>\n",
       "      <td>533352170</td>\n",
       "      <td>60</td>\n",
       "      <td>RL</td>\n",
       "      <td>NaN</td>\n",
       "      <td>13517</td>\n",
       "      <td>Pave</td>\n",
       "      <td>NaN</td>\n",
       "      <td>IR1</td>\n",
       "      <td>Lvl</td>\n",
       "      <td>...</td>\n",
       "      <td>0</td>\n",
       "      <td>0</td>\n",
       "      <td>NaN</td>\n",
       "      <td>NaN</td>\n",
       "      <td>NaN</td>\n",
       "      <td>0</td>\n",
       "      <td>3</td>\n",
       "      <td>2010</td>\n",
       "      <td>WD</td>\n",
       "      <td>130500</td>\n",
       "    </tr>\n",
       "    <tr>\n",
       "      <th>1</th>\n",
       "      <td>544</td>\n",
       "      <td>531379050</td>\n",
       "      <td>60</td>\n",
       "      <td>RL</td>\n",
       "      <td>43.0</td>\n",
       "      <td>11492</td>\n",
       "      <td>Pave</td>\n",
       "      <td>NaN</td>\n",
       "      <td>IR1</td>\n",
       "      <td>Lvl</td>\n",
       "      <td>...</td>\n",
       "      <td>0</td>\n",
       "      <td>0</td>\n",
       "      <td>NaN</td>\n",
       "      <td>NaN</td>\n",
       "      <td>NaN</td>\n",
       "      <td>0</td>\n",
       "      <td>4</td>\n",
       "      <td>2009</td>\n",
       "      <td>WD</td>\n",
       "      <td>220000</td>\n",
       "    </tr>\n",
       "    <tr>\n",
       "      <th>2</th>\n",
       "      <td>153</td>\n",
       "      <td>535304180</td>\n",
       "      <td>20</td>\n",
       "      <td>RL</td>\n",
       "      <td>68.0</td>\n",
       "      <td>7922</td>\n",
       "      <td>Pave</td>\n",
       "      <td>NaN</td>\n",
       "      <td>Reg</td>\n",
       "      <td>Lvl</td>\n",
       "      <td>...</td>\n",
       "      <td>0</td>\n",
       "      <td>0</td>\n",
       "      <td>NaN</td>\n",
       "      <td>NaN</td>\n",
       "      <td>NaN</td>\n",
       "      <td>0</td>\n",
       "      <td>1</td>\n",
       "      <td>2010</td>\n",
       "      <td>WD</td>\n",
       "      <td>109000</td>\n",
       "    </tr>\n",
       "    <tr>\n",
       "      <th>3</th>\n",
       "      <td>318</td>\n",
       "      <td>916386060</td>\n",
       "      <td>60</td>\n",
       "      <td>RL</td>\n",
       "      <td>73.0</td>\n",
       "      <td>9802</td>\n",
       "      <td>Pave</td>\n",
       "      <td>NaN</td>\n",
       "      <td>Reg</td>\n",
       "      <td>Lvl</td>\n",
       "      <td>...</td>\n",
       "      <td>0</td>\n",
       "      <td>0</td>\n",
       "      <td>NaN</td>\n",
       "      <td>NaN</td>\n",
       "      <td>NaN</td>\n",
       "      <td>0</td>\n",
       "      <td>4</td>\n",
       "      <td>2010</td>\n",
       "      <td>WD</td>\n",
       "      <td>174000</td>\n",
       "    </tr>\n",
       "    <tr>\n",
       "      <th>4</th>\n",
       "      <td>255</td>\n",
       "      <td>906425045</td>\n",
       "      <td>50</td>\n",
       "      <td>RL</td>\n",
       "      <td>82.0</td>\n",
       "      <td>14235</td>\n",
       "      <td>Pave</td>\n",
       "      <td>NaN</td>\n",
       "      <td>IR1</td>\n",
       "      <td>Lvl</td>\n",
       "      <td>...</td>\n",
       "      <td>0</td>\n",
       "      <td>0</td>\n",
       "      <td>NaN</td>\n",
       "      <td>NaN</td>\n",
       "      <td>NaN</td>\n",
       "      <td>0</td>\n",
       "      <td>3</td>\n",
       "      <td>2010</td>\n",
       "      <td>WD</td>\n",
       "      <td>138500</td>\n",
       "    </tr>\n",
       "  </tbody>\n",
       "</table>\n",
       "<p>5 rows × 81 columns</p>\n",
       "</div>"
      ],
      "text/plain": [
       "    Id        PID  MS SubClass MS Zoning  Lot Frontage  Lot Area Street Alley  \\\n",
       "0  109  533352170           60        RL           NaN     13517   Pave   NaN   \n",
       "1  544  531379050           60        RL          43.0     11492   Pave   NaN   \n",
       "2  153  535304180           20        RL          68.0      7922   Pave   NaN   \n",
       "3  318  916386060           60        RL          73.0      9802   Pave   NaN   \n",
       "4  255  906425045           50        RL          82.0     14235   Pave   NaN   \n",
       "\n",
       "  Lot Shape Land Contour  ... Screen Porch Pool Area Pool QC Fence  \\\n",
       "0       IR1          Lvl  ...            0         0     NaN   NaN   \n",
       "1       IR1          Lvl  ...            0         0     NaN   NaN   \n",
       "2       Reg          Lvl  ...            0         0     NaN   NaN   \n",
       "3       Reg          Lvl  ...            0         0     NaN   NaN   \n",
       "4       IR1          Lvl  ...            0         0     NaN   NaN   \n",
       "\n",
       "  Misc Feature Misc Val Mo Sold Yr Sold  Sale Type  SalePrice  \n",
       "0          NaN        0       3    2010        WD      130500  \n",
       "1          NaN        0       4    2009        WD      220000  \n",
       "2          NaN        0       1    2010        WD      109000  \n",
       "3          NaN        0       4    2010        WD      174000  \n",
       "4          NaN        0       3    2010        WD      138500  \n",
       "\n",
       "[5 rows x 81 columns]"
      ]
     },
     "execution_count": 8,
     "metadata": {},
     "output_type": "execute_result"
    }
   ],
   "source": [
    "# Header of housing_data\n",
    "housing_data.head()"
   ]
  },
  {
   "cell_type": "code",
   "execution_count": 9,
   "metadata": {
    "scrolled": true
   },
   "outputs": [
    {
     "data": {
      "text/html": [
       "<div>\n",
       "<style scoped>\n",
       "    .dataframe tbody tr th:only-of-type {\n",
       "        vertical-align: middle;\n",
       "    }\n",
       "\n",
       "    .dataframe tbody tr th {\n",
       "        vertical-align: top;\n",
       "    }\n",
       "\n",
       "    .dataframe thead th {\n",
       "        text-align: right;\n",
       "    }\n",
       "</style>\n",
       "<table border=\"1\" class=\"dataframe\">\n",
       "  <thead>\n",
       "    <tr style=\"text-align: right;\">\n",
       "      <th></th>\n",
       "      <th>Id</th>\n",
       "      <th>PID</th>\n",
       "      <th>MS SubClass</th>\n",
       "      <th>MS Zoning</th>\n",
       "      <th>Lot Frontage</th>\n",
       "      <th>Lot Area</th>\n",
       "      <th>Street</th>\n",
       "      <th>Alley</th>\n",
       "      <th>Lot Shape</th>\n",
       "      <th>Land Contour</th>\n",
       "      <th>...</th>\n",
       "      <th>3Ssn Porch</th>\n",
       "      <th>Screen Porch</th>\n",
       "      <th>Pool Area</th>\n",
       "      <th>Pool QC</th>\n",
       "      <th>Fence</th>\n",
       "      <th>Misc Feature</th>\n",
       "      <th>Misc Val</th>\n",
       "      <th>Mo Sold</th>\n",
       "      <th>Yr Sold</th>\n",
       "      <th>Sale Type</th>\n",
       "    </tr>\n",
       "  </thead>\n",
       "  <tbody>\n",
       "    <tr>\n",
       "      <th>0</th>\n",
       "      <td>2658</td>\n",
       "      <td>902301120</td>\n",
       "      <td>190</td>\n",
       "      <td>RM</td>\n",
       "      <td>69.0</td>\n",
       "      <td>9142</td>\n",
       "      <td>Pave</td>\n",
       "      <td>Grvl</td>\n",
       "      <td>Reg</td>\n",
       "      <td>Lvl</td>\n",
       "      <td>...</td>\n",
       "      <td>0</td>\n",
       "      <td>0</td>\n",
       "      <td>0</td>\n",
       "      <td>NaN</td>\n",
       "      <td>NaN</td>\n",
       "      <td>NaN</td>\n",
       "      <td>0</td>\n",
       "      <td>4</td>\n",
       "      <td>2006</td>\n",
       "      <td>WD</td>\n",
       "    </tr>\n",
       "    <tr>\n",
       "      <th>1</th>\n",
       "      <td>2718</td>\n",
       "      <td>905108090</td>\n",
       "      <td>90</td>\n",
       "      <td>RL</td>\n",
       "      <td>NaN</td>\n",
       "      <td>9662</td>\n",
       "      <td>Pave</td>\n",
       "      <td>NaN</td>\n",
       "      <td>IR1</td>\n",
       "      <td>Lvl</td>\n",
       "      <td>...</td>\n",
       "      <td>0</td>\n",
       "      <td>0</td>\n",
       "      <td>0</td>\n",
       "      <td>NaN</td>\n",
       "      <td>NaN</td>\n",
       "      <td>NaN</td>\n",
       "      <td>0</td>\n",
       "      <td>8</td>\n",
       "      <td>2006</td>\n",
       "      <td>WD</td>\n",
       "    </tr>\n",
       "    <tr>\n",
       "      <th>2</th>\n",
       "      <td>2414</td>\n",
       "      <td>528218130</td>\n",
       "      <td>60</td>\n",
       "      <td>RL</td>\n",
       "      <td>58.0</td>\n",
       "      <td>17104</td>\n",
       "      <td>Pave</td>\n",
       "      <td>NaN</td>\n",
       "      <td>IR1</td>\n",
       "      <td>Lvl</td>\n",
       "      <td>...</td>\n",
       "      <td>0</td>\n",
       "      <td>0</td>\n",
       "      <td>0</td>\n",
       "      <td>NaN</td>\n",
       "      <td>NaN</td>\n",
       "      <td>NaN</td>\n",
       "      <td>0</td>\n",
       "      <td>9</td>\n",
       "      <td>2006</td>\n",
       "      <td>New</td>\n",
       "    </tr>\n",
       "    <tr>\n",
       "      <th>3</th>\n",
       "      <td>1989</td>\n",
       "      <td>902207150</td>\n",
       "      <td>30</td>\n",
       "      <td>RM</td>\n",
       "      <td>60.0</td>\n",
       "      <td>8520</td>\n",
       "      <td>Pave</td>\n",
       "      <td>NaN</td>\n",
       "      <td>Reg</td>\n",
       "      <td>Lvl</td>\n",
       "      <td>...</td>\n",
       "      <td>0</td>\n",
       "      <td>0</td>\n",
       "      <td>0</td>\n",
       "      <td>NaN</td>\n",
       "      <td>NaN</td>\n",
       "      <td>NaN</td>\n",
       "      <td>0</td>\n",
       "      <td>7</td>\n",
       "      <td>2007</td>\n",
       "      <td>WD</td>\n",
       "    </tr>\n",
       "    <tr>\n",
       "      <th>4</th>\n",
       "      <td>625</td>\n",
       "      <td>535105100</td>\n",
       "      <td>20</td>\n",
       "      <td>RL</td>\n",
       "      <td>NaN</td>\n",
       "      <td>9500</td>\n",
       "      <td>Pave</td>\n",
       "      <td>NaN</td>\n",
       "      <td>IR1</td>\n",
       "      <td>Lvl</td>\n",
       "      <td>...</td>\n",
       "      <td>0</td>\n",
       "      <td>185</td>\n",
       "      <td>0</td>\n",
       "      <td>NaN</td>\n",
       "      <td>NaN</td>\n",
       "      <td>NaN</td>\n",
       "      <td>0</td>\n",
       "      <td>7</td>\n",
       "      <td>2009</td>\n",
       "      <td>WD</td>\n",
       "    </tr>\n",
       "  </tbody>\n",
       "</table>\n",
       "<p>5 rows × 80 columns</p>\n",
       "</div>"
      ],
      "text/plain": [
       "     Id        PID  MS SubClass MS Zoning  Lot Frontage  Lot Area Street  \\\n",
       "0  2658  902301120          190        RM          69.0      9142   Pave   \n",
       "1  2718  905108090           90        RL           NaN      9662   Pave   \n",
       "2  2414  528218130           60        RL          58.0     17104   Pave   \n",
       "3  1989  902207150           30        RM          60.0      8520   Pave   \n",
       "4   625  535105100           20        RL           NaN      9500   Pave   \n",
       "\n",
       "  Alley Lot Shape Land Contour  ... 3Ssn Porch Screen Porch Pool Area Pool QC  \\\n",
       "0  Grvl       Reg          Lvl  ...          0            0         0     NaN   \n",
       "1   NaN       IR1          Lvl  ...          0            0         0     NaN   \n",
       "2   NaN       IR1          Lvl  ...          0            0         0     NaN   \n",
       "3   NaN       Reg          Lvl  ...          0            0         0     NaN   \n",
       "4   NaN       IR1          Lvl  ...          0          185         0     NaN   \n",
       "\n",
       "  Fence Misc Feature Misc Val Mo Sold  Yr Sold  Sale Type  \n",
       "0   NaN          NaN        0       4     2006        WD   \n",
       "1   NaN          NaN        0       8     2006        WD   \n",
       "2   NaN          NaN        0       9     2006        New  \n",
       "3   NaN          NaN        0       7     2007        WD   \n",
       "4   NaN          NaN        0       7     2009        WD   \n",
       "\n",
       "[5 rows x 80 columns]"
      ]
     },
     "execution_count": 9,
     "metadata": {},
     "output_type": "execute_result"
    }
   ],
   "source": [
    "# Header of housing_data\n",
    "test_housing_data.head()"
   ]
  },
  {
   "cell_type": "code",
   "execution_count": 10,
   "metadata": {
    "scrolled": true
   },
   "outputs": [
    {
     "name": "stdout",
     "output_type": "stream",
     "text": [
      "<class 'pandas.core.frame.DataFrame'>\n",
      "RangeIndex: 2051 entries, 0 to 2050\n",
      "Data columns (total 81 columns):\n",
      " #   Column           Non-Null Count  Dtype  \n",
      "---  ------           --------------  -----  \n",
      " 0   Id               2051 non-null   int64  \n",
      " 1   PID              2051 non-null   int64  \n",
      " 2   MS SubClass      2051 non-null   int64  \n",
      " 3   MS Zoning        2051 non-null   object \n",
      " 4   Lot Frontage     1721 non-null   float64\n",
      " 5   Lot Area         2051 non-null   int64  \n",
      " 6   Street           2051 non-null   object \n",
      " 7   Alley            140 non-null    object \n",
      " 8   Lot Shape        2051 non-null   object \n",
      " 9   Land Contour     2051 non-null   object \n",
      " 10  Utilities        2051 non-null   object \n",
      " 11  Lot Config       2051 non-null   object \n",
      " 12  Land Slope       2051 non-null   object \n",
      " 13  Neighborhood     2051 non-null   object \n",
      " 14  Condition 1      2051 non-null   object \n",
      " 15  Condition 2      2051 non-null   object \n",
      " 16  Bldg Type        2051 non-null   object \n",
      " 17  House Style      2051 non-null   object \n",
      " 18  Overall Qual     2051 non-null   int64  \n",
      " 19  Overall Cond     2051 non-null   int64  \n",
      " 20  Year Built       2051 non-null   int64  \n",
      " 21  Year Remod/Add   2051 non-null   int64  \n",
      " 22  Roof Style       2051 non-null   object \n",
      " 23  Roof Matl        2051 non-null   object \n",
      " 24  Exterior 1st     2051 non-null   object \n",
      " 25  Exterior 2nd     2051 non-null   object \n",
      " 26  Mas Vnr Type     2029 non-null   object \n",
      " 27  Mas Vnr Area     2029 non-null   float64\n",
      " 28  Exter Qual       2051 non-null   object \n",
      " 29  Exter Cond       2051 non-null   object \n",
      " 30  Foundation       2051 non-null   object \n",
      " 31  Bsmt Qual        1996 non-null   object \n",
      " 32  Bsmt Cond        1996 non-null   object \n",
      " 33  Bsmt Exposure    1993 non-null   object \n",
      " 34  BsmtFin Type 1   1996 non-null   object \n",
      " 35  BsmtFin SF 1     2050 non-null   float64\n",
      " 36  BsmtFin Type 2   1995 non-null   object \n",
      " 37  BsmtFin SF 2     2050 non-null   float64\n",
      " 38  Bsmt Unf SF      2050 non-null   float64\n",
      " 39  Total Bsmt SF    2050 non-null   float64\n",
      " 40  Heating          2051 non-null   object \n",
      " 41  Heating QC       2051 non-null   object \n",
      " 42  Central Air      2051 non-null   object \n",
      " 43  Electrical       2051 non-null   object \n",
      " 44  1st Flr SF       2051 non-null   int64  \n",
      " 45  2nd Flr SF       2051 non-null   int64  \n",
      " 46  Low Qual Fin SF  2051 non-null   int64  \n",
      " 47  Gr Liv Area      2051 non-null   int64  \n",
      " 48  Bsmt Full Bath   2049 non-null   float64\n",
      " 49  Bsmt Half Bath   2049 non-null   float64\n",
      " 50  Full Bath        2051 non-null   int64  \n",
      " 51  Half Bath        2051 non-null   int64  \n",
      " 52  Bedroom AbvGr    2051 non-null   int64  \n",
      " 53  Kitchen AbvGr    2051 non-null   int64  \n",
      " 54  Kitchen Qual     2051 non-null   object \n",
      " 55  TotRms AbvGrd    2051 non-null   int64  \n",
      " 56  Functional       2051 non-null   object \n",
      " 57  Fireplaces       2051 non-null   int64  \n",
      " 58  Fireplace Qu     1051 non-null   object \n",
      " 59  Garage Type      1938 non-null   object \n",
      " 60  Garage Yr Blt    1937 non-null   float64\n",
      " 61  Garage Finish    1937 non-null   object \n",
      " 62  Garage Cars      2050 non-null   float64\n",
      " 63  Garage Area      2050 non-null   float64\n",
      " 64  Garage Qual      1937 non-null   object \n",
      " 65  Garage Cond      1937 non-null   object \n",
      " 66  Paved Drive      2051 non-null   object \n",
      " 67  Wood Deck SF     2051 non-null   int64  \n",
      " 68  Open Porch SF    2051 non-null   int64  \n",
      " 69  Enclosed Porch   2051 non-null   int64  \n",
      " 70  3Ssn Porch       2051 non-null   int64  \n",
      " 71  Screen Porch     2051 non-null   int64  \n",
      " 72  Pool Area        2051 non-null   int64  \n",
      " 73  Pool QC          9 non-null      object \n",
      " 74  Fence            400 non-null    object \n",
      " 75  Misc Feature     65 non-null     object \n",
      " 76  Misc Val         2051 non-null   int64  \n",
      " 77  Mo Sold          2051 non-null   int64  \n",
      " 78  Yr Sold          2051 non-null   int64  \n",
      " 79  Sale Type        2051 non-null   object \n",
      " 80  SalePrice        2051 non-null   int64  \n",
      "dtypes: float64(11), int64(28), object(42)\n",
      "memory usage: 1.3+ MB\n"
     ]
    }
   ],
   "source": [
    "# To observe the dtype and missing values\n",
    "housing_data.info()"
   ]
  },
  {
   "cell_type": "code",
   "execution_count": 11,
   "metadata": {
    "scrolled": true
   },
   "outputs": [
    {
     "name": "stdout",
     "output_type": "stream",
     "text": [
      "<class 'pandas.core.frame.DataFrame'>\n",
      "RangeIndex: 878 entries, 0 to 877\n",
      "Data columns (total 80 columns):\n",
      " #   Column           Non-Null Count  Dtype  \n",
      "---  ------           --------------  -----  \n",
      " 0   Id               878 non-null    int64  \n",
      " 1   PID              878 non-null    int64  \n",
      " 2   MS SubClass      878 non-null    int64  \n",
      " 3   MS Zoning        878 non-null    object \n",
      " 4   Lot Frontage     718 non-null    float64\n",
      " 5   Lot Area         878 non-null    int64  \n",
      " 6   Street           878 non-null    object \n",
      " 7   Alley            58 non-null     object \n",
      " 8   Lot Shape        878 non-null    object \n",
      " 9   Land Contour     878 non-null    object \n",
      " 10  Utilities        878 non-null    object \n",
      " 11  Lot Config       878 non-null    object \n",
      " 12  Land Slope       878 non-null    object \n",
      " 13  Neighborhood     878 non-null    object \n",
      " 14  Condition 1      878 non-null    object \n",
      " 15  Condition 2      878 non-null    object \n",
      " 16  Bldg Type        878 non-null    object \n",
      " 17  House Style      878 non-null    object \n",
      " 18  Overall Qual     878 non-null    int64  \n",
      " 19  Overall Cond     878 non-null    int64  \n",
      " 20  Year Built       878 non-null    int64  \n",
      " 21  Year Remod/Add   878 non-null    int64  \n",
      " 22  Roof Style       878 non-null    object \n",
      " 23  Roof Matl        878 non-null    object \n",
      " 24  Exterior 1st     878 non-null    object \n",
      " 25  Exterior 2nd     878 non-null    object \n",
      " 26  Mas Vnr Type     877 non-null    object \n",
      " 27  Mas Vnr Area     877 non-null    float64\n",
      " 28  Exter Qual       878 non-null    object \n",
      " 29  Exter Cond       878 non-null    object \n",
      " 30  Foundation       878 non-null    object \n",
      " 31  Bsmt Qual        853 non-null    object \n",
      " 32  Bsmt Cond        853 non-null    object \n",
      " 33  Bsmt Exposure    853 non-null    object \n",
      " 34  BsmtFin Type 1   853 non-null    object \n",
      " 35  BsmtFin SF 1     878 non-null    int64  \n",
      " 36  BsmtFin Type 2   853 non-null    object \n",
      " 37  BsmtFin SF 2     878 non-null    int64  \n",
      " 38  Bsmt Unf SF      878 non-null    int64  \n",
      " 39  Total Bsmt SF    878 non-null    int64  \n",
      " 40  Heating          878 non-null    object \n",
      " 41  Heating QC       878 non-null    object \n",
      " 42  Central Air      878 non-null    object \n",
      " 43  Electrical       877 non-null    object \n",
      " 44  1st Flr SF       878 non-null    int64  \n",
      " 45  2nd Flr SF       878 non-null    int64  \n",
      " 46  Low Qual Fin SF  878 non-null    int64  \n",
      " 47  Gr Liv Area      878 non-null    int64  \n",
      " 48  Bsmt Full Bath   878 non-null    int64  \n",
      " 49  Bsmt Half Bath   878 non-null    int64  \n",
      " 50  Full Bath        878 non-null    int64  \n",
      " 51  Half Bath        878 non-null    int64  \n",
      " 52  Bedroom AbvGr    878 non-null    int64  \n",
      " 53  Kitchen AbvGr    878 non-null    int64  \n",
      " 54  Kitchen Qual     878 non-null    object \n",
      " 55  TotRms AbvGrd    878 non-null    int64  \n",
      " 56  Functional       878 non-null    object \n",
      " 57  Fireplaces       878 non-null    int64  \n",
      " 58  Fireplace Qu     456 non-null    object \n",
      " 59  Garage Type      834 non-null    object \n",
      " 60  Garage Yr Blt    833 non-null    float64\n",
      " 61  Garage Finish    833 non-null    object \n",
      " 62  Garage Cars      878 non-null    int64  \n",
      " 63  Garage Area      878 non-null    int64  \n",
      " 64  Garage Qual      833 non-null    object \n",
      " 65  Garage Cond      833 non-null    object \n",
      " 66  Paved Drive      878 non-null    object \n",
      " 67  Wood Deck SF     878 non-null    int64  \n",
      " 68  Open Porch SF    878 non-null    int64  \n",
      " 69  Enclosed Porch   878 non-null    int64  \n",
      " 70  3Ssn Porch       878 non-null    int64  \n",
      " 71  Screen Porch     878 non-null    int64  \n",
      " 72  Pool Area        878 non-null    int64  \n",
      " 73  Pool QC          4 non-null      object \n",
      " 74  Fence            172 non-null    object \n",
      " 75  Misc Feature     41 non-null     object \n",
      " 76  Misc Val         878 non-null    int64  \n",
      " 77  Mo Sold          878 non-null    int64  \n",
      " 78  Yr Sold          878 non-null    int64  \n",
      " 79  Sale Type        878 non-null    object \n",
      "dtypes: float64(3), int64(35), object(42)\n",
      "memory usage: 548.9+ KB\n"
     ]
    }
   ],
   "source": [
    "# To observe the dtype and missing values\n",
    "test_housing_data.info()"
   ]
  },
  {
   "cell_type": "markdown",
   "metadata": {},
   "source": [
    "**Analysis: There are 2051 observations with 81 columns for housing_data and 878 observations with 80 columns for test_housing_data**\n",
    "\n",
    "In housing_data, there are 2051 observations with 81 columns consisting of 42 objects, 28 integers and 11 floats.\n",
    "In test_housing_data, there are 878 observations with 80 columns consisting of 42 objects, 35 integers and 3 floats.\n",
    "In housing_data, there is an additional column of saleprice that is not present in the test_housing_data.\n",
    "There are missing values in multiple columns in both housing_data and test_housing_data."
   ]
  },
  {
   "cell_type": "markdown",
   "metadata": {},
   "source": [
    "### 2.3.2 Renaming and drop the columns"
   ]
  },
  {
   "cell_type": "markdown",
   "metadata": {},
   "source": [
    "**Analysis: Rename the columns name for coherent naming and easier navigation**\n",
    "\n",
    "For coherent naming and easier navigation, the columns will be renamed to lower case and replace any spaces betwen the words with (\"_\"). In addition, the column year_remod/add and columns name starting with numeric will be changed to remove additional characters and numeric starting names in the column name."
   ]
  },
  {
   "cell_type": "code",
   "execution_count": 12,
   "metadata": {},
   "outputs": [],
   "source": [
    "# Define function to rename the column to lower case and replace the space into (\"_\")\n",
    "def rename_replace_column (data_base):\n",
    "    data_base.columns = [col.lower() for col in data_base.columns]\n",
    "    data_base.columns = data_base.columns.str.replace(' ', \"_\")\n",
    "    return data_base.head()"
   ]
  },
  {
   "cell_type": "code",
   "execution_count": 13,
   "metadata": {
    "scrolled": true
   },
   "outputs": [
    {
     "data": {
      "text/html": [
       "<div>\n",
       "<style scoped>\n",
       "    .dataframe tbody tr th:only-of-type {\n",
       "        vertical-align: middle;\n",
       "    }\n",
       "\n",
       "    .dataframe tbody tr th {\n",
       "        vertical-align: top;\n",
       "    }\n",
       "\n",
       "    .dataframe thead th {\n",
       "        text-align: right;\n",
       "    }\n",
       "</style>\n",
       "<table border=\"1\" class=\"dataframe\">\n",
       "  <thead>\n",
       "    <tr style=\"text-align: right;\">\n",
       "      <th></th>\n",
       "      <th>id</th>\n",
       "      <th>pid</th>\n",
       "      <th>ms_subclass</th>\n",
       "      <th>ms_zoning</th>\n",
       "      <th>lot_frontage</th>\n",
       "      <th>lot_area</th>\n",
       "      <th>street</th>\n",
       "      <th>alley</th>\n",
       "      <th>lot_shape</th>\n",
       "      <th>land_contour</th>\n",
       "      <th>...</th>\n",
       "      <th>screen_porch</th>\n",
       "      <th>pool_area</th>\n",
       "      <th>pool_qc</th>\n",
       "      <th>fence</th>\n",
       "      <th>misc_feature</th>\n",
       "      <th>misc_val</th>\n",
       "      <th>mo_sold</th>\n",
       "      <th>yr_sold</th>\n",
       "      <th>sale_type</th>\n",
       "      <th>saleprice</th>\n",
       "    </tr>\n",
       "  </thead>\n",
       "  <tbody>\n",
       "    <tr>\n",
       "      <th>0</th>\n",
       "      <td>109</td>\n",
       "      <td>533352170</td>\n",
       "      <td>60</td>\n",
       "      <td>RL</td>\n",
       "      <td>NaN</td>\n",
       "      <td>13517</td>\n",
       "      <td>Pave</td>\n",
       "      <td>NaN</td>\n",
       "      <td>IR1</td>\n",
       "      <td>Lvl</td>\n",
       "      <td>...</td>\n",
       "      <td>0</td>\n",
       "      <td>0</td>\n",
       "      <td>NaN</td>\n",
       "      <td>NaN</td>\n",
       "      <td>NaN</td>\n",
       "      <td>0</td>\n",
       "      <td>3</td>\n",
       "      <td>2010</td>\n",
       "      <td>WD</td>\n",
       "      <td>130500</td>\n",
       "    </tr>\n",
       "    <tr>\n",
       "      <th>1</th>\n",
       "      <td>544</td>\n",
       "      <td>531379050</td>\n",
       "      <td>60</td>\n",
       "      <td>RL</td>\n",
       "      <td>43.0</td>\n",
       "      <td>11492</td>\n",
       "      <td>Pave</td>\n",
       "      <td>NaN</td>\n",
       "      <td>IR1</td>\n",
       "      <td>Lvl</td>\n",
       "      <td>...</td>\n",
       "      <td>0</td>\n",
       "      <td>0</td>\n",
       "      <td>NaN</td>\n",
       "      <td>NaN</td>\n",
       "      <td>NaN</td>\n",
       "      <td>0</td>\n",
       "      <td>4</td>\n",
       "      <td>2009</td>\n",
       "      <td>WD</td>\n",
       "      <td>220000</td>\n",
       "    </tr>\n",
       "    <tr>\n",
       "      <th>2</th>\n",
       "      <td>153</td>\n",
       "      <td>535304180</td>\n",
       "      <td>20</td>\n",
       "      <td>RL</td>\n",
       "      <td>68.0</td>\n",
       "      <td>7922</td>\n",
       "      <td>Pave</td>\n",
       "      <td>NaN</td>\n",
       "      <td>Reg</td>\n",
       "      <td>Lvl</td>\n",
       "      <td>...</td>\n",
       "      <td>0</td>\n",
       "      <td>0</td>\n",
       "      <td>NaN</td>\n",
       "      <td>NaN</td>\n",
       "      <td>NaN</td>\n",
       "      <td>0</td>\n",
       "      <td>1</td>\n",
       "      <td>2010</td>\n",
       "      <td>WD</td>\n",
       "      <td>109000</td>\n",
       "    </tr>\n",
       "    <tr>\n",
       "      <th>3</th>\n",
       "      <td>318</td>\n",
       "      <td>916386060</td>\n",
       "      <td>60</td>\n",
       "      <td>RL</td>\n",
       "      <td>73.0</td>\n",
       "      <td>9802</td>\n",
       "      <td>Pave</td>\n",
       "      <td>NaN</td>\n",
       "      <td>Reg</td>\n",
       "      <td>Lvl</td>\n",
       "      <td>...</td>\n",
       "      <td>0</td>\n",
       "      <td>0</td>\n",
       "      <td>NaN</td>\n",
       "      <td>NaN</td>\n",
       "      <td>NaN</td>\n",
       "      <td>0</td>\n",
       "      <td>4</td>\n",
       "      <td>2010</td>\n",
       "      <td>WD</td>\n",
       "      <td>174000</td>\n",
       "    </tr>\n",
       "    <tr>\n",
       "      <th>4</th>\n",
       "      <td>255</td>\n",
       "      <td>906425045</td>\n",
       "      <td>50</td>\n",
       "      <td>RL</td>\n",
       "      <td>82.0</td>\n",
       "      <td>14235</td>\n",
       "      <td>Pave</td>\n",
       "      <td>NaN</td>\n",
       "      <td>IR1</td>\n",
       "      <td>Lvl</td>\n",
       "      <td>...</td>\n",
       "      <td>0</td>\n",
       "      <td>0</td>\n",
       "      <td>NaN</td>\n",
       "      <td>NaN</td>\n",
       "      <td>NaN</td>\n",
       "      <td>0</td>\n",
       "      <td>3</td>\n",
       "      <td>2010</td>\n",
       "      <td>WD</td>\n",
       "      <td>138500</td>\n",
       "    </tr>\n",
       "  </tbody>\n",
       "</table>\n",
       "<p>5 rows × 81 columns</p>\n",
       "</div>"
      ],
      "text/plain": [
       "    id        pid  ms_subclass ms_zoning  lot_frontage  lot_area street alley  \\\n",
       "0  109  533352170           60        RL           NaN     13517   Pave   NaN   \n",
       "1  544  531379050           60        RL          43.0     11492   Pave   NaN   \n",
       "2  153  535304180           20        RL          68.0      7922   Pave   NaN   \n",
       "3  318  916386060           60        RL          73.0      9802   Pave   NaN   \n",
       "4  255  906425045           50        RL          82.0     14235   Pave   NaN   \n",
       "\n",
       "  lot_shape land_contour  ... screen_porch pool_area pool_qc fence  \\\n",
       "0       IR1          Lvl  ...            0         0     NaN   NaN   \n",
       "1       IR1          Lvl  ...            0         0     NaN   NaN   \n",
       "2       Reg          Lvl  ...            0         0     NaN   NaN   \n",
       "3       Reg          Lvl  ...            0         0     NaN   NaN   \n",
       "4       IR1          Lvl  ...            0         0     NaN   NaN   \n",
       "\n",
       "  misc_feature misc_val mo_sold yr_sold  sale_type  saleprice  \n",
       "0          NaN        0       3    2010        WD      130500  \n",
       "1          NaN        0       4    2009        WD      220000  \n",
       "2          NaN        0       1    2010        WD      109000  \n",
       "3          NaN        0       4    2010        WD      174000  \n",
       "4          NaN        0       3    2010        WD      138500  \n",
       "\n",
       "[5 rows x 81 columns]"
      ]
     },
     "execution_count": 13,
     "metadata": {},
     "output_type": "execute_result"
    }
   ],
   "source": [
    "# Rename the columns for housing_data\n",
    "rename_replace_column(housing_data)"
   ]
  },
  {
   "cell_type": "code",
   "execution_count": 14,
   "metadata": {
    "scrolled": true
   },
   "outputs": [
    {
     "data": {
      "text/html": [
       "<div>\n",
       "<style scoped>\n",
       "    .dataframe tbody tr th:only-of-type {\n",
       "        vertical-align: middle;\n",
       "    }\n",
       "\n",
       "    .dataframe tbody tr th {\n",
       "        vertical-align: top;\n",
       "    }\n",
       "\n",
       "    .dataframe thead th {\n",
       "        text-align: right;\n",
       "    }\n",
       "</style>\n",
       "<table border=\"1\" class=\"dataframe\">\n",
       "  <thead>\n",
       "    <tr style=\"text-align: right;\">\n",
       "      <th></th>\n",
       "      <th>id</th>\n",
       "      <th>pid</th>\n",
       "      <th>ms_subclass</th>\n",
       "      <th>ms_zoning</th>\n",
       "      <th>lot_frontage</th>\n",
       "      <th>lot_area</th>\n",
       "      <th>street</th>\n",
       "      <th>alley</th>\n",
       "      <th>lot_shape</th>\n",
       "      <th>land_contour</th>\n",
       "      <th>...</th>\n",
       "      <th>3ssn_porch</th>\n",
       "      <th>screen_porch</th>\n",
       "      <th>pool_area</th>\n",
       "      <th>pool_qc</th>\n",
       "      <th>fence</th>\n",
       "      <th>misc_feature</th>\n",
       "      <th>misc_val</th>\n",
       "      <th>mo_sold</th>\n",
       "      <th>yr_sold</th>\n",
       "      <th>sale_type</th>\n",
       "    </tr>\n",
       "  </thead>\n",
       "  <tbody>\n",
       "    <tr>\n",
       "      <th>0</th>\n",
       "      <td>2658</td>\n",
       "      <td>902301120</td>\n",
       "      <td>190</td>\n",
       "      <td>RM</td>\n",
       "      <td>69.0</td>\n",
       "      <td>9142</td>\n",
       "      <td>Pave</td>\n",
       "      <td>Grvl</td>\n",
       "      <td>Reg</td>\n",
       "      <td>Lvl</td>\n",
       "      <td>...</td>\n",
       "      <td>0</td>\n",
       "      <td>0</td>\n",
       "      <td>0</td>\n",
       "      <td>NaN</td>\n",
       "      <td>NaN</td>\n",
       "      <td>NaN</td>\n",
       "      <td>0</td>\n",
       "      <td>4</td>\n",
       "      <td>2006</td>\n",
       "      <td>WD</td>\n",
       "    </tr>\n",
       "    <tr>\n",
       "      <th>1</th>\n",
       "      <td>2718</td>\n",
       "      <td>905108090</td>\n",
       "      <td>90</td>\n",
       "      <td>RL</td>\n",
       "      <td>NaN</td>\n",
       "      <td>9662</td>\n",
       "      <td>Pave</td>\n",
       "      <td>NaN</td>\n",
       "      <td>IR1</td>\n",
       "      <td>Lvl</td>\n",
       "      <td>...</td>\n",
       "      <td>0</td>\n",
       "      <td>0</td>\n",
       "      <td>0</td>\n",
       "      <td>NaN</td>\n",
       "      <td>NaN</td>\n",
       "      <td>NaN</td>\n",
       "      <td>0</td>\n",
       "      <td>8</td>\n",
       "      <td>2006</td>\n",
       "      <td>WD</td>\n",
       "    </tr>\n",
       "    <tr>\n",
       "      <th>2</th>\n",
       "      <td>2414</td>\n",
       "      <td>528218130</td>\n",
       "      <td>60</td>\n",
       "      <td>RL</td>\n",
       "      <td>58.0</td>\n",
       "      <td>17104</td>\n",
       "      <td>Pave</td>\n",
       "      <td>NaN</td>\n",
       "      <td>IR1</td>\n",
       "      <td>Lvl</td>\n",
       "      <td>...</td>\n",
       "      <td>0</td>\n",
       "      <td>0</td>\n",
       "      <td>0</td>\n",
       "      <td>NaN</td>\n",
       "      <td>NaN</td>\n",
       "      <td>NaN</td>\n",
       "      <td>0</td>\n",
       "      <td>9</td>\n",
       "      <td>2006</td>\n",
       "      <td>New</td>\n",
       "    </tr>\n",
       "    <tr>\n",
       "      <th>3</th>\n",
       "      <td>1989</td>\n",
       "      <td>902207150</td>\n",
       "      <td>30</td>\n",
       "      <td>RM</td>\n",
       "      <td>60.0</td>\n",
       "      <td>8520</td>\n",
       "      <td>Pave</td>\n",
       "      <td>NaN</td>\n",
       "      <td>Reg</td>\n",
       "      <td>Lvl</td>\n",
       "      <td>...</td>\n",
       "      <td>0</td>\n",
       "      <td>0</td>\n",
       "      <td>0</td>\n",
       "      <td>NaN</td>\n",
       "      <td>NaN</td>\n",
       "      <td>NaN</td>\n",
       "      <td>0</td>\n",
       "      <td>7</td>\n",
       "      <td>2007</td>\n",
       "      <td>WD</td>\n",
       "    </tr>\n",
       "    <tr>\n",
       "      <th>4</th>\n",
       "      <td>625</td>\n",
       "      <td>535105100</td>\n",
       "      <td>20</td>\n",
       "      <td>RL</td>\n",
       "      <td>NaN</td>\n",
       "      <td>9500</td>\n",
       "      <td>Pave</td>\n",
       "      <td>NaN</td>\n",
       "      <td>IR1</td>\n",
       "      <td>Lvl</td>\n",
       "      <td>...</td>\n",
       "      <td>0</td>\n",
       "      <td>185</td>\n",
       "      <td>0</td>\n",
       "      <td>NaN</td>\n",
       "      <td>NaN</td>\n",
       "      <td>NaN</td>\n",
       "      <td>0</td>\n",
       "      <td>7</td>\n",
       "      <td>2009</td>\n",
       "      <td>WD</td>\n",
       "    </tr>\n",
       "  </tbody>\n",
       "</table>\n",
       "<p>5 rows × 80 columns</p>\n",
       "</div>"
      ],
      "text/plain": [
       "     id        pid  ms_subclass ms_zoning  lot_frontage  lot_area street  \\\n",
       "0  2658  902301120          190        RM          69.0      9142   Pave   \n",
       "1  2718  905108090           90        RL           NaN      9662   Pave   \n",
       "2  2414  528218130           60        RL          58.0     17104   Pave   \n",
       "3  1989  902207150           30        RM          60.0      8520   Pave   \n",
       "4   625  535105100           20        RL           NaN      9500   Pave   \n",
       "\n",
       "  alley lot_shape land_contour  ... 3ssn_porch screen_porch pool_area pool_qc  \\\n",
       "0  Grvl       Reg          Lvl  ...          0            0         0     NaN   \n",
       "1   NaN       IR1          Lvl  ...          0            0         0     NaN   \n",
       "2   NaN       IR1          Lvl  ...          0            0         0     NaN   \n",
       "3   NaN       Reg          Lvl  ...          0            0         0     NaN   \n",
       "4   NaN       IR1          Lvl  ...          0          185         0     NaN   \n",
       "\n",
       "  fence misc_feature misc_val mo_sold  yr_sold  sale_type  \n",
       "0   NaN          NaN        0       4     2006        WD   \n",
       "1   NaN          NaN        0       8     2006        WD   \n",
       "2   NaN          NaN        0       9     2006        New  \n",
       "3   NaN          NaN        0       7     2007        WD   \n",
       "4   NaN          NaN        0       7     2009        WD   \n",
       "\n",
       "[5 rows x 80 columns]"
      ]
     },
     "execution_count": 14,
     "metadata": {},
     "output_type": "execute_result"
    }
   ],
   "source": [
    "# Rename the columns for test_housing_data\n",
    "rename_replace_column(test_housing_data)"
   ]
  },
  {
   "cell_type": "code",
   "execution_count": 15,
   "metadata": {},
   "outputs": [
    {
     "data": {
      "text/html": [
       "<div>\n",
       "<style scoped>\n",
       "    .dataframe tbody tr th:only-of-type {\n",
       "        vertical-align: middle;\n",
       "    }\n",
       "\n",
       "    .dataframe tbody tr th {\n",
       "        vertical-align: top;\n",
       "    }\n",
       "\n",
       "    .dataframe thead th {\n",
       "        text-align: right;\n",
       "    }\n",
       "</style>\n",
       "<table border=\"1\" class=\"dataframe\">\n",
       "  <thead>\n",
       "    <tr style=\"text-align: right;\">\n",
       "      <th></th>\n",
       "      <th>year_remod</th>\n",
       "      <th>first_flr_sf</th>\n",
       "      <th>second_fld_sf</th>\n",
       "      <th>threessn_porch</th>\n",
       "    </tr>\n",
       "  </thead>\n",
       "  <tbody>\n",
       "    <tr>\n",
       "      <th>0</th>\n",
       "      <td>2005</td>\n",
       "      <td>725</td>\n",
       "      <td>754</td>\n",
       "      <td>0</td>\n",
       "    </tr>\n",
       "    <tr>\n",
       "      <th>1</th>\n",
       "      <td>1997</td>\n",
       "      <td>913</td>\n",
       "      <td>1209</td>\n",
       "      <td>0</td>\n",
       "    </tr>\n",
       "    <tr>\n",
       "      <th>2</th>\n",
       "      <td>2007</td>\n",
       "      <td>1057</td>\n",
       "      <td>0</td>\n",
       "      <td>0</td>\n",
       "    </tr>\n",
       "    <tr>\n",
       "      <th>3</th>\n",
       "      <td>2007</td>\n",
       "      <td>744</td>\n",
       "      <td>700</td>\n",
       "      <td>0</td>\n",
       "    </tr>\n",
       "    <tr>\n",
       "      <th>4</th>\n",
       "      <td>1993</td>\n",
       "      <td>831</td>\n",
       "      <td>614</td>\n",
       "      <td>0</td>\n",
       "    </tr>\n",
       "  </tbody>\n",
       "</table>\n",
       "</div>"
      ],
      "text/plain": [
       "   year_remod  first_flr_sf  second_fld_sf  threessn_porch\n",
       "0        2005           725            754               0\n",
       "1        1997           913           1209               0\n",
       "2        2007          1057              0               0\n",
       "3        2007           744            700               0\n",
       "4        1993           831            614               0"
      ]
     },
     "execution_count": 15,
     "metadata": {},
     "output_type": "execute_result"
    }
   ],
   "source": [
    "# Rename the specific columns for housing_data to specific names\n",
    "housing_data = housing_data.rename(columns = {\"year_remod/add\" : \"year_remod\", \"1st_flr_sf\" : \"first_flr_sf\", \"2nd_flr_sf\" : \"second_fld_sf\", \"3ssn_porch\" : \"threessn_porch\"})\n",
    "housing_data.loc[:, [\"year_remod\",\"first_flr_sf\",\"second_fld_sf\", \"threessn_porch\"]].head()"
   ]
  },
  {
   "cell_type": "code",
   "execution_count": 16,
   "metadata": {},
   "outputs": [
    {
     "data": {
      "text/html": [
       "<div>\n",
       "<style scoped>\n",
       "    .dataframe tbody tr th:only-of-type {\n",
       "        vertical-align: middle;\n",
       "    }\n",
       "\n",
       "    .dataframe tbody tr th {\n",
       "        vertical-align: top;\n",
       "    }\n",
       "\n",
       "    .dataframe thead th {\n",
       "        text-align: right;\n",
       "    }\n",
       "</style>\n",
       "<table border=\"1\" class=\"dataframe\">\n",
       "  <thead>\n",
       "    <tr style=\"text-align: right;\">\n",
       "      <th></th>\n",
       "      <th>year_remod</th>\n",
       "      <th>first_flr_sf</th>\n",
       "      <th>second_fld_sf</th>\n",
       "      <th>threessn_porch</th>\n",
       "    </tr>\n",
       "  </thead>\n",
       "  <tbody>\n",
       "    <tr>\n",
       "      <th>0</th>\n",
       "      <td>1950</td>\n",
       "      <td>908</td>\n",
       "      <td>1020</td>\n",
       "      <td>0</td>\n",
       "    </tr>\n",
       "    <tr>\n",
       "      <th>1</th>\n",
       "      <td>1977</td>\n",
       "      <td>1967</td>\n",
       "      <td>0</td>\n",
       "      <td>0</td>\n",
       "    </tr>\n",
       "    <tr>\n",
       "      <th>2</th>\n",
       "      <td>2006</td>\n",
       "      <td>664</td>\n",
       "      <td>832</td>\n",
       "      <td>0</td>\n",
       "    </tr>\n",
       "    <tr>\n",
       "      <th>3</th>\n",
       "      <td>2006</td>\n",
       "      <td>968</td>\n",
       "      <td>0</td>\n",
       "      <td>0</td>\n",
       "    </tr>\n",
       "    <tr>\n",
       "      <th>4</th>\n",
       "      <td>1963</td>\n",
       "      <td>1394</td>\n",
       "      <td>0</td>\n",
       "      <td>0</td>\n",
       "    </tr>\n",
       "  </tbody>\n",
       "</table>\n",
       "</div>"
      ],
      "text/plain": [
       "   year_remod  first_flr_sf  second_fld_sf  threessn_porch\n",
       "0        1950           908           1020               0\n",
       "1        1977          1967              0               0\n",
       "2        2006           664            832               0\n",
       "3        2006           968              0               0\n",
       "4        1963          1394              0               0"
      ]
     },
     "execution_count": 16,
     "metadata": {},
     "output_type": "execute_result"
    }
   ],
   "source": [
    "# Rename the specific columns for test_housing_data to specific names\n",
    "test_housing_data = test_housing_data.rename(columns = {\"year_remod/add\" : \"year_remod\", \"1st_flr_sf\" : \"first_flr_sf\", \"2nd_flr_sf\" : \"second_fld_sf\", \"3ssn_porch\" : \"threessn_porch\"})\n",
    "test_housing_data.loc[:, [\"year_remod\",\"first_flr_sf\",\"second_fld_sf\", \"threessn_porch\"]].head()"
   ]
  },
  {
   "cell_type": "code",
   "execution_count": 17,
   "metadata": {},
   "outputs": [],
   "source": [
    "# Drop the pid column\n",
    "housing_data = housing_data.drop(columns = [\"id\",\"pid\"])"
   ]
  },
  {
   "cell_type": "code",
   "execution_count": 18,
   "metadata": {},
   "outputs": [],
   "source": [
    "# Drop the pid column\n",
    "test_housing_data = test_housing_data.drop(columns = [\"id\",\"pid\"])"
   ]
  },
  {
   "cell_type": "markdown",
   "metadata": {},
   "source": [
    "**Analysis: Successfully renamed the columns name for coherent naming and easier navigation**"
   ]
  },
  {
   "cell_type": "markdown",
   "metadata": {},
   "source": [
    "### 2.3.3 Rename values"
   ]
  },
  {
   "cell_type": "markdown",
   "metadata": {},
   "source": [
    "**Analysis: Rename the ms_zoning value names for coherent naming and easier navigation**\n",
    "\n",
    "For coherent naming and easier navigation, the ms_zoning values will be renamed to remove additional words such as \"(all)\" and \"(agr)\"."
   ]
  },
  {
   "cell_type": "code",
   "execution_count": 19,
   "metadata": {},
   "outputs": [
    {
     "data": {
      "text/plain": [
       "array(['RL', 'RM', 'FV', 'C (all)', 'A (agr)', 'RH', 'I (all)'],\n",
       "      dtype=object)"
      ]
     },
     "execution_count": 19,
     "metadata": {},
     "output_type": "execute_result"
    }
   ],
   "source": [
    "housing_data.ms_zoning.unique()"
   ]
  },
  {
   "cell_type": "code",
   "execution_count": 20,
   "metadata": {},
   "outputs": [
    {
     "data": {
      "text/plain": [
       "array(['RM', 'RL', 'FV', 'RH', 'C (all)', 'I (all)'], dtype=object)"
      ]
     },
     "execution_count": 20,
     "metadata": {},
     "output_type": "execute_result"
    }
   ],
   "source": [
    "test_housing_data.ms_zoning.unique()"
   ]
  },
  {
   "cell_type": "code",
   "execution_count": 21,
   "metadata": {},
   "outputs": [],
   "source": [
    "# For housing_data and test_housing_data - Rename the ms_zoning values to remove the (all and agr)\n",
    "housing_data.ms_zoning = housing_data.ms_zoning.apply(lambda string:string.replace(\" (all)\",\"\"))\n",
    "housing_data.ms_zoning = housing_data.ms_zoning.apply(lambda string:string.replace(\" (agr)\",\"\"))"
   ]
  },
  {
   "cell_type": "code",
   "execution_count": 22,
   "metadata": {},
   "outputs": [],
   "source": [
    "# For test_housing_data - Rename the ms_zoning values to remove the (all)\n",
    "test_housing_data.ms_zoning = test_housing_data.ms_zoning.apply(lambda string:string.replace(\" (all)\",\"\"))"
   ]
  },
  {
   "cell_type": "code",
   "execution_count": 23,
   "metadata": {
    "scrolled": true
   },
   "outputs": [
    {
     "data": {
      "text/plain": [
       "array(['RL', 'RM', 'FV', 'C', 'A', 'RH', 'I'], dtype=object)"
      ]
     },
     "execution_count": 23,
     "metadata": {},
     "output_type": "execute_result"
    }
   ],
   "source": [
    "housing_data.ms_zoning.unique()"
   ]
  },
  {
   "cell_type": "code",
   "execution_count": 24,
   "metadata": {},
   "outputs": [
    {
     "data": {
      "text/plain": [
       "array(['RM', 'RL', 'FV', 'RH', 'C', 'I'], dtype=object)"
      ]
     },
     "execution_count": 24,
     "metadata": {},
     "output_type": "execute_result"
    }
   ],
   "source": [
    "test_housing_data.ms_zoning.unique()"
   ]
  },
  {
   "cell_type": "markdown",
   "metadata": {},
   "source": [
    "**Analysis: Successfully renamed the value names for coherent naming and easier navigation**"
   ]
  },
  {
   "cell_type": "markdown",
   "metadata": {},
   "source": [
    "### 2.3.4 Missing Values"
   ]
  },
  {
   "cell_type": "code",
   "execution_count": 25,
   "metadata": {},
   "outputs": [
    {
     "data": {
      "text/plain": [
       "pool_qc           2042\n",
       "misc_feature      1986\n",
       "alley             1911\n",
       "fence             1651\n",
       "fireplace_qu      1000\n",
       "lot_frontage       330\n",
       "garage_qual        114\n",
       "garage_cond        114\n",
       "garage_yr_blt      114\n",
       "garage_finish      114\n",
       "garage_type        113\n",
       "bsmt_exposure       58\n",
       "bsmtfin_type_2      56\n",
       "bsmt_qual           55\n",
       "bsmtfin_type_1      55\n",
       "bsmt_cond           55\n",
       "mas_vnr_type        22\n",
       "mas_vnr_area        22\n",
       "bsmt_half_bath       2\n",
       "bsmt_full_bath       2\n",
       "bsmt_unf_sf          1\n",
       "total_bsmt_sf        1\n",
       "bsmtfin_sf_1         1\n",
       "bsmtfin_sf_2         1\n",
       "garage_cars          1\n",
       "garage_area          1\n",
       "exterior_2nd         0\n",
       "exterior_1st         0\n",
       "roof_matl            0\n",
       "roof_style           0\n",
       "dtype: int64"
      ]
     },
     "execution_count": 25,
     "metadata": {},
     "output_type": "execute_result"
    }
   ],
   "source": [
    "# List of missing values for housing_data\n",
    "pd.set_option('display.max_rows', 160)\n",
    "housing_data.isnull().sum().sort_values(ascending=False)[0:30]"
   ]
  },
  {
   "cell_type": "markdown",
   "metadata": {},
   "source": [
    "**Analysis: There are 26 columns with missing values with the main features frontage, alley, masonry, basement, fireplace, garage, pool, fence and miscellaneous features.**\n",
    "\n",
    "The columns having missing values are pool_qc, misc_feature, alley, fence, fireplace_qu, lot_frontage, garage_finish, garage_cond, garage_qual, garage_yr_blt, garage_type, bsmt_exposure, bsmtfin_type_2, bsmtfin_type_1, bsmt_cond, bsmt_qual, mas_vnr_type, mas_vnr_area, bsmt_half_bath, bsmt_full_bath, garage_cars, garage_area, bsmt_unf_sf, bsmtfin_sf_2, total_bsmt_sf and bsmtfin_sf_1."
   ]
  },
  {
   "cell_type": "code",
   "execution_count": 26,
   "metadata": {},
   "outputs": [
    {
     "data": {
      "text/plain": [
       "pool_qc           874\n",
       "misc_feature      837\n",
       "alley             820\n",
       "fence             706\n",
       "fireplace_qu      422\n",
       "lot_frontage      160\n",
       "garage_cond        45\n",
       "garage_qual        45\n",
       "garage_yr_blt      45\n",
       "garage_finish      45\n",
       "garage_type        44\n",
       "bsmtfin_type_1     25\n",
       "bsmtfin_type_2     25\n",
       "bsmt_qual          25\n",
       "bsmt_cond          25\n",
       "bsmt_exposure      25\n",
       "electrical          1\n",
       "mas_vnr_area        1\n",
       "mas_vnr_type        1\n",
       "year_built          0\n",
       "exter_qual          0\n",
       "exter_cond          0\n",
       "foundation          0\n",
       "exterior_2nd        0\n",
       "exterior_1st        0\n",
       "roof_matl           0\n",
       "roof_style          0\n",
       "year_remod          0\n",
       "sale_type           0\n",
       "overall_cond        0\n",
       "dtype: int64"
      ]
     },
     "execution_count": 26,
     "metadata": {},
     "output_type": "execute_result"
    }
   ],
   "source": [
    "# List of missing values for test_housing_data\n",
    "pd.set_option('display.max_rows', 160)\n",
    "test_housing_data.isnull().sum().sort_values(ascending=False)[0:30]"
   ]
  },
  {
   "cell_type": "markdown",
   "metadata": {},
   "source": [
    "**Analysis: There are 19 columns with missing values with the main features frontage, alley, masonry, basement, fireplace, garage, pool, fence, electrical and miscellaneous features.**\n",
    "\n",
    "The columns having missing values are pool_qc, misc_feature, alley, fence, fireplace_qu, lot_frontage, garage_cond, garage_qual, garage_yr_blt, garage_finish, garage_type, bsmt_exposure, bsmtfin_type_1, bsmt_qual, bsmtfin_type_2, bsmt_cond, mas_vnr_area, mas_vnr_type and electrical."
   ]
  },
  {
   "cell_type": "markdown",
   "metadata": {},
   "source": [
    "**Summary:** \n",
    "1. The common column having missing values in both housing_data and test_housing_data are the alley, basement, fence, fireplace, frontage, garage, masonry, pool and miscellaneous features.\n",
    "2. test_housing_data has an additional column of missing values in elecrical."
   ]
  },
  {
   "cell_type": "markdown",
   "metadata": {},
   "source": [
    "### 2.3.4.1 Alley missing values"
   ]
  },
  {
   "cell_type": "markdown",
   "metadata": {},
   "source": [
    "**1. housing_data**"
   ]
  },
  {
   "cell_type": "code",
   "execution_count": 27,
   "metadata": {},
   "outputs": [
    {
     "data": {
      "text/plain": [
       "1911"
      ]
     },
     "execution_count": 27,
     "metadata": {},
     "output_type": "execute_result"
    }
   ],
   "source": [
    "# missing values of alley\n",
    "housing_data.alley.isnull().sum()"
   ]
  },
  {
   "cell_type": "code",
   "execution_count": 28,
   "metadata": {},
   "outputs": [
    {
     "data": {
      "text/plain": [
       "array([nan, 'Pave', 'Grvl'], dtype=object)"
      ]
     },
     "execution_count": 28,
     "metadata": {},
     "output_type": "execute_result"
    }
   ],
   "source": [
    "# The unique values in alley\n",
    "housing_data.alley.unique()"
   ]
  },
  {
   "cell_type": "markdown",
   "metadata": {},
   "source": [
    "**Analysis: The missing value of 'NA' option might suggests the missing values are no alley access.\"**\n",
    "\n",
    "There are three options for the category alley, which is 'Grvl' for Gravel, 'Pave' for Paved, and 'NA' for No alley access. Thus, the missing value will be place as 'ANA' and will perform a dummy encoding to the values."
   ]
  },
  {
   "cell_type": "code",
   "execution_count": 29,
   "metadata": {},
   "outputs": [
    {
     "data": {
      "text/html": [
       "<div>\n",
       "<style scoped>\n",
       "    .dataframe tbody tr th:only-of-type {\n",
       "        vertical-align: middle;\n",
       "    }\n",
       "\n",
       "    .dataframe tbody tr th {\n",
       "        vertical-align: top;\n",
       "    }\n",
       "\n",
       "    .dataframe thead th {\n",
       "        text-align: right;\n",
       "    }\n",
       "</style>\n",
       "<table border=\"1\" class=\"dataframe\">\n",
       "  <thead>\n",
       "    <tr style=\"text-align: right;\">\n",
       "      <th></th>\n",
       "      <th>ms_subclass</th>\n",
       "      <th>ms_zoning</th>\n",
       "      <th>lot_frontage</th>\n",
       "      <th>lot_area</th>\n",
       "      <th>street</th>\n",
       "      <th>lot_shape</th>\n",
       "      <th>land_contour</th>\n",
       "      <th>utilities</th>\n",
       "      <th>lot_config</th>\n",
       "      <th>land_slope</th>\n",
       "      <th>...</th>\n",
       "      <th>pool_qc</th>\n",
       "      <th>fence</th>\n",
       "      <th>misc_feature</th>\n",
       "      <th>misc_val</th>\n",
       "      <th>mo_sold</th>\n",
       "      <th>yr_sold</th>\n",
       "      <th>sale_type</th>\n",
       "      <th>saleprice</th>\n",
       "      <th>alley_Grvl</th>\n",
       "      <th>alley_Pave</th>\n",
       "    </tr>\n",
       "  </thead>\n",
       "  <tbody>\n",
       "    <tr>\n",
       "      <th>0</th>\n",
       "      <td>60</td>\n",
       "      <td>RL</td>\n",
       "      <td>NaN</td>\n",
       "      <td>13517</td>\n",
       "      <td>Pave</td>\n",
       "      <td>IR1</td>\n",
       "      <td>Lvl</td>\n",
       "      <td>AllPub</td>\n",
       "      <td>CulDSac</td>\n",
       "      <td>Gtl</td>\n",
       "      <td>...</td>\n",
       "      <td>NaN</td>\n",
       "      <td>NaN</td>\n",
       "      <td>NaN</td>\n",
       "      <td>0</td>\n",
       "      <td>3</td>\n",
       "      <td>2010</td>\n",
       "      <td>WD</td>\n",
       "      <td>130500</td>\n",
       "      <td>0</td>\n",
       "      <td>0</td>\n",
       "    </tr>\n",
       "    <tr>\n",
       "      <th>1</th>\n",
       "      <td>60</td>\n",
       "      <td>RL</td>\n",
       "      <td>43.0</td>\n",
       "      <td>11492</td>\n",
       "      <td>Pave</td>\n",
       "      <td>IR1</td>\n",
       "      <td>Lvl</td>\n",
       "      <td>AllPub</td>\n",
       "      <td>CulDSac</td>\n",
       "      <td>Gtl</td>\n",
       "      <td>...</td>\n",
       "      <td>NaN</td>\n",
       "      <td>NaN</td>\n",
       "      <td>NaN</td>\n",
       "      <td>0</td>\n",
       "      <td>4</td>\n",
       "      <td>2009</td>\n",
       "      <td>WD</td>\n",
       "      <td>220000</td>\n",
       "      <td>0</td>\n",
       "      <td>0</td>\n",
       "    </tr>\n",
       "    <tr>\n",
       "      <th>2</th>\n",
       "      <td>20</td>\n",
       "      <td>RL</td>\n",
       "      <td>68.0</td>\n",
       "      <td>7922</td>\n",
       "      <td>Pave</td>\n",
       "      <td>Reg</td>\n",
       "      <td>Lvl</td>\n",
       "      <td>AllPub</td>\n",
       "      <td>Inside</td>\n",
       "      <td>Gtl</td>\n",
       "      <td>...</td>\n",
       "      <td>NaN</td>\n",
       "      <td>NaN</td>\n",
       "      <td>NaN</td>\n",
       "      <td>0</td>\n",
       "      <td>1</td>\n",
       "      <td>2010</td>\n",
       "      <td>WD</td>\n",
       "      <td>109000</td>\n",
       "      <td>0</td>\n",
       "      <td>0</td>\n",
       "    </tr>\n",
       "    <tr>\n",
       "      <th>3</th>\n",
       "      <td>60</td>\n",
       "      <td>RL</td>\n",
       "      <td>73.0</td>\n",
       "      <td>9802</td>\n",
       "      <td>Pave</td>\n",
       "      <td>Reg</td>\n",
       "      <td>Lvl</td>\n",
       "      <td>AllPub</td>\n",
       "      <td>Inside</td>\n",
       "      <td>Gtl</td>\n",
       "      <td>...</td>\n",
       "      <td>NaN</td>\n",
       "      <td>NaN</td>\n",
       "      <td>NaN</td>\n",
       "      <td>0</td>\n",
       "      <td>4</td>\n",
       "      <td>2010</td>\n",
       "      <td>WD</td>\n",
       "      <td>174000</td>\n",
       "      <td>0</td>\n",
       "      <td>0</td>\n",
       "    </tr>\n",
       "    <tr>\n",
       "      <th>4</th>\n",
       "      <td>50</td>\n",
       "      <td>RL</td>\n",
       "      <td>82.0</td>\n",
       "      <td>14235</td>\n",
       "      <td>Pave</td>\n",
       "      <td>IR1</td>\n",
       "      <td>Lvl</td>\n",
       "      <td>AllPub</td>\n",
       "      <td>Inside</td>\n",
       "      <td>Gtl</td>\n",
       "      <td>...</td>\n",
       "      <td>NaN</td>\n",
       "      <td>NaN</td>\n",
       "      <td>NaN</td>\n",
       "      <td>0</td>\n",
       "      <td>3</td>\n",
       "      <td>2010</td>\n",
       "      <td>WD</td>\n",
       "      <td>138500</td>\n",
       "      <td>0</td>\n",
       "      <td>0</td>\n",
       "    </tr>\n",
       "  </tbody>\n",
       "</table>\n",
       "<p>5 rows × 80 columns</p>\n",
       "</div>"
      ],
      "text/plain": [
       "   ms_subclass ms_zoning  lot_frontage  lot_area street lot_shape  \\\n",
       "0           60        RL           NaN     13517   Pave       IR1   \n",
       "1           60        RL          43.0     11492   Pave       IR1   \n",
       "2           20        RL          68.0      7922   Pave       Reg   \n",
       "3           60        RL          73.0      9802   Pave       Reg   \n",
       "4           50        RL          82.0     14235   Pave       IR1   \n",
       "\n",
       "  land_contour utilities lot_config land_slope  ... pool_qc fence  \\\n",
       "0          Lvl    AllPub    CulDSac        Gtl  ...     NaN   NaN   \n",
       "1          Lvl    AllPub    CulDSac        Gtl  ...     NaN   NaN   \n",
       "2          Lvl    AllPub     Inside        Gtl  ...     NaN   NaN   \n",
       "3          Lvl    AllPub     Inside        Gtl  ...     NaN   NaN   \n",
       "4          Lvl    AllPub     Inside        Gtl  ...     NaN   NaN   \n",
       "\n",
       "  misc_feature misc_val mo_sold  yr_sold  sale_type  saleprice  alley_Grvl  \\\n",
       "0          NaN        0       3     2010        WD      130500           0   \n",
       "1          NaN        0       4     2009        WD      220000           0   \n",
       "2          NaN        0       1     2010        WD      109000           0   \n",
       "3          NaN        0       4     2010        WD      174000           0   \n",
       "4          NaN        0       3     2010        WD      138500           0   \n",
       "\n",
       "  alley_Pave  \n",
       "0          0  \n",
       "1          0  \n",
       "2          0  \n",
       "3          0  \n",
       "4          0  \n",
       "\n",
       "[5 rows x 80 columns]"
      ]
     },
     "execution_count": 29,
     "metadata": {},
     "output_type": "execute_result"
    }
   ],
   "source": [
    "# Fill the missing values with 'ANA' and perform a dummy encoding to the values.\n",
    "housing_data[\"alley\"] = housing_data[\"alley\"].fillna('ANA')\n",
    "housing_data = pd.get_dummies(columns = [\"alley\"], drop_first = True, data = housing_data)\n",
    "housing_data.head()"
   ]
  },
  {
   "cell_type": "markdown",
   "metadata": {},
   "source": [
    "**2. test_housing_data**"
   ]
  },
  {
   "cell_type": "code",
   "execution_count": 30,
   "metadata": {},
   "outputs": [
    {
     "data": {
      "text/plain": [
       "820"
      ]
     },
     "execution_count": 30,
     "metadata": {},
     "output_type": "execute_result"
    }
   ],
   "source": [
    "# missing values of alley\n",
    "test_housing_data.alley.isnull().sum()"
   ]
  },
  {
   "cell_type": "code",
   "execution_count": 31,
   "metadata": {},
   "outputs": [
    {
     "data": {
      "text/plain": [
       "array(['Grvl', nan, 'Pave'], dtype=object)"
      ]
     },
     "execution_count": 31,
     "metadata": {},
     "output_type": "execute_result"
    }
   ],
   "source": [
    "# The unique values in alley\n",
    "test_housing_data.alley.unique()"
   ]
  },
  {
   "cell_type": "markdown",
   "metadata": {},
   "source": [
    "**Analysis: Similar to housing_data, the missing value of 'NA' option might suggests the missing values are no alley access.\"**\n",
    "\n",
    "Similarly, the 'NA' for No alley access is missing out of the three options, which might suggests it to be no alley access. Thus, the missing value will be place as 'ANA' and will perform a dummy encoding to the values."
   ]
  },
  {
   "cell_type": "code",
   "execution_count": 32,
   "metadata": {
    "scrolled": true
   },
   "outputs": [
    {
     "data": {
      "text/html": [
       "<div>\n",
       "<style scoped>\n",
       "    .dataframe tbody tr th:only-of-type {\n",
       "        vertical-align: middle;\n",
       "    }\n",
       "\n",
       "    .dataframe tbody tr th {\n",
       "        vertical-align: top;\n",
       "    }\n",
       "\n",
       "    .dataframe thead th {\n",
       "        text-align: right;\n",
       "    }\n",
       "</style>\n",
       "<table border=\"1\" class=\"dataframe\">\n",
       "  <thead>\n",
       "    <tr style=\"text-align: right;\">\n",
       "      <th></th>\n",
       "      <th>ms_subclass</th>\n",
       "      <th>ms_zoning</th>\n",
       "      <th>lot_frontage</th>\n",
       "      <th>lot_area</th>\n",
       "      <th>street</th>\n",
       "      <th>lot_shape</th>\n",
       "      <th>land_contour</th>\n",
       "      <th>utilities</th>\n",
       "      <th>lot_config</th>\n",
       "      <th>land_slope</th>\n",
       "      <th>...</th>\n",
       "      <th>pool_area</th>\n",
       "      <th>pool_qc</th>\n",
       "      <th>fence</th>\n",
       "      <th>misc_feature</th>\n",
       "      <th>misc_val</th>\n",
       "      <th>mo_sold</th>\n",
       "      <th>yr_sold</th>\n",
       "      <th>sale_type</th>\n",
       "      <th>alley_Grvl</th>\n",
       "      <th>alley_Pave</th>\n",
       "    </tr>\n",
       "  </thead>\n",
       "  <tbody>\n",
       "    <tr>\n",
       "      <th>0</th>\n",
       "      <td>190</td>\n",
       "      <td>RM</td>\n",
       "      <td>69.0</td>\n",
       "      <td>9142</td>\n",
       "      <td>Pave</td>\n",
       "      <td>Reg</td>\n",
       "      <td>Lvl</td>\n",
       "      <td>AllPub</td>\n",
       "      <td>Inside</td>\n",
       "      <td>Gtl</td>\n",
       "      <td>...</td>\n",
       "      <td>0</td>\n",
       "      <td>NaN</td>\n",
       "      <td>NaN</td>\n",
       "      <td>NaN</td>\n",
       "      <td>0</td>\n",
       "      <td>4</td>\n",
       "      <td>2006</td>\n",
       "      <td>WD</td>\n",
       "      <td>1</td>\n",
       "      <td>0</td>\n",
       "    </tr>\n",
       "    <tr>\n",
       "      <th>1</th>\n",
       "      <td>90</td>\n",
       "      <td>RL</td>\n",
       "      <td>NaN</td>\n",
       "      <td>9662</td>\n",
       "      <td>Pave</td>\n",
       "      <td>IR1</td>\n",
       "      <td>Lvl</td>\n",
       "      <td>AllPub</td>\n",
       "      <td>Inside</td>\n",
       "      <td>Gtl</td>\n",
       "      <td>...</td>\n",
       "      <td>0</td>\n",
       "      <td>NaN</td>\n",
       "      <td>NaN</td>\n",
       "      <td>NaN</td>\n",
       "      <td>0</td>\n",
       "      <td>8</td>\n",
       "      <td>2006</td>\n",
       "      <td>WD</td>\n",
       "      <td>0</td>\n",
       "      <td>0</td>\n",
       "    </tr>\n",
       "    <tr>\n",
       "      <th>2</th>\n",
       "      <td>60</td>\n",
       "      <td>RL</td>\n",
       "      <td>58.0</td>\n",
       "      <td>17104</td>\n",
       "      <td>Pave</td>\n",
       "      <td>IR1</td>\n",
       "      <td>Lvl</td>\n",
       "      <td>AllPub</td>\n",
       "      <td>Inside</td>\n",
       "      <td>Gtl</td>\n",
       "      <td>...</td>\n",
       "      <td>0</td>\n",
       "      <td>NaN</td>\n",
       "      <td>NaN</td>\n",
       "      <td>NaN</td>\n",
       "      <td>0</td>\n",
       "      <td>9</td>\n",
       "      <td>2006</td>\n",
       "      <td>New</td>\n",
       "      <td>0</td>\n",
       "      <td>0</td>\n",
       "    </tr>\n",
       "    <tr>\n",
       "      <th>3</th>\n",
       "      <td>30</td>\n",
       "      <td>RM</td>\n",
       "      <td>60.0</td>\n",
       "      <td>8520</td>\n",
       "      <td>Pave</td>\n",
       "      <td>Reg</td>\n",
       "      <td>Lvl</td>\n",
       "      <td>AllPub</td>\n",
       "      <td>Inside</td>\n",
       "      <td>Gtl</td>\n",
       "      <td>...</td>\n",
       "      <td>0</td>\n",
       "      <td>NaN</td>\n",
       "      <td>NaN</td>\n",
       "      <td>NaN</td>\n",
       "      <td>0</td>\n",
       "      <td>7</td>\n",
       "      <td>2007</td>\n",
       "      <td>WD</td>\n",
       "      <td>0</td>\n",
       "      <td>0</td>\n",
       "    </tr>\n",
       "    <tr>\n",
       "      <th>4</th>\n",
       "      <td>20</td>\n",
       "      <td>RL</td>\n",
       "      <td>NaN</td>\n",
       "      <td>9500</td>\n",
       "      <td>Pave</td>\n",
       "      <td>IR1</td>\n",
       "      <td>Lvl</td>\n",
       "      <td>AllPub</td>\n",
       "      <td>Inside</td>\n",
       "      <td>Gtl</td>\n",
       "      <td>...</td>\n",
       "      <td>0</td>\n",
       "      <td>NaN</td>\n",
       "      <td>NaN</td>\n",
       "      <td>NaN</td>\n",
       "      <td>0</td>\n",
       "      <td>7</td>\n",
       "      <td>2009</td>\n",
       "      <td>WD</td>\n",
       "      <td>0</td>\n",
       "      <td>0</td>\n",
       "    </tr>\n",
       "  </tbody>\n",
       "</table>\n",
       "<p>5 rows × 79 columns</p>\n",
       "</div>"
      ],
      "text/plain": [
       "   ms_subclass ms_zoning  lot_frontage  lot_area street lot_shape  \\\n",
       "0          190        RM          69.0      9142   Pave       Reg   \n",
       "1           90        RL           NaN      9662   Pave       IR1   \n",
       "2           60        RL          58.0     17104   Pave       IR1   \n",
       "3           30        RM          60.0      8520   Pave       Reg   \n",
       "4           20        RL           NaN      9500   Pave       IR1   \n",
       "\n",
       "  land_contour utilities lot_config land_slope  ... pool_area pool_qc fence  \\\n",
       "0          Lvl    AllPub     Inside        Gtl  ...         0     NaN   NaN   \n",
       "1          Lvl    AllPub     Inside        Gtl  ...         0     NaN   NaN   \n",
       "2          Lvl    AllPub     Inside        Gtl  ...         0     NaN   NaN   \n",
       "3          Lvl    AllPub     Inside        Gtl  ...         0     NaN   NaN   \n",
       "4          Lvl    AllPub     Inside        Gtl  ...         0     NaN   NaN   \n",
       "\n",
       "  misc_feature misc_val  mo_sold  yr_sold  sale_type  alley_Grvl alley_Pave  \n",
       "0          NaN        0        4     2006        WD            1          0  \n",
       "1          NaN        0        8     2006        WD            0          0  \n",
       "2          NaN        0        9     2006        New           0          0  \n",
       "3          NaN        0        7     2007        WD            0          0  \n",
       "4          NaN        0        7     2009        WD            0          0  \n",
       "\n",
       "[5 rows x 79 columns]"
      ]
     },
     "execution_count": 32,
     "metadata": {},
     "output_type": "execute_result"
    }
   ],
   "source": [
    "# Fill the missing values with 'NA' and perform a dummy encoding to the values.\n",
    "test_housing_data[\"alley\"] = test_housing_data[\"alley\"].fillna('ANA')\n",
    "test_housing_data = pd.get_dummies(columns = [\"alley\"], drop_first = True, data = test_housing_data)\n",
    "test_housing_data.head()"
   ]
  },
  {
   "cell_type": "markdown",
   "metadata": {},
   "source": [
    "**Summary: Both housing_data and test_housing_data for alley missing values has been change to 'ANA' and perform a dummy encoding to the values.**"
   ]
  },
  {
   "cell_type": "markdown",
   "metadata": {},
   "source": [
    "### 2.3.4.2 Basement missing values"
   ]
  },
  {
   "cell_type": "markdown",
   "metadata": {},
   "source": [
    "**1. housing_data**"
   ]
  },
  {
   "cell_type": "code",
   "execution_count": 33,
   "metadata": {
    "scrolled": false
   },
   "outputs": [
    {
     "data": {
      "text/html": [
       "<div>\n",
       "<style scoped>\n",
       "    .dataframe tbody tr th:only-of-type {\n",
       "        vertical-align: middle;\n",
       "    }\n",
       "\n",
       "    .dataframe tbody tr th {\n",
       "        vertical-align: top;\n",
       "    }\n",
       "\n",
       "    .dataframe thead th {\n",
       "        text-align: right;\n",
       "    }\n",
       "</style>\n",
       "<table border=\"1\" class=\"dataframe\">\n",
       "  <thead>\n",
       "    <tr style=\"text-align: right;\">\n",
       "      <th></th>\n",
       "      <th>bsmt_qual</th>\n",
       "      <th>bsmt_cond</th>\n",
       "      <th>bsmt_exposure</th>\n",
       "      <th>bsmtfin_type_1</th>\n",
       "      <th>bsmtfin_sf_1</th>\n",
       "      <th>bsmtfin_type_2</th>\n",
       "      <th>bsmtfin_sf_2</th>\n",
       "      <th>bsmt_unf_sf</th>\n",
       "      <th>total_bsmt_sf</th>\n",
       "      <th>bsmt_full_bath</th>\n",
       "      <th>bsmt_half_bath</th>\n",
       "    </tr>\n",
       "  </thead>\n",
       "  <tbody>\n",
       "    <tr>\n",
       "      <th>12</th>\n",
       "      <td>NaN</td>\n",
       "      <td>NaN</td>\n",
       "      <td>NaN</td>\n",
       "      <td>NaN</td>\n",
       "      <td>0.0</td>\n",
       "      <td>NaN</td>\n",
       "      <td>0.0</td>\n",
       "      <td>0.0</td>\n",
       "      <td>0.0</td>\n",
       "      <td>0.0</td>\n",
       "      <td>0.0</td>\n",
       "    </tr>\n",
       "    <tr>\n",
       "      <th>93</th>\n",
       "      <td>NaN</td>\n",
       "      <td>NaN</td>\n",
       "      <td>NaN</td>\n",
       "      <td>NaN</td>\n",
       "      <td>0.0</td>\n",
       "      <td>NaN</td>\n",
       "      <td>0.0</td>\n",
       "      <td>0.0</td>\n",
       "      <td>0.0</td>\n",
       "      <td>0.0</td>\n",
       "      <td>0.0</td>\n",
       "    </tr>\n",
       "    <tr>\n",
       "      <th>114</th>\n",
       "      <td>NaN</td>\n",
       "      <td>NaN</td>\n",
       "      <td>NaN</td>\n",
       "      <td>NaN</td>\n",
       "      <td>0.0</td>\n",
       "      <td>NaN</td>\n",
       "      <td>0.0</td>\n",
       "      <td>0.0</td>\n",
       "      <td>0.0</td>\n",
       "      <td>0.0</td>\n",
       "      <td>0.0</td>\n",
       "    </tr>\n",
       "    <tr>\n",
       "      <th>146</th>\n",
       "      <td>NaN</td>\n",
       "      <td>NaN</td>\n",
       "      <td>NaN</td>\n",
       "      <td>NaN</td>\n",
       "      <td>0.0</td>\n",
       "      <td>NaN</td>\n",
       "      <td>0.0</td>\n",
       "      <td>0.0</td>\n",
       "      <td>0.0</td>\n",
       "      <td>0.0</td>\n",
       "      <td>0.0</td>\n",
       "    </tr>\n",
       "    <tr>\n",
       "      <th>183</th>\n",
       "      <td>NaN</td>\n",
       "      <td>NaN</td>\n",
       "      <td>NaN</td>\n",
       "      <td>NaN</td>\n",
       "      <td>0.0</td>\n",
       "      <td>NaN</td>\n",
       "      <td>0.0</td>\n",
       "      <td>0.0</td>\n",
       "      <td>0.0</td>\n",
       "      <td>0.0</td>\n",
       "      <td>0.0</td>\n",
       "    </tr>\n",
       "  </tbody>\n",
       "</table>\n",
       "</div>"
      ],
      "text/plain": [
       "    bsmt_qual bsmt_cond bsmt_exposure bsmtfin_type_1  bsmtfin_sf_1  \\\n",
       "12        NaN       NaN           NaN            NaN           0.0   \n",
       "93        NaN       NaN           NaN            NaN           0.0   \n",
       "114       NaN       NaN           NaN            NaN           0.0   \n",
       "146       NaN       NaN           NaN            NaN           0.0   \n",
       "183       NaN       NaN           NaN            NaN           0.0   \n",
       "\n",
       "    bsmtfin_type_2  bsmtfin_sf_2  bsmt_unf_sf  total_bsmt_sf  bsmt_full_bath  \\\n",
       "12             NaN           0.0          0.0            0.0             0.0   \n",
       "93             NaN           0.0          0.0            0.0             0.0   \n",
       "114            NaN           0.0          0.0            0.0             0.0   \n",
       "146            NaN           0.0          0.0            0.0             0.0   \n",
       "183            NaN           0.0          0.0            0.0             0.0   \n",
       "\n",
       "     bsmt_half_bath  \n",
       "12              0.0  \n",
       "93              0.0  \n",
       "114             0.0  \n",
       "146             0.0  \n",
       "183             0.0  "
      ]
     },
     "execution_count": 33,
     "metadata": {},
     "output_type": "execute_result"
    }
   ],
   "source": [
    "# Checking the null for columns related to basement\n",
    "housing_data.loc[(housing_data[\"bsmt_qual\"].isnull())|\n",
    "                 (housing_data[\"bsmt_cond\"].isnull())|\n",
    "                 (housing_data[\"bsmt_exposure\"].isnull())|\n",
    "                 (housing_data[\"bsmtfin_type_1\"].isnull())|\n",
    "                 (housing_data[\"bsmtfin_type_2\"].isnull())|\n",
    "                 (housing_data[\"bsmt_full_bath\"].isnull())|\n",
    "                 (housing_data[\"bsmt_half_bath\"].isnull())|\n",
    "                 (housing_data[\"bsmtfin_sf_1\"].isnull())|\n",
    "                 (housing_data[\"bsmtfin_sf_2\"].isnull())|\n",
    "                 (housing_data[\"bsmt_unf_sf\"].isnull())|\n",
    "                 (housing_data[\"total_bsmt_sf\"].isnull()), \n",
    "                 [\"bsmt_qual\",\"bsmt_cond\",\"bsmt_exposure\",\n",
    "                  \"bsmtfin_type_1\",\"bsmtfin_sf_1\",\"bsmtfin_type_2\", \n",
    "                  \"bsmtfin_sf_2\", \"bsmt_unf_sf\", \"total_bsmt_sf\", \n",
    "                  \"bsmt_full_bath\", \"bsmt_half_bath\"]].head()"
   ]
  },
  {
   "cell_type": "markdown",
   "metadata": {},
   "source": [
    "**Analysis: Majority of the basement features have missing values when total basement area (total_bsmt_sf) is zero.**\n",
    "\n",
    "1. When total_bsmt_sf (basement area) is 0, this suggests that there should be no other basement features.\n",
    "\n",
    "2. For  bsmt_qual, bsmt_cond, bsmt_exposure, bsmtfin_type_1, bsmtfin_type_2, the missing values will be inputed as 'NA' for No basement when the total_bsmt_sf is 0. \n",
    "\n",
    "3. For full_bath and half_bath (index 616), the missing values will be inputed as 0 as the total_bsmt_sf is 0. \n",
    "\n",
    "4. Index 1327 has no basement information for all basement features. As all values are missing, this might suggests that there is no basement for this property. Thus, the missing values will be inputed as 'NA' and 0 for the respective columns."
   ]
  },
  {
   "cell_type": "code",
   "execution_count": 34,
   "metadata": {},
   "outputs": [
    {
     "data": {
      "text/html": [
       "<div>\n",
       "<style scoped>\n",
       "    .dataframe tbody tr th:only-of-type {\n",
       "        vertical-align: middle;\n",
       "    }\n",
       "\n",
       "    .dataframe tbody tr th {\n",
       "        vertical-align: top;\n",
       "    }\n",
       "\n",
       "    .dataframe thead th {\n",
       "        text-align: right;\n",
       "    }\n",
       "</style>\n",
       "<table border=\"1\" class=\"dataframe\">\n",
       "  <thead>\n",
       "    <tr style=\"text-align: right;\">\n",
       "      <th></th>\n",
       "      <th>total_bsmt_sf</th>\n",
       "      <th>bsmt_unf_sf</th>\n",
       "      <th>bsmtfin_sf_1</th>\n",
       "      <th>bsmtfin_sf_2</th>\n",
       "    </tr>\n",
       "  </thead>\n",
       "  <tbody>\n",
       "    <tr>\n",
       "      <th>1327</th>\n",
       "      <td>0.0</td>\n",
       "      <td>0.0</td>\n",
       "      <td>0.0</td>\n",
       "      <td>0.0</td>\n",
       "    </tr>\n",
       "  </tbody>\n",
       "</table>\n",
       "</div>"
      ],
      "text/plain": [
       "      total_bsmt_sf  bsmt_unf_sf  bsmtfin_sf_1  bsmtfin_sf_2\n",
       "1327            0.0          0.0           0.0           0.0"
      ]
     },
     "execution_count": 34,
     "metadata": {},
     "output_type": "execute_result"
    }
   ],
   "source": [
    "# Change the index 1327 missing values for total_bsmt_sf, bsmtfin_sf_1 and bsmtfin_sf_2 to 0\n",
    "housing_data.loc[[1327],'total_bsmt_sf'] = housing_data.loc[[1327],'total_bsmt_sf'].fillna(0)\n",
    "housing_data.loc[[1327],'bsmt_unf_sf'] = housing_data.loc[[1327],'bsmt_unf_sf'].fillna(0)\n",
    "housing_data.loc[[1327],'bsmtfin_sf_1'] = housing_data.loc[[1327],'bsmtfin_sf_1'].fillna(0)\n",
    "housing_data.loc[[1327],'bsmtfin_sf_2'] = housing_data.loc[[1327],'bsmtfin_sf_2'].fillna(0)\n",
    "housing_data.loc[[1327], ['total_bsmt_sf', \"bsmt_unf_sf\", 'bsmtfin_sf_1', 'bsmtfin_sf_2']].head()"
   ]
  },
  {
   "cell_type": "code",
   "execution_count": 35,
   "metadata": {},
   "outputs": [],
   "source": [
    "def modify_with_criteria_onenull_onezero(data_base, modify_column, base_column, new_char):\n",
    "    mask = (data_base[modify_column].isnull()) & (data_base[base_column] == 0)\n",
    "    data_base.loc[mask,modify_column] = data_base.loc[mask,modify_column].fillna(new_char)\n",
    "    return f\"The missing values has successfully changed.\""
   ]
  },
  {
   "cell_type": "code",
   "execution_count": 36,
   "metadata": {},
   "outputs": [
    {
     "data": {
      "text/plain": [
       "'The missing values has successfully changed.'"
      ]
     },
     "execution_count": 36,
     "metadata": {},
     "output_type": "execute_result"
    }
   ],
   "source": [
    "\"\"\"Change the missing values in bsmt_qual, bsmt_cond, bsmt_exposure, bsmtfin_type_1, bsmtfin_type_2 column to \n",
    "'NA' while for bsmt_full_bath and bsmt_half_bath columns to 0 when total_bsmt_sf is 0\"\"\"\n",
    "modify_with_criteria_onenull_onezero(housing_data, \"bsmt_qual\", \"total_bsmt_sf\", 'NA')\n",
    "modify_with_criteria_onenull_onezero(housing_data, \"bsmt_cond\", \"total_bsmt_sf\", 'NA')\n",
    "modify_with_criteria_onenull_onezero(housing_data, \"bsmt_exposure\", \"total_bsmt_sf\", 'NA')\n",
    "modify_with_criteria_onenull_onezero(housing_data, \"bsmtfin_type_1\", \"total_bsmt_sf\", 'NA')\n",
    "modify_with_criteria_onenull_onezero(housing_data, \"bsmtfin_type_2\", \"total_bsmt_sf\", 'NA')\n",
    "modify_with_criteria_onenull_onezero(housing_data, \"bsmt_full_bath\", \"total_bsmt_sf\", 0)\n",
    "modify_with_criteria_onenull_onezero(housing_data, \"bsmt_half_bath\", \"total_bsmt_sf\", 0)"
   ]
  },
  {
   "cell_type": "code",
   "execution_count": 37,
   "metadata": {
    "scrolled": true
   },
   "outputs": [
    {
     "data": {
      "text/html": [
       "<div>\n",
       "<style scoped>\n",
       "    .dataframe tbody tr th:only-of-type {\n",
       "        vertical-align: middle;\n",
       "    }\n",
       "\n",
       "    .dataframe tbody tr th {\n",
       "        vertical-align: top;\n",
       "    }\n",
       "\n",
       "    .dataframe thead th {\n",
       "        text-align: right;\n",
       "    }\n",
       "</style>\n",
       "<table border=\"1\" class=\"dataframe\">\n",
       "  <thead>\n",
       "    <tr style=\"text-align: right;\">\n",
       "      <th></th>\n",
       "      <th>bsmt_qual</th>\n",
       "      <th>bsmt_cond</th>\n",
       "      <th>bsmt_exposure</th>\n",
       "      <th>bsmtfin_type_1</th>\n",
       "      <th>bsmtfin_sf_1</th>\n",
       "      <th>bsmtfin_type_2</th>\n",
       "      <th>bsmtfin_sf_2</th>\n",
       "      <th>bsmt_unf_sf</th>\n",
       "      <th>total_bsmt_sf</th>\n",
       "      <th>bsmt_full_bath</th>\n",
       "      <th>bsmt_half_bath</th>\n",
       "    </tr>\n",
       "  </thead>\n",
       "  <tbody>\n",
       "    <tr>\n",
       "      <th>1147</th>\n",
       "      <td>Gd</td>\n",
       "      <td>TA</td>\n",
       "      <td>No</td>\n",
       "      <td>GLQ</td>\n",
       "      <td>1124.0</td>\n",
       "      <td>NaN</td>\n",
       "      <td>479.0</td>\n",
       "      <td>1603.0</td>\n",
       "      <td>3206.0</td>\n",
       "      <td>1.0</td>\n",
       "      <td>0.0</td>\n",
       "    </tr>\n",
       "    <tr>\n",
       "      <th>1456</th>\n",
       "      <td>Gd</td>\n",
       "      <td>TA</td>\n",
       "      <td>NaN</td>\n",
       "      <td>Unf</td>\n",
       "      <td>0.0</td>\n",
       "      <td>Unf</td>\n",
       "      <td>0.0</td>\n",
       "      <td>725.0</td>\n",
       "      <td>725.0</td>\n",
       "      <td>0.0</td>\n",
       "      <td>0.0</td>\n",
       "    </tr>\n",
       "    <tr>\n",
       "      <th>1547</th>\n",
       "      <td>Gd</td>\n",
       "      <td>TA</td>\n",
       "      <td>NaN</td>\n",
       "      <td>Unf</td>\n",
       "      <td>0.0</td>\n",
       "      <td>Unf</td>\n",
       "      <td>0.0</td>\n",
       "      <td>1595.0</td>\n",
       "      <td>1595.0</td>\n",
       "      <td>0.0</td>\n",
       "      <td>0.0</td>\n",
       "    </tr>\n",
       "    <tr>\n",
       "      <th>1997</th>\n",
       "      <td>Gd</td>\n",
       "      <td>TA</td>\n",
       "      <td>NaN</td>\n",
       "      <td>Unf</td>\n",
       "      <td>0.0</td>\n",
       "      <td>Unf</td>\n",
       "      <td>0.0</td>\n",
       "      <td>936.0</td>\n",
       "      <td>936.0</td>\n",
       "      <td>0.0</td>\n",
       "      <td>0.0</td>\n",
       "    </tr>\n",
       "  </tbody>\n",
       "</table>\n",
       "</div>"
      ],
      "text/plain": [
       "     bsmt_qual bsmt_cond bsmt_exposure bsmtfin_type_1  bsmtfin_sf_1  \\\n",
       "1147        Gd        TA            No            GLQ        1124.0   \n",
       "1456        Gd        TA           NaN            Unf           0.0   \n",
       "1547        Gd        TA           NaN            Unf           0.0   \n",
       "1997        Gd        TA           NaN            Unf           0.0   \n",
       "\n",
       "     bsmtfin_type_2  bsmtfin_sf_2  bsmt_unf_sf  total_bsmt_sf  bsmt_full_bath  \\\n",
       "1147            NaN         479.0       1603.0         3206.0             1.0   \n",
       "1456            Unf           0.0        725.0          725.0             0.0   \n",
       "1547            Unf           0.0       1595.0         1595.0             0.0   \n",
       "1997            Unf           0.0        936.0          936.0             0.0   \n",
       "\n",
       "      bsmt_half_bath  \n",
       "1147             0.0  \n",
       "1456             0.0  \n",
       "1547             0.0  \n",
       "1997             0.0  "
      ]
     },
     "execution_count": 37,
     "metadata": {},
     "output_type": "execute_result"
    }
   ],
   "source": [
    "# Check for missing values in basement related columns\n",
    "housing_data.loc[(housing_data[\"bsmt_qual\"].isnull())|\n",
    "                 (housing_data[\"bsmt_cond\"].isnull())|\n",
    "                 (housing_data[\"bsmt_exposure\"].isnull())|\n",
    "                 (housing_data[\"bsmtfin_type_1\"].isnull())|\n",
    "                 (housing_data[\"bsmtfin_type_2\"].isnull())|\n",
    "                 (housing_data[\"bsmt_full_bath\"].isnull())|\n",
    "                 (housing_data[\"bsmt_half_bath\"].isnull())|\n",
    "                 (housing_data[\"bsmtfin_sf_1\"].isnull())|\n",
    "                 (housing_data[\"bsmtfin_sf_2\"].isnull())|\n",
    "                 (housing_data[\"bsmt_unf_sf\"].isnull())|\n",
    "                 (housing_data[\"total_bsmt_sf\"].isnull()), \n",
    "                 [\"bsmt_qual\",\"bsmt_cond\",\"bsmt_exposure\",\n",
    "                  \"bsmtfin_type_1\",\"bsmtfin_sf_1\",\"bsmtfin_type_2\", \n",
    "                  \"bsmtfin_sf_2\", \"bsmt_unf_sf\", \"total_bsmt_sf\", \n",
    "                  \"bsmt_full_bath\", \"bsmt_half_bath\"]].head()"
   ]
  },
  {
   "cell_type": "markdown",
   "metadata": {},
   "source": [
    "**Analysis: Successfully indicated 'NA' (No basement) and value zero for basement features when total basement area is zero.**\n",
    "\n",
    "* The basement features has successfully replaced the missing values with 'NA' for No basement and value zero for full bath and half bath in basement when total basement area is zero. This includes for index 1327 for all basement features.\n",
    "* There are additional missing values:-\n",
    "    * bsmt_exposure has 3 additional missing values at Index 1456, 1547, 1997. As these three missing values in has similar characteristics, we can investigate if there are a similar trend in the bsmt exposure with the characteristics of \"bsmt_qual\" is 'Gd', 'bsmt_cond' is 'TA', 'bsmtfin_type_1 is 'Unf', 'bsmt_unf_sf' more than 700 sqft, 'bsmt_full_bath' is 0 and 'bsmt_half_bath' is 0.\n",
    "    * Index 1147 for column bsmtfin_type_2 has 1 missing value. We can investigate the similar trend with other basement features."
   ]
  },
  {
   "cell_type": "markdown",
   "metadata": {},
   "source": [
    "**bsmt_exposure missing values**"
   ]
  },
  {
   "cell_type": "code",
   "execution_count": 38,
   "metadata": {
    "scrolled": true
   },
   "outputs": [
    {
     "data": {
      "text/html": [
       "<div>\n",
       "<style scoped>\n",
       "    .dataframe tbody tr th:only-of-type {\n",
       "        vertical-align: middle;\n",
       "    }\n",
       "\n",
       "    .dataframe tbody tr th {\n",
       "        vertical-align: top;\n",
       "    }\n",
       "\n",
       "    .dataframe thead th {\n",
       "        text-align: right;\n",
       "    }\n",
       "</style>\n",
       "<table border=\"1\" class=\"dataframe\">\n",
       "  <thead>\n",
       "    <tr style=\"text-align: right;\">\n",
       "      <th></th>\n",
       "      <th>bsmt_qual</th>\n",
       "      <th>bsmt_cond</th>\n",
       "      <th>bsmt_exposure</th>\n",
       "      <th>bsmtfin_type_1</th>\n",
       "      <th>bsmtfin_sf_1</th>\n",
       "      <th>bsmtfin_type_2</th>\n",
       "      <th>bsmtfin_sf_2</th>\n",
       "      <th>bsmt_unf_sf</th>\n",
       "      <th>total_bsmt_sf</th>\n",
       "      <th>bsmt_full_bath</th>\n",
       "      <th>bsmt_half_bath</th>\n",
       "    </tr>\n",
       "  </thead>\n",
       "  <tbody>\n",
       "    <tr>\n",
       "      <th>31</th>\n",
       "      <td>Gd</td>\n",
       "      <td>TA</td>\n",
       "      <td>No</td>\n",
       "      <td>Unf</td>\n",
       "      <td>0.0</td>\n",
       "      <td>Unf</td>\n",
       "      <td>0.0</td>\n",
       "      <td>792.0</td>\n",
       "      <td>792.0</td>\n",
       "      <td>0.0</td>\n",
       "      <td>0.0</td>\n",
       "    </tr>\n",
       "    <tr>\n",
       "      <th>47</th>\n",
       "      <td>Gd</td>\n",
       "      <td>TA</td>\n",
       "      <td>No</td>\n",
       "      <td>Unf</td>\n",
       "      <td>0.0</td>\n",
       "      <td>Unf</td>\n",
       "      <td>0.0</td>\n",
       "      <td>776.0</td>\n",
       "      <td>776.0</td>\n",
       "      <td>0.0</td>\n",
       "      <td>0.0</td>\n",
       "    </tr>\n",
       "    <tr>\n",
       "      <th>49</th>\n",
       "      <td>Gd</td>\n",
       "      <td>TA</td>\n",
       "      <td>No</td>\n",
       "      <td>Unf</td>\n",
       "      <td>0.0</td>\n",
       "      <td>Unf</td>\n",
       "      <td>0.0</td>\n",
       "      <td>764.0</td>\n",
       "      <td>764.0</td>\n",
       "      <td>0.0</td>\n",
       "      <td>0.0</td>\n",
       "    </tr>\n",
       "    <tr>\n",
       "      <th>67</th>\n",
       "      <td>Gd</td>\n",
       "      <td>TA</td>\n",
       "      <td>No</td>\n",
       "      <td>Unf</td>\n",
       "      <td>0.0</td>\n",
       "      <td>Unf</td>\n",
       "      <td>0.0</td>\n",
       "      <td>976.0</td>\n",
       "      <td>976.0</td>\n",
       "      <td>0.0</td>\n",
       "      <td>0.0</td>\n",
       "    </tr>\n",
       "    <tr>\n",
       "      <th>73</th>\n",
       "      <td>Gd</td>\n",
       "      <td>TA</td>\n",
       "      <td>No</td>\n",
       "      <td>Unf</td>\n",
       "      <td>0.0</td>\n",
       "      <td>Unf</td>\n",
       "      <td>0.0</td>\n",
       "      <td>970.0</td>\n",
       "      <td>970.0</td>\n",
       "      <td>0.0</td>\n",
       "      <td>0.0</td>\n",
       "    </tr>\n",
       "  </tbody>\n",
       "</table>\n",
       "</div>"
      ],
      "text/plain": [
       "   bsmt_qual bsmt_cond bsmt_exposure bsmtfin_type_1  bsmtfin_sf_1  \\\n",
       "31        Gd        TA            No            Unf           0.0   \n",
       "47        Gd        TA            No            Unf           0.0   \n",
       "49        Gd        TA            No            Unf           0.0   \n",
       "67        Gd        TA            No            Unf           0.0   \n",
       "73        Gd        TA            No            Unf           0.0   \n",
       "\n",
       "   bsmtfin_type_2  bsmtfin_sf_2  bsmt_unf_sf  total_bsmt_sf  bsmt_full_bath  \\\n",
       "31            Unf           0.0        792.0          792.0             0.0   \n",
       "47            Unf           0.0        776.0          776.0             0.0   \n",
       "49            Unf           0.0        764.0          764.0             0.0   \n",
       "67            Unf           0.0        976.0          976.0             0.0   \n",
       "73            Unf           0.0        970.0          970.0             0.0   \n",
       "\n",
       "    bsmt_half_bath  \n",
       "31             0.0  \n",
       "47             0.0  \n",
       "49             0.0  \n",
       "67             0.0  \n",
       "73             0.0  "
      ]
     },
     "execution_count": 38,
     "metadata": {},
     "output_type": "execute_result"
    }
   ],
   "source": [
    "# Using the similar characteristics across the three missing values to filter and observe similar trends\n",
    "housing_data.loc[(housing_data[\"bsmt_qual\"]=='Gd') &\n",
    "                 (housing_data[\"bsmt_cond\"]=='TA') &\n",
    "                 (housing_data[\"bsmtfin_type_1\"]=='Unf') &\n",
    "                 (housing_data[\"bsmt_unf_sf\"]>700) &\n",
    "                 (housing_data[\"bsmt_full_bath\"]== 0) &\n",
    "                 (housing_data[\"bsmt_half_bath\"]== 0),\n",
    "                  [\"bsmt_qual\",\"bsmt_cond\",\"bsmt_exposure\",\n",
    "                   \"bsmtfin_type_1\",\"bsmtfin_sf_1\",\"bsmtfin_type_2\", \n",
    "                   \"bsmtfin_sf_2\", \"bsmt_unf_sf\", \"total_bsmt_sf\", \n",
    "                   \"bsmt_full_bath\", \"bsmt_half_bath\"]].head()"
   ]
  },
  {
   "cell_type": "code",
   "execution_count": 39,
   "metadata": {},
   "outputs": [
    {
     "data": {
      "text/plain": [
       "       bsmt_exposure\n",
       "False  No               1184\n",
       "       Av                246\n",
       "       Gd                195\n",
       "       Mn                152\n",
       "       NA                 55\n",
       "True   No                155\n",
       "       Av                 42\n",
       "       Mn                 11\n",
       "       Gd                  8\n",
       "Name: bsmt_exposure, dtype: int64"
      ]
     },
     "execution_count": 39,
     "metadata": {},
     "output_type": "execute_result"
    }
   ],
   "source": [
    "# To count the values in bsmt_exposure when it is observed with the similar characteristics\n",
    "mask = (housing_data[\"bsmt_qual\"]=='Gd') & (housing_data[\"bsmt_cond\"]=='TA') & (housing_data[\"bsmtfin_type_1\"]=='Unf') & (housing_data[\"bsmt_unf_sf\"]>700) & (housing_data[\"bsmt_full_bath\"]== 0) & (housing_data[\"bsmt_half_bath\"]== 0)\n",
    "housing_data.groupby(mask)['bsmt_exposure'].value_counts()"
   ]
  },
  {
   "cell_type": "markdown",
   "metadata": {},
   "source": [
    "**Analysis: Using the similar parameters across the three 'bsmt_exposure' missing values as criteria, the majority of the samples are labeled as No exposure**\n",
    "\n",
    "Majority of the sample are labeled as No exposure when compared to the other ratings. Thus, we will place 'No\" for these missing values."
   ]
  },
  {
   "cell_type": "code",
   "execution_count": 40,
   "metadata": {},
   "outputs": [],
   "source": [
    "# Change the missing values to 'No' using the similar characteristics across the three missing values\n",
    "mask = (housing_data[\"bsmt_qual\"]=='Gd') & (housing_data[\"bsmt_cond\"]=='TA') & (housing_data[\"bsmtfin_type_1\"]=='Unf') & (housing_data[\"bsmt_unf_sf\"]>700) & (housing_data[\"bsmt_full_bath\"]== 0) & (housing_data[\"bsmt_half_bath\"]== 0)\n",
    "housing_data.loc[mask,\"bsmt_exposure\"] = housing_data.loc[mask,\"bsmt_exposure\"].fillna('No')"
   ]
  },
  {
   "cell_type": "code",
   "execution_count": 41,
   "metadata": {
    "scrolled": true
   },
   "outputs": [
    {
     "data": {
      "text/html": [
       "<div>\n",
       "<style scoped>\n",
       "    .dataframe tbody tr th:only-of-type {\n",
       "        vertical-align: middle;\n",
       "    }\n",
       "\n",
       "    .dataframe tbody tr th {\n",
       "        vertical-align: top;\n",
       "    }\n",
       "\n",
       "    .dataframe thead th {\n",
       "        text-align: right;\n",
       "    }\n",
       "</style>\n",
       "<table border=\"1\" class=\"dataframe\">\n",
       "  <thead>\n",
       "    <tr style=\"text-align: right;\">\n",
       "      <th></th>\n",
       "      <th>bsmt_qual</th>\n",
       "      <th>bsmt_cond</th>\n",
       "      <th>bsmt_exposure</th>\n",
       "      <th>bsmtfin_type_1</th>\n",
       "      <th>bsmtfin_sf_1</th>\n",
       "      <th>bsmtfin_type_2</th>\n",
       "      <th>bsmtfin_sf_2</th>\n",
       "      <th>bsmt_unf_sf</th>\n",
       "      <th>total_bsmt_sf</th>\n",
       "      <th>bsmt_full_bath</th>\n",
       "      <th>bsmt_half_bath</th>\n",
       "    </tr>\n",
       "  </thead>\n",
       "  <tbody>\n",
       "    <tr>\n",
       "      <th>1456</th>\n",
       "      <td>Gd</td>\n",
       "      <td>TA</td>\n",
       "      <td>No</td>\n",
       "      <td>Unf</td>\n",
       "      <td>0.0</td>\n",
       "      <td>Unf</td>\n",
       "      <td>0.0</td>\n",
       "      <td>725.0</td>\n",
       "      <td>725.0</td>\n",
       "      <td>0.0</td>\n",
       "      <td>0.0</td>\n",
       "    </tr>\n",
       "    <tr>\n",
       "      <th>1547</th>\n",
       "      <td>Gd</td>\n",
       "      <td>TA</td>\n",
       "      <td>No</td>\n",
       "      <td>Unf</td>\n",
       "      <td>0.0</td>\n",
       "      <td>Unf</td>\n",
       "      <td>0.0</td>\n",
       "      <td>1595.0</td>\n",
       "      <td>1595.0</td>\n",
       "      <td>0.0</td>\n",
       "      <td>0.0</td>\n",
       "    </tr>\n",
       "    <tr>\n",
       "      <th>1997</th>\n",
       "      <td>Gd</td>\n",
       "      <td>TA</td>\n",
       "      <td>No</td>\n",
       "      <td>Unf</td>\n",
       "      <td>0.0</td>\n",
       "      <td>Unf</td>\n",
       "      <td>0.0</td>\n",
       "      <td>936.0</td>\n",
       "      <td>936.0</td>\n",
       "      <td>0.0</td>\n",
       "      <td>0.0</td>\n",
       "    </tr>\n",
       "  </tbody>\n",
       "</table>\n",
       "</div>"
      ],
      "text/plain": [
       "     bsmt_qual bsmt_cond bsmt_exposure bsmtfin_type_1  bsmtfin_sf_1  \\\n",
       "1456        Gd        TA            No            Unf           0.0   \n",
       "1547        Gd        TA            No            Unf           0.0   \n",
       "1997        Gd        TA            No            Unf           0.0   \n",
       "\n",
       "     bsmtfin_type_2  bsmtfin_sf_2  bsmt_unf_sf  total_bsmt_sf  bsmt_full_bath  \\\n",
       "1456            Unf           0.0        725.0          725.0             0.0   \n",
       "1547            Unf           0.0       1595.0         1595.0             0.0   \n",
       "1997            Unf           0.0        936.0          936.0             0.0   \n",
       "\n",
       "      bsmt_half_bath  \n",
       "1456             0.0  \n",
       "1547             0.0  \n",
       "1997             0.0  "
      ]
     },
     "execution_count": 41,
     "metadata": {},
     "output_type": "execute_result"
    }
   ],
   "source": [
    "# To check if the missing values have been filled as 'No'\n",
    "housing_data.loc[([1456, 1547, 1997]), [\"bsmt_qual\",\"bsmt_cond\",\"bsmt_exposure\",\n",
    "                                      \"bsmtfin_type_1\",\"bsmtfin_sf_1\",\"bsmtfin_type_2\", \n",
    "                                      \"bsmtfin_sf_2\", \"bsmt_unf_sf\", \"total_bsmt_sf\", \n",
    "                                      \"bsmt_full_bath\", \"bsmt_half_bath\"]]"
   ]
  },
  {
   "cell_type": "code",
   "execution_count": 42,
   "metadata": {},
   "outputs": [
    {
     "data": {
      "text/plain": [
       "0"
      ]
     },
     "execution_count": 42,
     "metadata": {},
     "output_type": "execute_result"
    }
   ],
   "source": [
    "housing_data.bsmt_exposure.isnull().sum()"
   ]
  },
  {
   "cell_type": "markdown",
   "metadata": {},
   "source": [
    "**Analysis: The 'bsmt_exposure' three missing values have been filled as 'No'.**"
   ]
  },
  {
   "cell_type": "markdown",
   "metadata": {},
   "source": [
    "**bsmtfin_type_2 missing values**"
   ]
  },
  {
   "cell_type": "code",
   "execution_count": 43,
   "metadata": {},
   "outputs": [
    {
     "data": {
      "text/html": [
       "<div>\n",
       "<style scoped>\n",
       "    .dataframe tbody tr th:only-of-type {\n",
       "        vertical-align: middle;\n",
       "    }\n",
       "\n",
       "    .dataframe tbody tr th {\n",
       "        vertical-align: top;\n",
       "    }\n",
       "\n",
       "    .dataframe thead th {\n",
       "        text-align: right;\n",
       "    }\n",
       "</style>\n",
       "<table border=\"1\" class=\"dataframe\">\n",
       "  <thead>\n",
       "    <tr style=\"text-align: right;\">\n",
       "      <th></th>\n",
       "      <th>bsmt_qual</th>\n",
       "      <th>bsmt_cond</th>\n",
       "      <th>bsmt_exposure</th>\n",
       "      <th>bsmtfin_type_1</th>\n",
       "      <th>bsmtfin_sf_1</th>\n",
       "      <th>bsmtfin_type_2</th>\n",
       "      <th>bsmtfin_sf_2</th>\n",
       "      <th>bsmt_unf_sf</th>\n",
       "      <th>total_bsmt_sf</th>\n",
       "      <th>bsmt_full_bath</th>\n",
       "      <th>bsmt_half_bath</th>\n",
       "    </tr>\n",
       "  </thead>\n",
       "  <tbody>\n",
       "    <tr>\n",
       "      <th>1147</th>\n",
       "      <td>Gd</td>\n",
       "      <td>TA</td>\n",
       "      <td>No</td>\n",
       "      <td>GLQ</td>\n",
       "      <td>1124.0</td>\n",
       "      <td>NaN</td>\n",
       "      <td>479.0</td>\n",
       "      <td>1603.0</td>\n",
       "      <td>3206.0</td>\n",
       "      <td>1.0</td>\n",
       "      <td>0.0</td>\n",
       "    </tr>\n",
       "  </tbody>\n",
       "</table>\n",
       "</div>"
      ],
      "text/plain": [
       "     bsmt_qual bsmt_cond bsmt_exposure bsmtfin_type_1  bsmtfin_sf_1  \\\n",
       "1147        Gd        TA            No            GLQ        1124.0   \n",
       "\n",
       "     bsmtfin_type_2  bsmtfin_sf_2  bsmt_unf_sf  total_bsmt_sf  bsmt_full_bath  \\\n",
       "1147            NaN         479.0       1603.0         3206.0             1.0   \n",
       "\n",
       "      bsmt_half_bath  \n",
       "1147             0.0  "
      ]
     },
     "execution_count": 43,
     "metadata": {},
     "output_type": "execute_result"
    }
   ],
   "source": [
    "# To check the bsmtfin_type_2 missing values\n",
    "housing_data.loc[(housing_data[\"bsmtfin_type_2\"].isnull()),\n",
    "                  [\"bsmt_qual\",\"bsmt_cond\",\"bsmt_exposure\",\n",
    "                   \"bsmtfin_type_1\",\"bsmtfin_sf_1\",\"bsmtfin_type_2\", \n",
    "                   \"bsmtfin_sf_2\", \"bsmt_unf_sf\", \"total_bsmt_sf\", \n",
    "                   \"bsmt_full_bath\", \"bsmt_half_bath\"]]"
   ]
  },
  {
   "cell_type": "code",
   "execution_count": 44,
   "metadata": {
    "scrolled": true
   },
   "outputs": [
    {
     "data": {
      "text/html": [
       "<div>\n",
       "<style scoped>\n",
       "    .dataframe tbody tr th:only-of-type {\n",
       "        vertical-align: middle;\n",
       "    }\n",
       "\n",
       "    .dataframe tbody tr th {\n",
       "        vertical-align: top;\n",
       "    }\n",
       "\n",
       "    .dataframe thead th {\n",
       "        text-align: right;\n",
       "    }\n",
       "</style>\n",
       "<table border=\"1\" class=\"dataframe\">\n",
       "  <thead>\n",
       "    <tr style=\"text-align: right;\">\n",
       "      <th></th>\n",
       "      <th>bsmt_qual</th>\n",
       "      <th>bsmt_cond</th>\n",
       "      <th>bsmt_exposure</th>\n",
       "      <th>bsmtfin_type_1</th>\n",
       "      <th>bsmtfin_sf_1</th>\n",
       "      <th>bsmtfin_type_2</th>\n",
       "      <th>bsmtfin_sf_2</th>\n",
       "      <th>bsmt_unf_sf</th>\n",
       "      <th>total_bsmt_sf</th>\n",
       "      <th>bsmt_full_bath</th>\n",
       "      <th>bsmt_half_bath</th>\n",
       "    </tr>\n",
       "  </thead>\n",
       "  <tbody>\n",
       "    <tr>\n",
       "      <th>52</th>\n",
       "      <td>Gd</td>\n",
       "      <td>TA</td>\n",
       "      <td>No</td>\n",
       "      <td>BLQ</td>\n",
       "      <td>790.0</td>\n",
       "      <td>LwQ</td>\n",
       "      <td>469.0</td>\n",
       "      <td>133.0</td>\n",
       "      <td>1392.0</td>\n",
       "      <td>1.0</td>\n",
       "      <td>0.0</td>\n",
       "    </tr>\n",
       "    <tr>\n",
       "      <th>92</th>\n",
       "      <td>Gd</td>\n",
       "      <td>TA</td>\n",
       "      <td>No</td>\n",
       "      <td>LwQ</td>\n",
       "      <td>36.0</td>\n",
       "      <td>GLQ</td>\n",
       "      <td>596.0</td>\n",
       "      <td>122.0</td>\n",
       "      <td>754.0</td>\n",
       "      <td>1.0</td>\n",
       "      <td>0.0</td>\n",
       "    </tr>\n",
       "    <tr>\n",
       "      <th>278</th>\n",
       "      <td>Gd</td>\n",
       "      <td>TA</td>\n",
       "      <td>No</td>\n",
       "      <td>LwQ</td>\n",
       "      <td>81.0</td>\n",
       "      <td>GLQ</td>\n",
       "      <td>612.0</td>\n",
       "      <td>23.0</td>\n",
       "      <td>716.0</td>\n",
       "      <td>1.0</td>\n",
       "      <td>0.0</td>\n",
       "    </tr>\n",
       "    <tr>\n",
       "      <th>285</th>\n",
       "      <td>Gd</td>\n",
       "      <td>TA</td>\n",
       "      <td>No</td>\n",
       "      <td>BLQ</td>\n",
       "      <td>299.0</td>\n",
       "      <td>LwQ</td>\n",
       "      <td>891.0</td>\n",
       "      <td>0.0</td>\n",
       "      <td>1190.0</td>\n",
       "      <td>0.0</td>\n",
       "      <td>0.0</td>\n",
       "    </tr>\n",
       "    <tr>\n",
       "      <th>294</th>\n",
       "      <td>Gd</td>\n",
       "      <td>TA</td>\n",
       "      <td>No</td>\n",
       "      <td>ALQ</td>\n",
       "      <td>435.0</td>\n",
       "      <td>LwQ</td>\n",
       "      <td>622.0</td>\n",
       "      <td>0.0</td>\n",
       "      <td>1057.0</td>\n",
       "      <td>0.0</td>\n",
       "      <td>1.0</td>\n",
       "    </tr>\n",
       "  </tbody>\n",
       "</table>\n",
       "</div>"
      ],
      "text/plain": [
       "    bsmt_qual bsmt_cond bsmt_exposure bsmtfin_type_1  bsmtfin_sf_1  \\\n",
       "52         Gd        TA            No            BLQ         790.0   \n",
       "92         Gd        TA            No            LwQ          36.0   \n",
       "278        Gd        TA            No            LwQ          81.0   \n",
       "285        Gd        TA            No            BLQ         299.0   \n",
       "294        Gd        TA            No            ALQ         435.0   \n",
       "\n",
       "    bsmtfin_type_2  bsmtfin_sf_2  bsmt_unf_sf  total_bsmt_sf  bsmt_full_bath  \\\n",
       "52             LwQ         469.0        133.0         1392.0             1.0   \n",
       "92             GLQ         596.0        122.0          754.0             1.0   \n",
       "278            GLQ         612.0         23.0          716.0             1.0   \n",
       "285            LwQ         891.0          0.0         1190.0             0.0   \n",
       "294            LwQ         622.0          0.0         1057.0             0.0   \n",
       "\n",
       "     bsmt_half_bath  \n",
       "52              0.0  \n",
       "92              0.0  \n",
       "278             0.0  \n",
       "285             0.0  \n",
       "294             1.0  "
      ]
     },
     "execution_count": 44,
     "metadata": {},
     "output_type": "execute_result"
    }
   ],
   "source": [
    "# Using the similar characteristics for the bsmtfin_type_2 to filter and observe similar trends\n",
    "housing_data.loc[(housing_data[\"bsmt_qual\"]=='Gd') &\n",
    "                 (housing_data[\"bsmt_cond\"]=='TA') &\n",
    "                 (housing_data[\"bsmt_exposure\"] == 'No') &\n",
    "                 (housing_data[\"bsmtfin_sf_2\"]>400),\n",
    "                  [\"bsmt_qual\",\"bsmt_cond\",\"bsmt_exposure\",\n",
    "                   \"bsmtfin_type_1\",\"bsmtfin_sf_1\",\"bsmtfin_type_2\", \n",
    "                   \"bsmtfin_sf_2\", \"bsmt_unf_sf\", \"total_bsmt_sf\", \n",
    "                   \"bsmt_full_bath\", \"bsmt_half_bath\"]].head()"
   ]
  },
  {
   "cell_type": "code",
   "execution_count": 45,
   "metadata": {
    "scrolled": true
   },
   "outputs": [
    {
     "data": {
      "text/plain": [
       "       bsmtfin_type_2\n",
       "False  Unf               1749\n",
       "       Rec                 78\n",
       "       LwQ                 56\n",
       "       NA                  55\n",
       "       BLQ                 47\n",
       "       ALQ                 32\n",
       "       GLQ                 19\n",
       "True   GLQ                  4\n",
       "       LwQ                  4\n",
       "       ALQ                  3\n",
       "       Rec                  2\n",
       "       BLQ                  1\n",
       "Name: bsmtfin_type_2, dtype: int64"
      ]
     },
     "execution_count": 45,
     "metadata": {},
     "output_type": "execute_result"
    }
   ],
   "source": [
    "# To count the values in bsmtfin_type_2 when it is observed with the similar characteristics\n",
    "mask = (housing_data[\"bsmt_qual\"]=='Gd') & (housing_data[\"bsmt_cond\"]=='TA') &(housing_data[\"bsmt_exposure\"] == 'No') &(housing_data[\"bsmtfin_sf_2\"]>400)\n",
    "housing_data.groupby(mask)[\"bsmtfin_type_2\"].value_counts()"
   ]
  },
  {
   "cell_type": "markdown",
   "metadata": {},
   "source": [
    "**Analysis: Using the similar parameters for this missing value as criteria, the median will be used to fill in the missing values**\n",
    "\n",
    "As there is a equal proportion of values labeled across these criteria, the median wil be used to fill in the missing values. Thus, we will place 'ALQ\" for this missing value."
   ]
  },
  {
   "cell_type": "code",
   "execution_count": 46,
   "metadata": {},
   "outputs": [],
   "source": [
    "# Change the missing values to 'ALQ' using the similar characteristics across the missing value\n",
    "mask = (housing_data[\"bsmt_qual\"]=='Gd') & (housing_data[\"bsmt_cond\"]=='TA') &(housing_data[\"bsmt_exposure\"] == 'No') &(housing_data[\"bsmtfin_sf_2\"]>400)\n",
    "housing_data.loc[mask,\"bsmtfin_type_2\"] = housing_data.loc[mask,\"bsmtfin_type_2\"].fillna('ALQ')"
   ]
  },
  {
   "cell_type": "code",
   "execution_count": 47,
   "metadata": {},
   "outputs": [
    {
     "data": {
      "text/html": [
       "<div>\n",
       "<style scoped>\n",
       "    .dataframe tbody tr th:only-of-type {\n",
       "        vertical-align: middle;\n",
       "    }\n",
       "\n",
       "    .dataframe tbody tr th {\n",
       "        vertical-align: top;\n",
       "    }\n",
       "\n",
       "    .dataframe thead th {\n",
       "        text-align: right;\n",
       "    }\n",
       "</style>\n",
       "<table border=\"1\" class=\"dataframe\">\n",
       "  <thead>\n",
       "    <tr style=\"text-align: right;\">\n",
       "      <th></th>\n",
       "      <th>bsmt_qual</th>\n",
       "      <th>bsmt_cond</th>\n",
       "      <th>bsmt_exposure</th>\n",
       "      <th>bsmtfin_type_1</th>\n",
       "      <th>bsmtfin_sf_1</th>\n",
       "      <th>bsmtfin_type_2</th>\n",
       "      <th>bsmtfin_sf_2</th>\n",
       "      <th>bsmt_unf_sf</th>\n",
       "      <th>total_bsmt_sf</th>\n",
       "      <th>bsmt_full_bath</th>\n",
       "      <th>bsmt_half_bath</th>\n",
       "    </tr>\n",
       "  </thead>\n",
       "  <tbody>\n",
       "    <tr>\n",
       "      <th>1147</th>\n",
       "      <td>Gd</td>\n",
       "      <td>TA</td>\n",
       "      <td>No</td>\n",
       "      <td>GLQ</td>\n",
       "      <td>1124.0</td>\n",
       "      <td>ALQ</td>\n",
       "      <td>479.0</td>\n",
       "      <td>1603.0</td>\n",
       "      <td>3206.0</td>\n",
       "      <td>1.0</td>\n",
       "      <td>0.0</td>\n",
       "    </tr>\n",
       "  </tbody>\n",
       "</table>\n",
       "</div>"
      ],
      "text/plain": [
       "     bsmt_qual bsmt_cond bsmt_exposure bsmtfin_type_1  bsmtfin_sf_1  \\\n",
       "1147        Gd        TA            No            GLQ        1124.0   \n",
       "\n",
       "     bsmtfin_type_2  bsmtfin_sf_2  bsmt_unf_sf  total_bsmt_sf  bsmt_full_bath  \\\n",
       "1147            ALQ         479.0       1603.0         3206.0             1.0   \n",
       "\n",
       "      bsmt_half_bath  \n",
       "1147             0.0  "
      ]
     },
     "execution_count": 47,
     "metadata": {},
     "output_type": "execute_result"
    }
   ],
   "source": [
    "# To check if the missing values have been filled as 'No'\n",
    "housing_data.loc[([1147]), [\"bsmt_qual\",\"bsmt_cond\",\"bsmt_exposure\",\"bsmtfin_type_1\",\"bsmtfin_sf_1\",\"bsmtfin_type_2\", \n",
    "                            \"bsmtfin_sf_2\", \"bsmt_unf_sf\", \"total_bsmt_sf\", \"bsmt_full_bath\", \"bsmt_half_bath\"]]"
   ]
  },
  {
   "cell_type": "code",
   "execution_count": 48,
   "metadata": {},
   "outputs": [
    {
     "data": {
      "text/plain": [
       "0"
      ]
     },
     "execution_count": 48,
     "metadata": {},
     "output_type": "execute_result"
    }
   ],
   "source": [
    "housing_data.bsmtfin_type_2.isnull().sum()"
   ]
  },
  {
   "cell_type": "markdown",
   "metadata": {},
   "source": [
    "**Analysis: The 'bsmtfin_type_2' missing values have been filled as 'ALQ'.**"
   ]
  },
  {
   "cell_type": "code",
   "execution_count": 49,
   "metadata": {
    "scrolled": true
   },
   "outputs": [
    {
     "data": {
      "text/html": [
       "<div>\n",
       "<style scoped>\n",
       "    .dataframe tbody tr th:only-of-type {\n",
       "        vertical-align: middle;\n",
       "    }\n",
       "\n",
       "    .dataframe tbody tr th {\n",
       "        vertical-align: top;\n",
       "    }\n",
       "\n",
       "    .dataframe thead th {\n",
       "        text-align: right;\n",
       "    }\n",
       "</style>\n",
       "<table border=\"1\" class=\"dataframe\">\n",
       "  <thead>\n",
       "    <tr style=\"text-align: right;\">\n",
       "      <th></th>\n",
       "      <th>bsmt_qual</th>\n",
       "      <th>bsmt_cond</th>\n",
       "      <th>bsmt_exposure</th>\n",
       "      <th>bsmtfin_type_1</th>\n",
       "      <th>bsmtfin_sf_1</th>\n",
       "      <th>bsmtfin_type_2</th>\n",
       "      <th>bsmtfin_sf_2</th>\n",
       "      <th>bsmt_unf_sf</th>\n",
       "      <th>total_bsmt_sf</th>\n",
       "      <th>bsmt_full_bath</th>\n",
       "      <th>bsmt_half_bath</th>\n",
       "    </tr>\n",
       "  </thead>\n",
       "  <tbody>\n",
       "  </tbody>\n",
       "</table>\n",
       "</div>"
      ],
      "text/plain": [
       "Empty DataFrame\n",
       "Columns: [bsmt_qual, bsmt_cond, bsmt_exposure, bsmtfin_type_1, bsmtfin_sf_1, bsmtfin_type_2, bsmtfin_sf_2, bsmt_unf_sf, total_bsmt_sf, bsmt_full_bath, bsmt_half_bath]\n",
       "Index: []"
      ]
     },
     "execution_count": 49,
     "metadata": {},
     "output_type": "execute_result"
    }
   ],
   "source": [
    "housing_data.loc[(housing_data[\"bsmt_qual\"].isnull())|\n",
    "                 (housing_data[\"bsmt_cond\"].isnull())|\n",
    "                 (housing_data[\"bsmt_exposure\"].isnull())|\n",
    "                 (housing_data[\"bsmtfin_type_1\"].isnull())|\n",
    "                 (housing_data[\"bsmtfin_type_2\"].isnull())|\n",
    "                 (housing_data[\"bsmt_full_bath\"].isnull())|\n",
    "                 (housing_data[\"bsmt_half_bath\"].isnull())|\n",
    "                 (housing_data[\"bsmtfin_sf_1\"].isnull())|\n",
    "                 (housing_data[\"bsmtfin_sf_2\"].isnull())|\n",
    "                 (housing_data[\"bsmt_unf_sf\"].isnull())|\n",
    "                 (housing_data[\"total_bsmt_sf\"].isnull()), \n",
    "                 [\"bsmt_qual\",\"bsmt_cond\",\"bsmt_exposure\",\n",
    "                  \"bsmtfin_type_1\",\"bsmtfin_sf_1\",\"bsmtfin_type_2\", \n",
    "                  \"bsmtfin_sf_2\", \"bsmt_unf_sf\", \"total_bsmt_sf\", \n",
    "                  \"bsmt_full_bath\", \"bsmt_half_bath\"]].head()"
   ]
  },
  {
   "cell_type": "markdown",
   "metadata": {},
   "source": [
    "**Summary: The basement features for housing_data missing values has been filled.**"
   ]
  },
  {
   "cell_type": "markdown",
   "metadata": {},
   "source": [
    "**Encode ordinal basement features for housing_data**\n",
    "\n",
    "The ordinal basement features will be encoded to numerical form for future analysis."
   ]
  },
  {
   "cell_type": "code",
   "execution_count": 50,
   "metadata": {
    "scrolled": false
   },
   "outputs": [
    {
     "name": "stdout",
     "output_type": "stream",
     "text": [
      "The bsmt_qual unique characters is [3 4 2 0 5 1]\n",
      "The bsmt_cond unique characters is [3 4 0 2 1 5]\n",
      "The bsmt_exposure unique characters is [1 4 3 0 2]\n",
      "The bsmtfin_type_1 unique characters is [6 1 5 3 0 4 2]\n",
      "The bsmtfin_type_2 unique characterbs is [1 3 0 4 6 2 5]\n"
     ]
    }
   ],
   "source": [
    "# Mapping the ordinal basement features for housing_data for an ordinal encoding\n",
    "housing_data[\"bsmt_qual\"] = housing_data[\"bsmt_qual\"].map({'NA': 0, 'Po': 1, 'Fa': 2, \"TA\": 3, \"Gd\": 4, \"Ex\":5})\n",
    "housing_data[\"bsmt_cond\"] = housing_data[\"bsmt_cond\"].map({'NA': 0, 'Po': 1, 'Fa': 2, \"TA\": 3, \"Gd\": 4, \"Ex\":5})\n",
    "housing_data[\"bsmt_exposure\"] = housing_data[\"bsmt_exposure\"].map({'NA': 0, 'No': 1, 'Mn': 2, \"Av\": 3, \"Gd\": 4})\n",
    "housing_data[\"bsmtfin_type_1\"] = housing_data[\"bsmtfin_type_1\"].map({'NA': 0, 'Unf': 1, 'LwQ': 2, \"Rec\": 3, \"BLQ\": 4, \"ALQ\": 5, \"GLQ\": 6})\n",
    "housing_data[\"bsmtfin_type_2\"] = housing_data[\"bsmtfin_type_2\"].map({'NA': 0, 'Unf': 1, 'LwQ': 2, \"Rec\": 3, \"BLQ\": 4, \"ALQ\": 5, \"GLQ\": 6})\n",
    "print(f\"The bsmt_qual unique characters is {(housing_data.bsmt_qual.unique())}\")\n",
    "print(f\"The bsmt_cond unique characters is {(housing_data.bsmt_cond.unique())}\")\n",
    "print(f\"The bsmt_exposure unique characters is {(housing_data.bsmt_exposure.unique())}\")\n",
    "print(f\"The bsmtfin_type_1 unique characters is {(housing_data.bsmtfin_type_1.unique())}\")\n",
    "print(f\"The bsmtfin_type_2 unique characterbs is {(housing_data.bsmtfin_type_2.unique())}\")"
   ]
  },
  {
   "cell_type": "markdown",
   "metadata": {},
   "source": [
    "**2. test_housing_data**"
   ]
  },
  {
   "cell_type": "code",
   "execution_count": 51,
   "metadata": {},
   "outputs": [
    {
     "data": {
      "text/html": [
       "<div>\n",
       "<style scoped>\n",
       "    .dataframe tbody tr th:only-of-type {\n",
       "        vertical-align: middle;\n",
       "    }\n",
       "\n",
       "    .dataframe tbody tr th {\n",
       "        vertical-align: top;\n",
       "    }\n",
       "\n",
       "    .dataframe thead th {\n",
       "        text-align: right;\n",
       "    }\n",
       "</style>\n",
       "<table border=\"1\" class=\"dataframe\">\n",
       "  <thead>\n",
       "    <tr style=\"text-align: right;\">\n",
       "      <th></th>\n",
       "      <th>bsmt_qual</th>\n",
       "      <th>bsmt_cond</th>\n",
       "      <th>bsmt_exposure</th>\n",
       "      <th>bsmtfin_type_1</th>\n",
       "      <th>bsmtfin_sf_1</th>\n",
       "      <th>bsmtfin_type_2</th>\n",
       "      <th>bsmtfin_sf_2</th>\n",
       "      <th>bsmt_unf_sf</th>\n",
       "      <th>total_bsmt_sf</th>\n",
       "      <th>bsmt_full_bath</th>\n",
       "      <th>bsmt_half_bath</th>\n",
       "    </tr>\n",
       "  </thead>\n",
       "  <tbody>\n",
       "    <tr>\n",
       "      <th>15</th>\n",
       "      <td>NaN</td>\n",
       "      <td>NaN</td>\n",
       "      <td>NaN</td>\n",
       "      <td>NaN</td>\n",
       "      <td>0</td>\n",
       "      <td>NaN</td>\n",
       "      <td>0</td>\n",
       "      <td>0</td>\n",
       "      <td>0</td>\n",
       "      <td>0</td>\n",
       "      <td>0</td>\n",
       "    </tr>\n",
       "    <tr>\n",
       "      <th>37</th>\n",
       "      <td>NaN</td>\n",
       "      <td>NaN</td>\n",
       "      <td>NaN</td>\n",
       "      <td>NaN</td>\n",
       "      <td>0</td>\n",
       "      <td>NaN</td>\n",
       "      <td>0</td>\n",
       "      <td>0</td>\n",
       "      <td>0</td>\n",
       "      <td>0</td>\n",
       "      <td>0</td>\n",
       "    </tr>\n",
       "    <tr>\n",
       "      <th>76</th>\n",
       "      <td>NaN</td>\n",
       "      <td>NaN</td>\n",
       "      <td>NaN</td>\n",
       "      <td>NaN</td>\n",
       "      <td>0</td>\n",
       "      <td>NaN</td>\n",
       "      <td>0</td>\n",
       "      <td>0</td>\n",
       "      <td>0</td>\n",
       "      <td>0</td>\n",
       "      <td>0</td>\n",
       "    </tr>\n",
       "    <tr>\n",
       "      <th>78</th>\n",
       "      <td>NaN</td>\n",
       "      <td>NaN</td>\n",
       "      <td>NaN</td>\n",
       "      <td>NaN</td>\n",
       "      <td>0</td>\n",
       "      <td>NaN</td>\n",
       "      <td>0</td>\n",
       "      <td>0</td>\n",
       "      <td>0</td>\n",
       "      <td>0</td>\n",
       "      <td>0</td>\n",
       "    </tr>\n",
       "    <tr>\n",
       "      <th>112</th>\n",
       "      <td>NaN</td>\n",
       "      <td>NaN</td>\n",
       "      <td>NaN</td>\n",
       "      <td>NaN</td>\n",
       "      <td>0</td>\n",
       "      <td>NaN</td>\n",
       "      <td>0</td>\n",
       "      <td>0</td>\n",
       "      <td>0</td>\n",
       "      <td>0</td>\n",
       "      <td>0</td>\n",
       "    </tr>\n",
       "  </tbody>\n",
       "</table>\n",
       "</div>"
      ],
      "text/plain": [
       "    bsmt_qual bsmt_cond bsmt_exposure bsmtfin_type_1  bsmtfin_sf_1  \\\n",
       "15        NaN       NaN           NaN            NaN             0   \n",
       "37        NaN       NaN           NaN            NaN             0   \n",
       "76        NaN       NaN           NaN            NaN             0   \n",
       "78        NaN       NaN           NaN            NaN             0   \n",
       "112       NaN       NaN           NaN            NaN             0   \n",
       "\n",
       "    bsmtfin_type_2  bsmtfin_sf_2  bsmt_unf_sf  total_bsmt_sf  bsmt_full_bath  \\\n",
       "15             NaN             0            0              0               0   \n",
       "37             NaN             0            0              0               0   \n",
       "76             NaN             0            0              0               0   \n",
       "78             NaN             0            0              0               0   \n",
       "112            NaN             0            0              0               0   \n",
       "\n",
       "     bsmt_half_bath  \n",
       "15                0  \n",
       "37                0  \n",
       "76                0  \n",
       "78                0  \n",
       "112               0  "
      ]
     },
     "execution_count": 51,
     "metadata": {},
     "output_type": "execute_result"
    }
   ],
   "source": [
    "# Checking the null for columns related to basement\n",
    "test_housing_data.loc[(test_housing_data[\"bsmt_qual\"].isnull())| \n",
    "                      (test_housing_data[\"bsmt_cond\"].isnull())|\n",
    "                      (test_housing_data[\"bsmt_exposure\"].isnull())| \n",
    "                      (test_housing_data[\"bsmtfin_type_1\"].isnull())|\n",
    "                      (test_housing_data[\"bsmtfin_type_2\"].isnull())|\n",
    "                      (test_housing_data[\"bsmt_full_bath\"].isnull())|\n",
    "                      (test_housing_data[\"bsmt_half_bath\"].isnull())|\n",
    "                      (test_housing_data[\"bsmtfin_sf_1\"].isnull())|\n",
    "                      (test_housing_data[\"bsmtfin_sf_2\"].isnull())|\n",
    "                      (test_housing_data[\"bsmt_unf_sf\"].isnull())|\n",
    "                      (test_housing_data[\"total_bsmt_sf\"].isnull()),\n",
    "                      [\"bsmt_qual\",\"bsmt_cond\",\"bsmt_exposure\", \n",
    "                       \"bsmtfin_type_1\",\"bsmtfin_sf_1\",\"bsmtfin_type_2\", \n",
    "                       \"bsmtfin_sf_2\", \"bsmt_unf_sf\", \"total_bsmt_sf\", \n",
    "                       \"bsmt_full_bath\", \"bsmt_half_bath\"]].head()"
   ]
  },
  {
   "cell_type": "markdown",
   "metadata": {},
   "source": [
    "**Analysis: Majority of the basement features have missing values when total basement area (total_bsmt_sf) is zero.**\n",
    "\n",
    "When total_bsmt_sf (basement area) is 0, this suggests that there should be no other basement features. For  bsmt_qual, bsmt_cond, bsmt_exposure, bsmtfin_type_1, bsmtfin_type_2, the missing values will be inputed as 'NA' for No basement when the total_bsmt_sf is 0."
   ]
  },
  {
   "cell_type": "code",
   "execution_count": 52,
   "metadata": {},
   "outputs": [
    {
     "data": {
      "text/plain": [
       "'The missing values has successfully changed.'"
      ]
     },
     "execution_count": 52,
     "metadata": {},
     "output_type": "execute_result"
    }
   ],
   "source": [
    "\"\"\"Change the missing values in bsmt_qual, bsmt_cond, bsmt_exposure, bsmtfin_type_1, bsmtfin_type_2 column to \n",
    "'NA' while for bsmt_full_bath and bsmt_half_bath columns to 0 when total_bsmt_sf is 0\"\"\"\n",
    "modify_with_criteria_onenull_onezero(test_housing_data, \"bsmt_qual\", \"total_bsmt_sf\", 'NA')\n",
    "modify_with_criteria_onenull_onezero(test_housing_data, \"bsmt_cond\", \"total_bsmt_sf\", 'NA')\n",
    "modify_with_criteria_onenull_onezero(test_housing_data, \"bsmt_exposure\", \"total_bsmt_sf\", 'NA')\n",
    "modify_with_criteria_onenull_onezero(test_housing_data, \"bsmtfin_type_1\", \"total_bsmt_sf\", 'NA')\n",
    "modify_with_criteria_onenull_onezero(test_housing_data, \"bsmtfin_type_2\", \"total_bsmt_sf\", 'NA')"
   ]
  },
  {
   "cell_type": "code",
   "execution_count": 53,
   "metadata": {
    "scrolled": true
   },
   "outputs": [
    {
     "data": {
      "text/html": [
       "<div>\n",
       "<style scoped>\n",
       "    .dataframe tbody tr th:only-of-type {\n",
       "        vertical-align: middle;\n",
       "    }\n",
       "\n",
       "    .dataframe tbody tr th {\n",
       "        vertical-align: top;\n",
       "    }\n",
       "\n",
       "    .dataframe thead th {\n",
       "        text-align: right;\n",
       "    }\n",
       "</style>\n",
       "<table border=\"1\" class=\"dataframe\">\n",
       "  <thead>\n",
       "    <tr style=\"text-align: right;\">\n",
       "      <th></th>\n",
       "      <th>bsmt_qual</th>\n",
       "      <th>bsmt_cond</th>\n",
       "      <th>bsmt_exposure</th>\n",
       "      <th>bsmtfin_type_1</th>\n",
       "      <th>bsmtfin_sf_1</th>\n",
       "      <th>bsmtfin_type_2</th>\n",
       "      <th>bsmtfin_sf_2</th>\n",
       "      <th>bsmt_unf_sf</th>\n",
       "      <th>total_bsmt_sf</th>\n",
       "      <th>bsmt_full_bath</th>\n",
       "      <th>bsmt_half_bath</th>\n",
       "    </tr>\n",
       "  </thead>\n",
       "  <tbody>\n",
       "  </tbody>\n",
       "</table>\n",
       "</div>"
      ],
      "text/plain": [
       "Empty DataFrame\n",
       "Columns: [bsmt_qual, bsmt_cond, bsmt_exposure, bsmtfin_type_1, bsmtfin_sf_1, bsmtfin_type_2, bsmtfin_sf_2, bsmt_unf_sf, total_bsmt_sf, bsmt_full_bath, bsmt_half_bath]\n",
       "Index: []"
      ]
     },
     "execution_count": 53,
     "metadata": {},
     "output_type": "execute_result"
    }
   ],
   "source": [
    "# Check for missing values in basement related columns\n",
    "test_housing_data.loc[(test_housing_data[\"bsmt_qual\"].isnull())| \n",
    "                      (test_housing_data[\"bsmt_cond\"].isnull())|\n",
    "                      (test_housing_data[\"bsmt_exposure\"].isnull())| \n",
    "                      (test_housing_data[\"bsmtfin_type_1\"].isnull())|\n",
    "                      (test_housing_data[\"bsmtfin_type_2\"].isnull())|\n",
    "                      (test_housing_data[\"bsmt_full_bath\"].isnull())|\n",
    "                      (test_housing_data[\"bsmt_half_bath\"].isnull())|\n",
    "                      (test_housing_data[\"bsmtfin_sf_1\"].isnull())|\n",
    "                      (test_housing_data[\"bsmtfin_sf_2\"].isnull())|\n",
    "                      (test_housing_data[\"bsmt_unf_sf\"].isnull())|\n",
    "                      (test_housing_data[\"total_bsmt_sf\"].isnull()),\n",
    "                      [\"bsmt_qual\",\"bsmt_cond\",\"bsmt_exposure\", \n",
    "                       \"bsmtfin_type_1\",\"bsmtfin_sf_1\",\"bsmtfin_type_2\", \n",
    "                       \"bsmtfin_sf_2\", \"bsmt_unf_sf\", \"total_bsmt_sf\", \n",
    "                       \"bsmt_full_bath\", \"bsmt_half_bath\"]].head()"
   ]
  },
  {
   "cell_type": "markdown",
   "metadata": {},
   "source": [
    "**Analysis: Successfully indicated 'NA' (No basement) and value zero for basement features when total basement area is zero.**\n",
    "\n",
    "* The basement features has successfully replaced the missing values with 'NA' for No basement and value zero for full bath and half bath in basement when total basement area is zero."
   ]
  },
  {
   "cell_type": "markdown",
   "metadata": {},
   "source": [
    "**Summary: Both housing_data and test_housing_data missing values for basement features have been filled**"
   ]
  },
  {
   "cell_type": "markdown",
   "metadata": {},
   "source": [
    "**Encode ordinal basement features for housing_data**\n",
    "\n",
    "The ordinal basement features will be encoded to numerical form for future analysis."
   ]
  },
  {
   "cell_type": "code",
   "execution_count": 54,
   "metadata": {
    "scrolled": false
   },
   "outputs": [
    {
     "name": "stdout",
     "output_type": "stream",
     "text": [
      "The bsmt_qual unique characters is [2 4 3 5 0 1]\n",
      "The bsmt_cond unique characters is [3 4 0 2]\n",
      "The bsmt_exposure unique characters is [1 3 0 2 4]\n",
      "The bsmtfin_type_1 unique characters is [1 6 4 3 5 0 2]\n",
      "The bsmtfin_type_2 unique characterbs is [1 2 0 5 6 3 4]\n"
     ]
    }
   ],
   "source": [
    "# Mapping the ordinal basement features for housing_data for an ordinal encoding\n",
    "test_housing_data[\"bsmt_qual\"] = test_housing_data[\"bsmt_qual\"].map({'NA': 0, 'Po': 1, 'Fa': 2, \"TA\": 3, \"Gd\": 4, \"Ex\":5})\n",
    "test_housing_data[\"bsmt_cond\"] = test_housing_data[\"bsmt_cond\"].map({'NA': 0, 'Po': 1, 'Fa': 2, \"TA\": 3, \"Gd\": 4, \"Ex\":5})\n",
    "test_housing_data[\"bsmt_exposure\"] = test_housing_data[\"bsmt_exposure\"].map({'NA': 0, 'No': 1, 'Mn': 2, \"Av\": 3, \"Gd\": 4})\n",
    "test_housing_data[\"bsmtfin_type_1\"] = test_housing_data[\"bsmtfin_type_1\"].map({'NA': 0, 'Unf': 1, 'LwQ': 2, \"Rec\": 3, \"BLQ\": 4, \"ALQ\": 5, \"GLQ\": 6})\n",
    "test_housing_data[\"bsmtfin_type_2\"] = test_housing_data[\"bsmtfin_type_2\"].map({'NA': 0, 'Unf': 1, 'LwQ': 2, \"Rec\": 3, \"BLQ\": 4, \"ALQ\": 5, \"GLQ\": 6})\n",
    "print(f\"The bsmt_qual unique characters is {(test_housing_data.bsmt_qual.unique())}\")\n",
    "print(f\"The bsmt_cond unique characters is {(test_housing_data.bsmt_cond.unique())}\")\n",
    "print(f\"The bsmt_exposure unique characters is {(test_housing_data.bsmt_exposure.unique())}\")\n",
    "print(f\"The bsmtfin_type_1 unique characters is {(test_housing_data.bsmtfin_type_1.unique())}\")\n",
    "print(f\"The bsmtfin_type_2 unique characterbs is {(test_housing_data.bsmtfin_type_2.unique())}\")"
   ]
  },
  {
   "cell_type": "markdown",
   "metadata": {},
   "source": [
    "### 2.3.4.3 Fence missing values"
   ]
  },
  {
   "cell_type": "code",
   "execution_count": 55,
   "metadata": {},
   "outputs": [
    {
     "data": {
      "text/plain": [
       "1651"
      ]
     },
     "execution_count": 55,
     "metadata": {},
     "output_type": "execute_result"
    }
   ],
   "source": [
    "# missing values of fence\n",
    "housing_data.fence.isnull().sum()"
   ]
  },
  {
   "cell_type": "code",
   "execution_count": 56,
   "metadata": {},
   "outputs": [
    {
     "data": {
      "text/plain": [
       "array([nan, 'MnPrv', 'GdPrv', 'GdWo', 'MnWw'], dtype=object)"
      ]
     },
     "execution_count": 56,
     "metadata": {},
     "output_type": "execute_result"
    }
   ],
   "source": [
    "# The unique values in fence\n",
    "housing_data.fence.unique()"
   ]
  },
  {
   "cell_type": "markdown",
   "metadata": {},
   "source": [
    "**Analysis: The missing value of 'NA' option might suggests the missing values are no fence.\"**\n",
    "\n",
    "There are five options for the category fence, which is 'GdPrv' for Good Privacy, 'MnPrv' for Minimum Privacy, 'GdWo' for Good Wood, 'MnWw' for Minimum Wood/Wire and 'NA' for No fence. Thus, the missing values will be indicated as 'NA' and will perform ordinal encoding to the values."
   ]
  },
  {
   "cell_type": "code",
   "execution_count": 57,
   "metadata": {},
   "outputs": [
    {
     "name": "stdout",
     "output_type": "stream",
     "text": [
      "The fence unique characters is [0 3 4 2 1]\n"
     ]
    }
   ],
   "source": [
    "# Fill the missing values with 'NA' and perform a ordinal encoding to the values.\n",
    "housing_data.fence = housing_data.fence.fillna('NA')\n",
    "housing_data[\"fence\"] = housing_data[\"fence\"].map({'NA': 0, 'MnWw': 1, 'GdWo': 2, \"MnPrv\": 3, \"GdPrv\": 4})\n",
    "print(f\"The fence unique characters is {(housing_data.fence.unique())}\")"
   ]
  },
  {
   "cell_type": "markdown",
   "metadata": {},
   "source": [
    "**2. test_housing_data**"
   ]
  },
  {
   "cell_type": "code",
   "execution_count": 58,
   "metadata": {},
   "outputs": [
    {
     "data": {
      "text/plain": [
       "706"
      ]
     },
     "execution_count": 58,
     "metadata": {},
     "output_type": "execute_result"
    }
   ],
   "source": [
    "# missing values of fence\n",
    "test_housing_data.fence.isnull().sum()"
   ]
  },
  {
   "cell_type": "code",
   "execution_count": 59,
   "metadata": {},
   "outputs": [
    {
     "data": {
      "text/plain": [
       "array([nan, 'MnPrv', 'GdPrv', 'GdWo', 'MnWw'], dtype=object)"
      ]
     },
     "execution_count": 59,
     "metadata": {},
     "output_type": "execute_result"
    }
   ],
   "source": [
    "# The unique values in fence\n",
    "test_housing_data.fence.unique()"
   ]
  },
  {
   "cell_type": "markdown",
   "metadata": {},
   "source": [
    "**Analysis: Similar to housing_data, the missing value of 'NA' option might suggests the missing values are no fence.\"**\n",
    "\n",
    "Similarly, the 'NA' for No fence is missing out of the five options, which might suggests it to be no fence. Thus, the missing values will be indicated as 'NA' and will perform an ordinal encoding to the values."
   ]
  },
  {
   "cell_type": "code",
   "execution_count": 60,
   "metadata": {},
   "outputs": [
    {
     "name": "stdout",
     "output_type": "stream",
     "text": [
      "The fence unique characters is [0 3 4 2 1]\n"
     ]
    }
   ],
   "source": [
    "# Fill the missing values with 'NA' and perform an ordinal encoding to the values.\n",
    "test_housing_data.fence = test_housing_data.fence.fillna('NA')\n",
    "test_housing_data[\"fence\"] = test_housing_data[\"fence\"].map({'NA': 0, 'MnWw': 1, 'GdWo': 2, \"MnPrv\": 3, \"GdPrv\": 4})\n",
    "print(f\"The fence unique characters is {(test_housing_data.fence.unique())}\")"
   ]
  },
  {
   "cell_type": "markdown",
   "metadata": {},
   "source": [
    "**Summary: Both housing_data and test_housing_data for fence missing values has been change to 'NA' and perform an ordinal encoding to the values.**"
   ]
  },
  {
   "cell_type": "markdown",
   "metadata": {},
   "source": [
    "### 2.3.4.4 Fireplace missing values"
   ]
  },
  {
   "cell_type": "markdown",
   "metadata": {},
   "source": [
    "**1. housing_data**"
   ]
  },
  {
   "cell_type": "code",
   "execution_count": 61,
   "metadata": {
    "scrolled": false
   },
   "outputs": [
    {
     "data": {
      "text/html": [
       "<div>\n",
       "<style scoped>\n",
       "    .dataframe tbody tr th:only-of-type {\n",
       "        vertical-align: middle;\n",
       "    }\n",
       "\n",
       "    .dataframe tbody tr th {\n",
       "        vertical-align: top;\n",
       "    }\n",
       "\n",
       "    .dataframe thead th {\n",
       "        text-align: right;\n",
       "    }\n",
       "</style>\n",
       "<table border=\"1\" class=\"dataframe\">\n",
       "  <thead>\n",
       "    <tr style=\"text-align: right;\">\n",
       "      <th></th>\n",
       "      <th>fireplaces</th>\n",
       "      <th>fireplace_qu</th>\n",
       "    </tr>\n",
       "  </thead>\n",
       "  <tbody>\n",
       "    <tr>\n",
       "      <th>0</th>\n",
       "      <td>0</td>\n",
       "      <td>NaN</td>\n",
       "    </tr>\n",
       "    <tr>\n",
       "      <th>2</th>\n",
       "      <td>0</td>\n",
       "      <td>NaN</td>\n",
       "    </tr>\n",
       "    <tr>\n",
       "      <th>3</th>\n",
       "      <td>0</td>\n",
       "      <td>NaN</td>\n",
       "    </tr>\n",
       "    <tr>\n",
       "      <th>4</th>\n",
       "      <td>0</td>\n",
       "      <td>NaN</td>\n",
       "    </tr>\n",
       "    <tr>\n",
       "      <th>6</th>\n",
       "      <td>0</td>\n",
       "      <td>NaN</td>\n",
       "    </tr>\n",
       "  </tbody>\n",
       "</table>\n",
       "</div>"
      ],
      "text/plain": [
       "   fireplaces fireplace_qu\n",
       "0           0          NaN\n",
       "2           0          NaN\n",
       "3           0          NaN\n",
       "4           0          NaN\n",
       "6           0          NaN"
      ]
     },
     "execution_count": 61,
     "metadata": {},
     "output_type": "execute_result"
    }
   ],
   "source": [
    "# Checking the null for columns related to fireplace\n",
    "housing_data.loc[(housing_data[\"fireplace_qu\"].isnull()) & (housing_data[\"fireplaces\"] == 0), [\"fireplaces\", \"fireplace_qu\"]].head()"
   ]
  },
  {
   "cell_type": "markdown",
   "metadata": {},
   "source": [
    "**Analysis: Fireplace quality column have missing values when number of fireplaces is zero.**\n",
    "\n",
    "There are a significant amount of missing values for fireplace_qu column.\n",
    "When the number of fireplaces is 0, this suggests that there will be no rating for fireplace quality (fireplace_qu) and will be indicated as 'NA' for No Fireplace and perform an ordinal encording for the values."
   ]
  },
  {
   "cell_type": "code",
   "execution_count": 62,
   "metadata": {},
   "outputs": [
    {
     "data": {
      "text/html": [
       "<div>\n",
       "<style scoped>\n",
       "    .dataframe tbody tr th:only-of-type {\n",
       "        vertical-align: middle;\n",
       "    }\n",
       "\n",
       "    .dataframe tbody tr th {\n",
       "        vertical-align: top;\n",
       "    }\n",
       "\n",
       "    .dataframe thead th {\n",
       "        text-align: right;\n",
       "    }\n",
       "</style>\n",
       "<table border=\"1\" class=\"dataframe\">\n",
       "  <thead>\n",
       "    <tr style=\"text-align: right;\">\n",
       "      <th></th>\n",
       "      <th>fireplaces</th>\n",
       "      <th>fireplace_qu</th>\n",
       "    </tr>\n",
       "  </thead>\n",
       "  <tbody>\n",
       "  </tbody>\n",
       "</table>\n",
       "</div>"
      ],
      "text/plain": [
       "Empty DataFrame\n",
       "Columns: [fireplaces, fireplace_qu]\n",
       "Index: []"
      ]
     },
     "execution_count": 62,
     "metadata": {},
     "output_type": "execute_result"
    }
   ],
   "source": [
    "# Change NaN in fireplace_qu column to 'ANA' when fireplaces is 0 and perform encoding for the values\n",
    "modify_with_criteria_onenull_onezero(housing_data, \"fireplace_qu\", \"fireplaces\", 'NA')\n",
    "housing_data.loc[(housing_data[\"fireplace_qu\"].isnull()), [\"fireplaces\", \"fireplace_qu\"]]"
   ]
  },
  {
   "cell_type": "code",
   "execution_count": 63,
   "metadata": {},
   "outputs": [
    {
     "name": "stdout",
     "output_type": "stream",
     "text": [
      "The fireplace_qu unique characters is [0 3 4 1 5 2]\n"
     ]
    }
   ],
   "source": [
    "# Perform an ordinal encoding to the values.\n",
    "housing_data[\"fireplace_qu\"] = housing_data[\"fireplace_qu\"].map({'NA': 0, 'Po': 1, 'Fa': 2, \"TA\": 3, \"Gd\": 4, \"Ex\": 5})\n",
    "print(f\"The fireplace_qu unique characters is {(housing_data.fireplace_qu.unique())}\")"
   ]
  },
  {
   "cell_type": "markdown",
   "metadata": {},
   "source": [
    "**2. test_housing_data**"
   ]
  },
  {
   "cell_type": "code",
   "execution_count": 64,
   "metadata": {
    "scrolled": true
   },
   "outputs": [
    {
     "data": {
      "text/html": [
       "<div>\n",
       "<style scoped>\n",
       "    .dataframe tbody tr th:only-of-type {\n",
       "        vertical-align: middle;\n",
       "    }\n",
       "\n",
       "    .dataframe tbody tr th {\n",
       "        vertical-align: top;\n",
       "    }\n",
       "\n",
       "    .dataframe thead th {\n",
       "        text-align: right;\n",
       "    }\n",
       "</style>\n",
       "<table border=\"1\" class=\"dataframe\">\n",
       "  <thead>\n",
       "    <tr style=\"text-align: right;\">\n",
       "      <th></th>\n",
       "      <th>fireplaces</th>\n",
       "      <th>fireplace_qu</th>\n",
       "    </tr>\n",
       "  </thead>\n",
       "  <tbody>\n",
       "    <tr>\n",
       "      <th>0</th>\n",
       "      <td>0</td>\n",
       "      <td>NaN</td>\n",
       "    </tr>\n",
       "    <tr>\n",
       "      <th>1</th>\n",
       "      <td>0</td>\n",
       "      <td>NaN</td>\n",
       "    </tr>\n",
       "    <tr>\n",
       "      <th>3</th>\n",
       "      <td>0</td>\n",
       "      <td>NaN</td>\n",
       "    </tr>\n",
       "    <tr>\n",
       "      <th>5</th>\n",
       "      <td>0</td>\n",
       "      <td>NaN</td>\n",
       "    </tr>\n",
       "    <tr>\n",
       "      <th>6</th>\n",
       "      <td>0</td>\n",
       "      <td>NaN</td>\n",
       "    </tr>\n",
       "  </tbody>\n",
       "</table>\n",
       "</div>"
      ],
      "text/plain": [
       "   fireplaces fireplace_qu\n",
       "0           0          NaN\n",
       "1           0          NaN\n",
       "3           0          NaN\n",
       "5           0          NaN\n",
       "6           0          NaN"
      ]
     },
     "execution_count": 64,
     "metadata": {},
     "output_type": "execute_result"
    }
   ],
   "source": [
    "# Checking the null for columns related to fireplace\n",
    "test_housing_data.loc[(test_housing_data[\"fireplace_qu\"].isnull()) & (test_housing_data[\"fireplaces\"] == 0), [\"fireplaces\", \"fireplace_qu\"]].head()"
   ]
  },
  {
   "cell_type": "markdown",
   "metadata": {},
   "source": [
    "**Analysis: Fireplace quality column have missing values when number of fireplaces is zero.**\n",
    "\n",
    "Similarly to housing_data, there are a significant amount of missing values for fireplace_qu column.\n",
    "When the number of fireplaces is 0, this suggests that there will be no rating for fireplace quality (fireplace_qu) and will be indicated as 'NA' for No Fireplace when fireplaces is zero as well as perform an ordinal encoding for the values."
   ]
  },
  {
   "cell_type": "code",
   "execution_count": 65,
   "metadata": {},
   "outputs": [
    {
     "data": {
      "text/html": [
       "<div>\n",
       "<style scoped>\n",
       "    .dataframe tbody tr th:only-of-type {\n",
       "        vertical-align: middle;\n",
       "    }\n",
       "\n",
       "    .dataframe tbody tr th {\n",
       "        vertical-align: top;\n",
       "    }\n",
       "\n",
       "    .dataframe thead th {\n",
       "        text-align: right;\n",
       "    }\n",
       "</style>\n",
       "<table border=\"1\" class=\"dataframe\">\n",
       "  <thead>\n",
       "    <tr style=\"text-align: right;\">\n",
       "      <th></th>\n",
       "      <th>fireplaces</th>\n",
       "      <th>fireplace_qu</th>\n",
       "    </tr>\n",
       "  </thead>\n",
       "  <tbody>\n",
       "  </tbody>\n",
       "</table>\n",
       "</div>"
      ],
      "text/plain": [
       "Empty DataFrame\n",
       "Columns: [fireplaces, fireplace_qu]\n",
       "Index: []"
      ]
     },
     "execution_count": 65,
     "metadata": {},
     "output_type": "execute_result"
    }
   ],
   "source": [
    "# Change NaN in fireplace_qu column to 'NA' when fireplaces is 0\n",
    "modify_with_criteria_onenull_onezero(test_housing_data, \"fireplace_qu\", \"fireplaces\", 'NA')\n",
    "test_housing_data.loc[(test_housing_data[\"fireplace_qu\"].isnull()), [\"fireplaces\", \"fireplace_qu\"]]"
   ]
  },
  {
   "cell_type": "code",
   "execution_count": 66,
   "metadata": {},
   "outputs": [
    {
     "name": "stdout",
     "output_type": "stream",
     "text": [
      "The fireplace_qu unique characters is [0 4 2 3 1 5]\n"
     ]
    }
   ],
   "source": [
    "# Perform an ordinal encoding to the values.\n",
    "test_housing_data[\"fireplace_qu\"] = test_housing_data[\"fireplace_qu\"].map({'NA': 0, 'Po': 1, 'Fa': 2, \"TA\": 3, \"Gd\": 4, \"Ex\": 5})\n",
    "print(f\"The fireplace_qu unique characters is {(test_housing_data.fireplace_qu.unique())}\")"
   ]
  },
  {
   "cell_type": "markdown",
   "metadata": {},
   "source": [
    "**Summary: Both housing_data and test_housing_data for fireplace_qu missing values has been change to 'NA' and perform an ordinal encoding to the values.**"
   ]
  },
  {
   "cell_type": "markdown",
   "metadata": {},
   "source": [
    "### 2.3.4.5 Lot frontage missing values"
   ]
  },
  {
   "cell_type": "markdown",
   "metadata": {},
   "source": [
    "**1. housing_data**"
   ]
  },
  {
   "cell_type": "code",
   "execution_count": 67,
   "metadata": {
    "scrolled": false
   },
   "outputs": [
    {
     "data": {
      "text/html": [
       "<div>\n",
       "<style scoped>\n",
       "    .dataframe tbody tr th:only-of-type {\n",
       "        vertical-align: middle;\n",
       "    }\n",
       "\n",
       "    .dataframe tbody tr th {\n",
       "        vertical-align: top;\n",
       "    }\n",
       "\n",
       "    .dataframe thead th {\n",
       "        text-align: right;\n",
       "    }\n",
       "</style>\n",
       "<table border=\"1\" class=\"dataframe\">\n",
       "  <thead>\n",
       "    <tr style=\"text-align: right;\">\n",
       "      <th></th>\n",
       "      <th>lot_shape</th>\n",
       "      <th>lot_frontage</th>\n",
       "      <th>lot_config</th>\n",
       "      <th>lot_area</th>\n",
       "    </tr>\n",
       "  </thead>\n",
       "  <tbody>\n",
       "    <tr>\n",
       "      <th>0</th>\n",
       "      <td>IR1</td>\n",
       "      <td>NaN</td>\n",
       "      <td>CulDSac</td>\n",
       "      <td>13517</td>\n",
       "    </tr>\n",
       "    <tr>\n",
       "      <th>7</th>\n",
       "      <td>IR1</td>\n",
       "      <td>NaN</td>\n",
       "      <td>Inside</td>\n",
       "      <td>12160</td>\n",
       "    </tr>\n",
       "    <tr>\n",
       "      <th>8</th>\n",
       "      <td>Reg</td>\n",
       "      <td>NaN</td>\n",
       "      <td>Inside</td>\n",
       "      <td>15783</td>\n",
       "    </tr>\n",
       "    <tr>\n",
       "      <th>23</th>\n",
       "      <td>IR1</td>\n",
       "      <td>NaN</td>\n",
       "      <td>Inside</td>\n",
       "      <td>7980</td>\n",
       "    </tr>\n",
       "    <tr>\n",
       "      <th>27</th>\n",
       "      <td>IR1</td>\n",
       "      <td>NaN</td>\n",
       "      <td>Inside</td>\n",
       "      <td>11700</td>\n",
       "    </tr>\n",
       "  </tbody>\n",
       "</table>\n",
       "</div>"
      ],
      "text/plain": [
       "   lot_shape  lot_frontage lot_config  lot_area\n",
       "0        IR1           NaN    CulDSac     13517\n",
       "7        IR1           NaN     Inside     12160\n",
       "8        Reg           NaN     Inside     15783\n",
       "23       IR1           NaN     Inside      7980\n",
       "27       IR1           NaN     Inside     11700"
      ]
     },
     "execution_count": 67,
     "metadata": {},
     "output_type": "execute_result"
    }
   ],
   "source": [
    "# To check the missing values in lot_frontage column\n",
    "housing_data.loc[(housing_data[\"lot_frontage\"].isnull()),['lot_shape',\"lot_frontage\", \"lot_config\", \"lot_area\"]].head()"
   ]
  },
  {
   "cell_type": "code",
   "execution_count": 68,
   "metadata": {},
   "outputs": [
    {
     "data": {
      "text/plain": [
       "330"
      ]
     },
     "execution_count": 68,
     "metadata": {},
     "output_type": "execute_result"
    }
   ],
   "source": [
    "# To check the amount of missing values in lot frontage \n",
    "housing_data.lot_frontage.isnull().sum()"
   ]
  },
  {
   "cell_type": "code",
   "execution_count": 69,
   "metadata": {
    "scrolled": true
   },
   "outputs": [
    {
     "data": {
      "text/plain": [
       "count    1721.000000\n",
       "mean       69.055200\n",
       "std        23.260653\n",
       "min        21.000000\n",
       "25%        58.000000\n",
       "50%        68.000000\n",
       "75%        80.000000\n",
       "max       313.000000\n",
       "Name: lot_frontage, dtype: float64"
      ]
     },
     "execution_count": 69,
     "metadata": {},
     "output_type": "execute_result"
    }
   ],
   "source": [
    "# To check the distribution and mean of lot_frontage column\n",
    "housing_data.lot_frontage.describe()"
   ]
  },
  {
   "cell_type": "markdown",
   "metadata": {},
   "source": [
    "**Analysis: As there is a significant amount of missing values in lot_frontage and it is a continuous value, the mean will be used to fill in the missing values**"
   ]
  },
  {
   "cell_type": "code",
   "execution_count": 70,
   "metadata": {},
   "outputs": [
    {
     "data": {
      "text/plain": [
       "0"
      ]
     },
     "execution_count": 70,
     "metadata": {},
     "output_type": "execute_result"
    }
   ],
   "source": [
    "# Change the missing values to 'mean' using the similar characteristics across the missing value\n",
    "housing_data[\"lot_frontage\"] = housing_data[\"lot_frontage\"].fillna((np.mean(housing_data[\"lot_frontage\"])))\n",
    "housing_data.lot_frontage.isnull().sum()"
   ]
  },
  {
   "cell_type": "markdown",
   "metadata": {},
   "source": [
    "**Analysis: The lot_frontage missing values have been filled with the mean of lot_frontage.**"
   ]
  },
  {
   "cell_type": "markdown",
   "metadata": {},
   "source": [
    "**2. test_housing_data**"
   ]
  },
  {
   "cell_type": "code",
   "execution_count": 71,
   "metadata": {
    "scrolled": false
   },
   "outputs": [
    {
     "data": {
      "text/html": [
       "<div>\n",
       "<style scoped>\n",
       "    .dataframe tbody tr th:only-of-type {\n",
       "        vertical-align: middle;\n",
       "    }\n",
       "\n",
       "    .dataframe tbody tr th {\n",
       "        vertical-align: top;\n",
       "    }\n",
       "\n",
       "    .dataframe thead th {\n",
       "        text-align: right;\n",
       "    }\n",
       "</style>\n",
       "<table border=\"1\" class=\"dataframe\">\n",
       "  <thead>\n",
       "    <tr style=\"text-align: right;\">\n",
       "      <th></th>\n",
       "      <th>lot_shape</th>\n",
       "      <th>lot_frontage</th>\n",
       "      <th>lot_config</th>\n",
       "      <th>lot_area</th>\n",
       "    </tr>\n",
       "  </thead>\n",
       "  <tbody>\n",
       "    <tr>\n",
       "      <th>1</th>\n",
       "      <td>IR1</td>\n",
       "      <td>NaN</td>\n",
       "      <td>Inside</td>\n",
       "      <td>9662</td>\n",
       "    </tr>\n",
       "    <tr>\n",
       "      <th>4</th>\n",
       "      <td>IR1</td>\n",
       "      <td>NaN</td>\n",
       "      <td>Inside</td>\n",
       "      <td>9500</td>\n",
       "    </tr>\n",
       "    <tr>\n",
       "      <th>7</th>\n",
       "      <td>IR1</td>\n",
       "      <td>NaN</td>\n",
       "      <td>CulDSac</td>\n",
       "      <td>9286</td>\n",
       "    </tr>\n",
       "    <tr>\n",
       "      <th>13</th>\n",
       "      <td>Reg</td>\n",
       "      <td>NaN</td>\n",
       "      <td>Inside</td>\n",
       "      <td>7976</td>\n",
       "    </tr>\n",
       "    <tr>\n",
       "      <th>20</th>\n",
       "      <td>IR1</td>\n",
       "      <td>NaN</td>\n",
       "      <td>Inside</td>\n",
       "      <td>8246</td>\n",
       "    </tr>\n",
       "  </tbody>\n",
       "</table>\n",
       "</div>"
      ],
      "text/plain": [
       "   lot_shape  lot_frontage lot_config  lot_area\n",
       "1        IR1           NaN     Inside      9662\n",
       "4        IR1           NaN     Inside      9500\n",
       "7        IR1           NaN    CulDSac      9286\n",
       "13       Reg           NaN     Inside      7976\n",
       "20       IR1           NaN     Inside      8246"
      ]
     },
     "execution_count": 71,
     "metadata": {},
     "output_type": "execute_result"
    }
   ],
   "source": [
    "# To check the missing values in lot_frontage column\n",
    "test_housing_data.loc[(test_housing_data[\"lot_frontage\"].isnull()),['lot_shape',\"lot_frontage\", \"lot_config\", \"lot_area\"]].head()"
   ]
  },
  {
   "cell_type": "code",
   "execution_count": 72,
   "metadata": {},
   "outputs": [
    {
     "data": {
      "text/plain": [
       "160"
      ]
     },
     "execution_count": 72,
     "metadata": {},
     "output_type": "execute_result"
    }
   ],
   "source": [
    "# To check the amount of missing values in lot frontage \n",
    "test_housing_data.lot_frontage.isnull().sum()"
   ]
  },
  {
   "cell_type": "code",
   "execution_count": 73,
   "metadata": {
    "scrolled": true
   },
   "outputs": [
    {
     "data": {
      "text/plain": [
       "count    718.000000\n",
       "mean      69.545961\n",
       "std       23.533945\n",
       "min       21.000000\n",
       "25%       59.000000\n",
       "50%       68.000000\n",
       "75%       80.000000\n",
       "max      182.000000\n",
       "Name: lot_frontage, dtype: float64"
      ]
     },
     "execution_count": 73,
     "metadata": {},
     "output_type": "execute_result"
    }
   ],
   "source": [
    "# To check the distribution and mean of lot_frontage column\n",
    "test_housing_data.lot_frontage.describe()"
   ]
  },
  {
   "cell_type": "markdown",
   "metadata": {},
   "source": [
    "**Analysis: Similarly to housing_data, the mean will be used to fill in the missing values as there is a significant amount of missing values in lot_frontage**"
   ]
  },
  {
   "cell_type": "code",
   "execution_count": 74,
   "metadata": {},
   "outputs": [
    {
     "data": {
      "text/plain": [
       "0"
      ]
     },
     "execution_count": 74,
     "metadata": {},
     "output_type": "execute_result"
    }
   ],
   "source": [
    "# Change the missing values to 'mean' using the similar characteristics across the missing value\n",
    "test_housing_data[\"lot_frontage\"] = test_housing_data[\"lot_frontage\"].fillna((np.mean(test_housing_data[\"lot_frontage\"])))\n",
    "test_housing_data.lot_frontage.isnull().sum()"
   ]
  },
  {
   "cell_type": "markdown",
   "metadata": {},
   "source": [
    "**Analysis: The lot_frontage missing values have been filled with the mean of lot_frontage.**"
   ]
  },
  {
   "cell_type": "markdown",
   "metadata": {},
   "source": [
    "**Summary: Both housing_data and test_housing_data for lot_frontage has been filled with the mean of lot_frontage for the missing values.**"
   ]
  },
  {
   "cell_type": "markdown",
   "metadata": {},
   "source": [
    "### 2.3.4.6 Garage missing values"
   ]
  },
  {
   "cell_type": "markdown",
   "metadata": {},
   "source": [
    "**1. housing_data**"
   ]
  },
  {
   "cell_type": "code",
   "execution_count": 75,
   "metadata": {},
   "outputs": [
    {
     "data": {
      "text/html": [
       "<div>\n",
       "<style scoped>\n",
       "    .dataframe tbody tr th:only-of-type {\n",
       "        vertical-align: middle;\n",
       "    }\n",
       "\n",
       "    .dataframe tbody tr th {\n",
       "        vertical-align: top;\n",
       "    }\n",
       "\n",
       "    .dataframe thead th {\n",
       "        text-align: right;\n",
       "    }\n",
       "</style>\n",
       "<table border=\"1\" class=\"dataframe\">\n",
       "  <thead>\n",
       "    <tr style=\"text-align: right;\">\n",
       "      <th></th>\n",
       "      <th>garage_type</th>\n",
       "      <th>garage_yr_blt</th>\n",
       "      <th>garage_finish</th>\n",
       "      <th>garage_cars</th>\n",
       "      <th>garage_area</th>\n",
       "      <th>garage_qual</th>\n",
       "      <th>garage_cond</th>\n",
       "    </tr>\n",
       "  </thead>\n",
       "  <tbody>\n",
       "    <tr>\n",
       "      <th>28</th>\n",
       "      <td>NaN</td>\n",
       "      <td>NaN</td>\n",
       "      <td>NaN</td>\n",
       "      <td>0.0</td>\n",
       "      <td>0.0</td>\n",
       "      <td>NaN</td>\n",
       "      <td>NaN</td>\n",
       "    </tr>\n",
       "    <tr>\n",
       "      <th>53</th>\n",
       "      <td>NaN</td>\n",
       "      <td>NaN</td>\n",
       "      <td>NaN</td>\n",
       "      <td>0.0</td>\n",
       "      <td>0.0</td>\n",
       "      <td>NaN</td>\n",
       "      <td>NaN</td>\n",
       "    </tr>\n",
       "    <tr>\n",
       "      <th>65</th>\n",
       "      <td>NaN</td>\n",
       "      <td>NaN</td>\n",
       "      <td>NaN</td>\n",
       "      <td>0.0</td>\n",
       "      <td>0.0</td>\n",
       "      <td>NaN</td>\n",
       "      <td>NaN</td>\n",
       "    </tr>\n",
       "    <tr>\n",
       "      <th>79</th>\n",
       "      <td>NaN</td>\n",
       "      <td>NaN</td>\n",
       "      <td>NaN</td>\n",
       "      <td>0.0</td>\n",
       "      <td>0.0</td>\n",
       "      <td>NaN</td>\n",
       "      <td>NaN</td>\n",
       "    </tr>\n",
       "    <tr>\n",
       "      <th>101</th>\n",
       "      <td>NaN</td>\n",
       "      <td>NaN</td>\n",
       "      <td>NaN</td>\n",
       "      <td>0.0</td>\n",
       "      <td>0.0</td>\n",
       "      <td>NaN</td>\n",
       "      <td>NaN</td>\n",
       "    </tr>\n",
       "  </tbody>\n",
       "</table>\n",
       "</div>"
      ],
      "text/plain": [
       "    garage_type  garage_yr_blt garage_finish  garage_cars  garage_area  \\\n",
       "28          NaN            NaN           NaN          0.0          0.0   \n",
       "53          NaN            NaN           NaN          0.0          0.0   \n",
       "65          NaN            NaN           NaN          0.0          0.0   \n",
       "79          NaN            NaN           NaN          0.0          0.0   \n",
       "101         NaN            NaN           NaN          0.0          0.0   \n",
       "\n",
       "    garage_qual garage_cond  \n",
       "28          NaN         NaN  \n",
       "53          NaN         NaN  \n",
       "65          NaN         NaN  \n",
       "79          NaN         NaN  \n",
       "101         NaN         NaN  "
      ]
     },
     "execution_count": 75,
     "metadata": {},
     "output_type": "execute_result"
    }
   ],
   "source": [
    "# Checking the null for columns related to garage\n",
    "housing_data.loc[(housing_data[\"garage_type\"].isnull())|\n",
    "                 (housing_data[\"garage_yr_blt\"].isnull())|\n",
    "                 (housing_data[\"garage_finish\"].isnull())|\n",
    "                 (housing_data[\"garage_cars\"].isnull())|\n",
    "                 (housing_data[\"garage_area\"].isnull())|\n",
    "                 (housing_data[\"garage_qual\"].isnull())|\n",
    "                 (housing_data[\"garage_cond\"].isnull()), \n",
    "                 [\"garage_type\",\"garage_yr_blt\",\"garage_finish\",\"garage_cars\",\n",
    "                  \"garage_area\",\"garage_qual\", \"garage_cond\"]].head()"
   ]
  },
  {
   "cell_type": "markdown",
   "metadata": {},
   "source": [
    "**Analysis: Majority of the garage features have missing values when garage area (garage_area) is zero.**\n",
    "\n",
    "1. When garage area (garage_area) is 0, this suggests that there should be no other garage features.\n",
    "\n",
    "2. For garage_finish, garage_qual and garage_cond, the missing values will be inputed as 'NA' for No garage while garage_yr_blt is 'None' and garage_type as '1NA' when the garage_area is 0. \n",
    "\n",
    "3. Index 1712 has no garage information for all garage features except for garage_type (Detchd). As all values are missing, this might suggests that there is no garage for this property. Thus, the missing values will be inputed as 'NA' for the respective columns."
   ]
  },
  {
   "cell_type": "code",
   "execution_count": 76,
   "metadata": {},
   "outputs": [
    {
     "data": {
      "text/html": [
       "<div>\n",
       "<style scoped>\n",
       "    .dataframe tbody tr th:only-of-type {\n",
       "        vertical-align: middle;\n",
       "    }\n",
       "\n",
       "    .dataframe tbody tr th {\n",
       "        vertical-align: top;\n",
       "    }\n",
       "\n",
       "    .dataframe thead th {\n",
       "        text-align: right;\n",
       "    }\n",
       "</style>\n",
       "<table border=\"1\" class=\"dataframe\">\n",
       "  <thead>\n",
       "    <tr style=\"text-align: right;\">\n",
       "      <th></th>\n",
       "      <th>garage_cars</th>\n",
       "      <th>garage_area</th>\n",
       "    </tr>\n",
       "  </thead>\n",
       "  <tbody>\n",
       "    <tr>\n",
       "      <th>1712</th>\n",
       "      <td>0.0</td>\n",
       "      <td>0.0</td>\n",
       "    </tr>\n",
       "  </tbody>\n",
       "</table>\n",
       "</div>"
      ],
      "text/plain": [
       "      garage_cars  garage_area\n",
       "1712          0.0          0.0"
      ]
     },
     "execution_count": 76,
     "metadata": {},
     "output_type": "execute_result"
    }
   ],
   "source": [
    "# Change the index 1712 missing values for garage_cars and garage_area to 0\n",
    "housing_data.loc[[1712],'garage_cars'] = housing_data.loc[[1712],'garage_cars'].fillna(0)\n",
    "housing_data.loc[[1712],'garage_area'] = housing_data.loc[[1712],'garage_area'].fillna(0)\n",
    "housing_data.loc[[1712], ['garage_cars', 'garage_area']].head()"
   ]
  },
  {
   "cell_type": "code",
   "execution_count": 77,
   "metadata": {},
   "outputs": [
    {
     "data": {
      "text/plain": [
       "'The missing values has successfully changed.'"
      ]
     },
     "execution_count": 77,
     "metadata": {},
     "output_type": "execute_result"
    }
   ],
   "source": [
    "\"\"\"Change the missing values in garage_type, garage_finish, garage_qual, garage_cond column to \n",
    "'NA' when garage_area is 0\"\"\"\n",
    "modify_with_criteria_onenull_onezero(housing_data, \"garage_type\", \"garage_area\", '1NA')\n",
    "modify_with_criteria_onenull_onezero(housing_data, \"garage_yr_blt\", \"garage_area\", 'None')\n",
    "modify_with_criteria_onenull_onezero(housing_data, \"garage_finish\", \"garage_area\", 'NA')\n",
    "modify_with_criteria_onenull_onezero(housing_data, \"garage_qual\", \"garage_area\", 'NA')\n",
    "modify_with_criteria_onenull_onezero(housing_data, \"garage_cond\", \"garage_area\", 'NA')"
   ]
  },
  {
   "cell_type": "code",
   "execution_count": 78,
   "metadata": {},
   "outputs": [
    {
     "data": {
      "text/html": [
       "<div>\n",
       "<style scoped>\n",
       "    .dataframe tbody tr th:only-of-type {\n",
       "        vertical-align: middle;\n",
       "    }\n",
       "\n",
       "    .dataframe tbody tr th {\n",
       "        vertical-align: top;\n",
       "    }\n",
       "\n",
       "    .dataframe thead th {\n",
       "        text-align: right;\n",
       "    }\n",
       "</style>\n",
       "<table border=\"1\" class=\"dataframe\">\n",
       "  <thead>\n",
       "    <tr style=\"text-align: right;\">\n",
       "      <th></th>\n",
       "      <th>garage_type</th>\n",
       "      <th>garage_yr_blt</th>\n",
       "      <th>garage_finish</th>\n",
       "      <th>garage_cars</th>\n",
       "      <th>garage_area</th>\n",
       "      <th>garage_qual</th>\n",
       "      <th>garage_cond</th>\n",
       "    </tr>\n",
       "  </thead>\n",
       "  <tbody>\n",
       "  </tbody>\n",
       "</table>\n",
       "</div>"
      ],
      "text/plain": [
       "Empty DataFrame\n",
       "Columns: [garage_type, garage_yr_blt, garage_finish, garage_cars, garage_area, garage_qual, garage_cond]\n",
       "Index: []"
      ]
     },
     "execution_count": 78,
     "metadata": {},
     "output_type": "execute_result"
    }
   ],
   "source": [
    "# Checking the null for columns related to garage\n",
    "housing_data.loc[(housing_data[\"garage_type\"].isnull())|\n",
    "                 (housing_data[\"garage_yr_blt\"].isnull())|\n",
    "                 (housing_data[\"garage_finish\"].isnull())|\n",
    "                 (housing_data[\"garage_cars\"].isnull())|\n",
    "                 (housing_data[\"garage_area\"].isnull())|\n",
    "                 (housing_data[\"garage_qual\"].isnull())|\n",
    "                 (housing_data[\"garage_cond\"].isnull()), \n",
    "                 [\"garage_type\",\"garage_yr_blt\",\"garage_finish\",\"garage_cars\",\n",
    "                  \"garage_area\",\"garage_qual\", \"garage_cond\"]].head()"
   ]
  },
  {
   "cell_type": "markdown",
   "metadata": {},
   "source": [
    "**Analysis: Successfully indicated 'NA' (No garage) for garage features when garage area (garage_area) is zero including index 1712.**"
   ]
  },
  {
   "cell_type": "markdown",
   "metadata": {},
   "source": [
    "**Encode ordinal garage features for housing_data**\n",
    "\n",
    "The ordinal garage features will be encoded to numerical form for future analysis."
   ]
  },
  {
   "cell_type": "code",
   "execution_count": 79,
   "metadata": {
    "scrolled": true
   },
   "outputs": [
    {
     "name": "stdout",
     "output_type": "stream",
     "text": [
      "The garage_qual unique characters is [3 2 0 4 5 1]\n",
      "The garage_cond unique characters is [3 2 0 1 4 5]\n",
      "The garage_finish unique characters is [2 1 3 0]\n"
     ]
    }
   ],
   "source": [
    "# Mapping the ordinal garage features for housing_data for an ordinal encoding\n",
    "housing_data[\"garage_qual\"] = housing_data[\"garage_qual\"].map({'NA': 0, 'Po': 1, 'Fa': 2, \"TA\": 3, \"Gd\": 4, \"Ex\":5})\n",
    "housing_data[\"garage_cond\"] = housing_data[\"garage_cond\"].map({'NA': 0, 'Po': 1, 'Fa': 2, \"TA\": 3, \"Gd\": 4, \"Ex\":5})\n",
    "housing_data[\"garage_finish\"] = housing_data[\"garage_finish\"].map({'NA': 0, 'Unf': 1, 'RFn': 2, \"Fin\": 3})\n",
    "\n",
    "print(f\"The garage_qual unique characters is {(housing_data.garage_qual.unique())}\")\n",
    "print(f\"The garage_cond unique characters is {(housing_data.garage_cond.unique())}\")\n",
    "print(f\"The garage_finish unique characters is {(housing_data.garage_finish.unique())}\")"
   ]
  },
  {
   "cell_type": "markdown",
   "metadata": {},
   "source": [
    "The nominal garage feature (garage_type) will be dummy encoded for future analysis"
   ]
  },
  {
   "cell_type": "code",
   "execution_count": 80,
   "metadata": {
    "scrolled": true
   },
   "outputs": [
    {
     "data": {
      "text/html": [
       "<div>\n",
       "<style scoped>\n",
       "    .dataframe tbody tr th:only-of-type {\n",
       "        vertical-align: middle;\n",
       "    }\n",
       "\n",
       "    .dataframe tbody tr th {\n",
       "        vertical-align: top;\n",
       "    }\n",
       "\n",
       "    .dataframe thead th {\n",
       "        text-align: right;\n",
       "    }\n",
       "</style>\n",
       "<table border=\"1\" class=\"dataframe\">\n",
       "  <thead>\n",
       "    <tr style=\"text-align: right;\">\n",
       "      <th></th>\n",
       "      <th>ms_subclass</th>\n",
       "      <th>ms_zoning</th>\n",
       "      <th>lot_frontage</th>\n",
       "      <th>lot_area</th>\n",
       "      <th>street</th>\n",
       "      <th>lot_shape</th>\n",
       "      <th>land_contour</th>\n",
       "      <th>utilities</th>\n",
       "      <th>lot_config</th>\n",
       "      <th>land_slope</th>\n",
       "      <th>...</th>\n",
       "      <th>sale_type</th>\n",
       "      <th>saleprice</th>\n",
       "      <th>alley_Grvl</th>\n",
       "      <th>alley_Pave</th>\n",
       "      <th>garage_type_2Types</th>\n",
       "      <th>garage_type_Attchd</th>\n",
       "      <th>garage_type_Basment</th>\n",
       "      <th>garage_type_BuiltIn</th>\n",
       "      <th>garage_type_CarPort</th>\n",
       "      <th>garage_type_Detchd</th>\n",
       "    </tr>\n",
       "  </thead>\n",
       "  <tbody>\n",
       "    <tr>\n",
       "      <th>0</th>\n",
       "      <td>60</td>\n",
       "      <td>RL</td>\n",
       "      <td>69.0552</td>\n",
       "      <td>13517</td>\n",
       "      <td>Pave</td>\n",
       "      <td>IR1</td>\n",
       "      <td>Lvl</td>\n",
       "      <td>AllPub</td>\n",
       "      <td>CulDSac</td>\n",
       "      <td>Gtl</td>\n",
       "      <td>...</td>\n",
       "      <td>WD</td>\n",
       "      <td>130500</td>\n",
       "      <td>0</td>\n",
       "      <td>0</td>\n",
       "      <td>0</td>\n",
       "      <td>1</td>\n",
       "      <td>0</td>\n",
       "      <td>0</td>\n",
       "      <td>0</td>\n",
       "      <td>0</td>\n",
       "    </tr>\n",
       "    <tr>\n",
       "      <th>1</th>\n",
       "      <td>60</td>\n",
       "      <td>RL</td>\n",
       "      <td>43.0000</td>\n",
       "      <td>11492</td>\n",
       "      <td>Pave</td>\n",
       "      <td>IR1</td>\n",
       "      <td>Lvl</td>\n",
       "      <td>AllPub</td>\n",
       "      <td>CulDSac</td>\n",
       "      <td>Gtl</td>\n",
       "      <td>...</td>\n",
       "      <td>WD</td>\n",
       "      <td>220000</td>\n",
       "      <td>0</td>\n",
       "      <td>0</td>\n",
       "      <td>0</td>\n",
       "      <td>1</td>\n",
       "      <td>0</td>\n",
       "      <td>0</td>\n",
       "      <td>0</td>\n",
       "      <td>0</td>\n",
       "    </tr>\n",
       "    <tr>\n",
       "      <th>2</th>\n",
       "      <td>20</td>\n",
       "      <td>RL</td>\n",
       "      <td>68.0000</td>\n",
       "      <td>7922</td>\n",
       "      <td>Pave</td>\n",
       "      <td>Reg</td>\n",
       "      <td>Lvl</td>\n",
       "      <td>AllPub</td>\n",
       "      <td>Inside</td>\n",
       "      <td>Gtl</td>\n",
       "      <td>...</td>\n",
       "      <td>WD</td>\n",
       "      <td>109000</td>\n",
       "      <td>0</td>\n",
       "      <td>0</td>\n",
       "      <td>0</td>\n",
       "      <td>0</td>\n",
       "      <td>0</td>\n",
       "      <td>0</td>\n",
       "      <td>0</td>\n",
       "      <td>1</td>\n",
       "    </tr>\n",
       "    <tr>\n",
       "      <th>3</th>\n",
       "      <td>60</td>\n",
       "      <td>RL</td>\n",
       "      <td>73.0000</td>\n",
       "      <td>9802</td>\n",
       "      <td>Pave</td>\n",
       "      <td>Reg</td>\n",
       "      <td>Lvl</td>\n",
       "      <td>AllPub</td>\n",
       "      <td>Inside</td>\n",
       "      <td>Gtl</td>\n",
       "      <td>...</td>\n",
       "      <td>WD</td>\n",
       "      <td>174000</td>\n",
       "      <td>0</td>\n",
       "      <td>0</td>\n",
       "      <td>0</td>\n",
       "      <td>0</td>\n",
       "      <td>0</td>\n",
       "      <td>1</td>\n",
       "      <td>0</td>\n",
       "      <td>0</td>\n",
       "    </tr>\n",
       "    <tr>\n",
       "      <th>4</th>\n",
       "      <td>50</td>\n",
       "      <td>RL</td>\n",
       "      <td>82.0000</td>\n",
       "      <td>14235</td>\n",
       "      <td>Pave</td>\n",
       "      <td>IR1</td>\n",
       "      <td>Lvl</td>\n",
       "      <td>AllPub</td>\n",
       "      <td>Inside</td>\n",
       "      <td>Gtl</td>\n",
       "      <td>...</td>\n",
       "      <td>WD</td>\n",
       "      <td>138500</td>\n",
       "      <td>0</td>\n",
       "      <td>0</td>\n",
       "      <td>0</td>\n",
       "      <td>0</td>\n",
       "      <td>0</td>\n",
       "      <td>0</td>\n",
       "      <td>0</td>\n",
       "      <td>1</td>\n",
       "    </tr>\n",
       "  </tbody>\n",
       "</table>\n",
       "<p>5 rows × 85 columns</p>\n",
       "</div>"
      ],
      "text/plain": [
       "   ms_subclass ms_zoning  lot_frontage  lot_area street lot_shape  \\\n",
       "0           60        RL       69.0552     13517   Pave       IR1   \n",
       "1           60        RL       43.0000     11492   Pave       IR1   \n",
       "2           20        RL       68.0000      7922   Pave       Reg   \n",
       "3           60        RL       73.0000      9802   Pave       Reg   \n",
       "4           50        RL       82.0000     14235   Pave       IR1   \n",
       "\n",
       "  land_contour utilities lot_config land_slope  ... sale_type saleprice  \\\n",
       "0          Lvl    AllPub    CulDSac        Gtl  ...       WD     130500   \n",
       "1          Lvl    AllPub    CulDSac        Gtl  ...       WD     220000   \n",
       "2          Lvl    AllPub     Inside        Gtl  ...       WD     109000   \n",
       "3          Lvl    AllPub     Inside        Gtl  ...       WD     174000   \n",
       "4          Lvl    AllPub     Inside        Gtl  ...       WD     138500   \n",
       "\n",
       "  alley_Grvl alley_Pave garage_type_2Types  garage_type_Attchd  \\\n",
       "0          0          0                  0                   1   \n",
       "1          0          0                  0                   1   \n",
       "2          0          0                  0                   0   \n",
       "3          0          0                  0                   0   \n",
       "4          0          0                  0                   0   \n",
       "\n",
       "   garage_type_Basment  garage_type_BuiltIn  garage_type_CarPort  \\\n",
       "0                    0                    0                    0   \n",
       "1                    0                    0                    0   \n",
       "2                    0                    0                    0   \n",
       "3                    0                    1                    0   \n",
       "4                    0                    0                    0   \n",
       "\n",
       "  garage_type_Detchd  \n",
       "0                  0  \n",
       "1                  0  \n",
       "2                  1  \n",
       "3                  0  \n",
       "4                  1  \n",
       "\n",
       "[5 rows x 85 columns]"
      ]
     },
     "execution_count": 80,
     "metadata": {},
     "output_type": "execute_result"
    }
   ],
   "source": [
    "# Perform a dummy encoding to the values.\n",
    "housing_data = pd.get_dummies(columns = [\"garage_type\"], drop_first = True, data = housing_data)\n",
    "housing_data.head()"
   ]
  },
  {
   "cell_type": "markdown",
   "metadata": {},
   "source": [
    "**2. test_housing_data**"
   ]
  },
  {
   "cell_type": "code",
   "execution_count": 81,
   "metadata": {},
   "outputs": [
    {
     "data": {
      "text/html": [
       "<div>\n",
       "<style scoped>\n",
       "    .dataframe tbody tr th:only-of-type {\n",
       "        vertical-align: middle;\n",
       "    }\n",
       "\n",
       "    .dataframe tbody tr th {\n",
       "        vertical-align: top;\n",
       "    }\n",
       "\n",
       "    .dataframe thead th {\n",
       "        text-align: right;\n",
       "    }\n",
       "</style>\n",
       "<table border=\"1\" class=\"dataframe\">\n",
       "  <thead>\n",
       "    <tr style=\"text-align: right;\">\n",
       "      <th></th>\n",
       "      <th>garage_type</th>\n",
       "      <th>garage_yr_blt</th>\n",
       "      <th>garage_finish</th>\n",
       "      <th>garage_cars</th>\n",
       "      <th>garage_area</th>\n",
       "      <th>garage_qual</th>\n",
       "      <th>garage_cond</th>\n",
       "    </tr>\n",
       "  </thead>\n",
       "  <tbody>\n",
       "    <tr>\n",
       "      <th>29</th>\n",
       "      <td>NaN</td>\n",
       "      <td>NaN</td>\n",
       "      <td>NaN</td>\n",
       "      <td>0</td>\n",
       "      <td>0</td>\n",
       "      <td>NaN</td>\n",
       "      <td>NaN</td>\n",
       "    </tr>\n",
       "    <tr>\n",
       "      <th>45</th>\n",
       "      <td>NaN</td>\n",
       "      <td>NaN</td>\n",
       "      <td>NaN</td>\n",
       "      <td>0</td>\n",
       "      <td>0</td>\n",
       "      <td>NaN</td>\n",
       "      <td>NaN</td>\n",
       "    </tr>\n",
       "    <tr>\n",
       "      <th>66</th>\n",
       "      <td>NaN</td>\n",
       "      <td>NaN</td>\n",
       "      <td>NaN</td>\n",
       "      <td>0</td>\n",
       "      <td>0</td>\n",
       "      <td>NaN</td>\n",
       "      <td>NaN</td>\n",
       "    </tr>\n",
       "    <tr>\n",
       "      <th>68</th>\n",
       "      <td>NaN</td>\n",
       "      <td>NaN</td>\n",
       "      <td>NaN</td>\n",
       "      <td>0</td>\n",
       "      <td>0</td>\n",
       "      <td>NaN</td>\n",
       "      <td>NaN</td>\n",
       "    </tr>\n",
       "    <tr>\n",
       "      <th>105</th>\n",
       "      <td>NaN</td>\n",
       "      <td>NaN</td>\n",
       "      <td>NaN</td>\n",
       "      <td>0</td>\n",
       "      <td>0</td>\n",
       "      <td>NaN</td>\n",
       "      <td>NaN</td>\n",
       "    </tr>\n",
       "  </tbody>\n",
       "</table>\n",
       "</div>"
      ],
      "text/plain": [
       "    garage_type  garage_yr_blt garage_finish  garage_cars  garage_area  \\\n",
       "29          NaN            NaN           NaN            0            0   \n",
       "45          NaN            NaN           NaN            0            0   \n",
       "66          NaN            NaN           NaN            0            0   \n",
       "68          NaN            NaN           NaN            0            0   \n",
       "105         NaN            NaN           NaN            0            0   \n",
       "\n",
       "    garage_qual garage_cond  \n",
       "29          NaN         NaN  \n",
       "45          NaN         NaN  \n",
       "66          NaN         NaN  \n",
       "68          NaN         NaN  \n",
       "105         NaN         NaN  "
      ]
     },
     "execution_count": 81,
     "metadata": {},
     "output_type": "execute_result"
    }
   ],
   "source": [
    "# Checking the null for columns related to garage\n",
    "test_housing_data.loc[(test_housing_data[\"garage_type\"].isnull())|(test_housing_data[\"garage_yr_blt\"].isnull())|\n",
    "                      (test_housing_data[\"garage_finish\"].isnull())|(test_housing_data[\"garage_cars\"].isnull())|\n",
    "                      (test_housing_data[\"garage_area\"].isnull())|(test_housing_data[\"garage_qual\"].isnull())|\n",
    "                      (test_housing_data[\"garage_cond\"].isnull()), \n",
    "                      [\"garage_type\",\"garage_yr_blt\",\"garage_finish\",\"garage_cars\",\n",
    "                       \"garage_area\",\"garage_qual\", \"garage_cond\"]].head()"
   ]
  },
  {
   "cell_type": "markdown",
   "metadata": {},
   "source": [
    "**Analysis: Majority of the garage features have missing values when garage area (garage_area) is zero.**\n",
    "\n",
    "1. When garage area (garage_area) is 0, this suggests that there should be no other garage features.\n",
    "\n",
    "2. For garage_finish, garage_qual and garage_cond, the missing values will be inputed as 'NA' for No garage while garage_yr_blt will be inputed as 'None' and garage_type will be inputed as '1NA' when the garage_area is 0. \n",
    "\n",
    "3. Index 764 has some garage information. We will look at similar characteristics to observe the trend."
   ]
  },
  {
   "cell_type": "code",
   "execution_count": 82,
   "metadata": {},
   "outputs": [
    {
     "data": {
      "text/plain": [
       "'The missing values has successfully changed.'"
      ]
     },
     "execution_count": 82,
     "metadata": {},
     "output_type": "execute_result"
    }
   ],
   "source": [
    "\"\"\"Change the missing values in garage_type, garage_yr_blt, garage_finish, garage_qual, garage_cond column \n",
    "when garage_area is 0\"\"\"\n",
    "modify_with_criteria_onenull_onezero(test_housing_data, \"garage_type\", \"garage_area\", '1NA')\n",
    "modify_with_criteria_onenull_onezero(test_housing_data, \"garage_yr_blt\", \"garage_area\", 'None')\n",
    "modify_with_criteria_onenull_onezero(test_housing_data, \"garage_finish\", \"garage_area\", 'NA')\n",
    "modify_with_criteria_onenull_onezero(test_housing_data, \"garage_qual\", \"garage_area\", 'NA')\n",
    "modify_with_criteria_onenull_onezero(test_housing_data, \"garage_cond\", \"garage_area\", 'NA')"
   ]
  },
  {
   "cell_type": "markdown",
   "metadata": {},
   "source": [
    "**Analysis: Successfully indicated 'NA' (No garage) for garage features when garage area (garage_area) is zero**"
   ]
  },
  {
   "cell_type": "markdown",
   "metadata": {},
   "source": [
    "**Index 764 with limited garage information**"
   ]
  },
  {
   "cell_type": "code",
   "execution_count": 83,
   "metadata": {},
   "outputs": [
    {
     "data": {
      "text/html": [
       "<div>\n",
       "<style scoped>\n",
       "    .dataframe tbody tr th:only-of-type {\n",
       "        vertical-align: middle;\n",
       "    }\n",
       "\n",
       "    .dataframe tbody tr th {\n",
       "        vertical-align: top;\n",
       "    }\n",
       "\n",
       "    .dataframe thead th {\n",
       "        text-align: right;\n",
       "    }\n",
       "</style>\n",
       "<table border=\"1\" class=\"dataframe\">\n",
       "  <thead>\n",
       "    <tr style=\"text-align: right;\">\n",
       "      <th></th>\n",
       "      <th>garage_type</th>\n",
       "      <th>garage_yr_blt</th>\n",
       "      <th>garage_finish</th>\n",
       "      <th>garage_cars</th>\n",
       "      <th>garage_area</th>\n",
       "      <th>garage_qual</th>\n",
       "      <th>garage_cond</th>\n",
       "      <th>year_built</th>\n",
       "      <th>year_remod</th>\n",
       "    </tr>\n",
       "  </thead>\n",
       "  <tbody>\n",
       "    <tr>\n",
       "      <th>6</th>\n",
       "      <td>Detchd</td>\n",
       "      <td>1959</td>\n",
       "      <td>Unf</td>\n",
       "      <td>1</td>\n",
       "      <td>308</td>\n",
       "      <td>TA</td>\n",
       "      <td>TA</td>\n",
       "      <td>1958</td>\n",
       "      <td>2006</td>\n",
       "    </tr>\n",
       "    <tr>\n",
       "      <th>25</th>\n",
       "      <td>Detchd</td>\n",
       "      <td>1989</td>\n",
       "      <td>Unf</td>\n",
       "      <td>1</td>\n",
       "      <td>352</td>\n",
       "      <td>TA</td>\n",
       "      <td>TA</td>\n",
       "      <td>1972</td>\n",
       "      <td>1972</td>\n",
       "    </tr>\n",
       "    <tr>\n",
       "      <th>82</th>\n",
       "      <td>Detchd</td>\n",
       "      <td>2004</td>\n",
       "      <td>Unf</td>\n",
       "      <td>1</td>\n",
       "      <td>336</td>\n",
       "      <td>TA</td>\n",
       "      <td>TA</td>\n",
       "      <td>1930</td>\n",
       "      <td>2005</td>\n",
       "    </tr>\n",
       "    <tr>\n",
       "      <th>91</th>\n",
       "      <td>Detchd</td>\n",
       "      <td>1950</td>\n",
       "      <td>Unf</td>\n",
       "      <td>1</td>\n",
       "      <td>384</td>\n",
       "      <td>Fa</td>\n",
       "      <td>TA</td>\n",
       "      <td>1910</td>\n",
       "      <td>2000</td>\n",
       "    </tr>\n",
       "    <tr>\n",
       "      <th>95</th>\n",
       "      <td>Detchd</td>\n",
       "      <td>1927</td>\n",
       "      <td>Unf</td>\n",
       "      <td>1</td>\n",
       "      <td>374</td>\n",
       "      <td>TA</td>\n",
       "      <td>TA</td>\n",
       "      <td>1927</td>\n",
       "      <td>1950</td>\n",
       "    </tr>\n",
       "  </tbody>\n",
       "</table>\n",
       "</div>"
      ],
      "text/plain": [
       "   garage_type garage_yr_blt garage_finish  garage_cars  garage_area  \\\n",
       "6       Detchd          1959           Unf            1          308   \n",
       "25      Detchd          1989           Unf            1          352   \n",
       "82      Detchd          2004           Unf            1          336   \n",
       "91      Detchd          1950           Unf            1          384   \n",
       "95      Detchd          1927           Unf            1          374   \n",
       "\n",
       "   garage_qual garage_cond  year_built  year_remod  \n",
       "6           TA          TA        1958        2006  \n",
       "25          TA          TA        1972        1972  \n",
       "82          TA          TA        1930        2005  \n",
       "91          Fa          TA        1910        2000  \n",
       "95          TA          TA        1927        1950  "
      ]
     },
     "execution_count": 83,
     "metadata": {},
     "output_type": "execute_result"
    }
   ],
   "source": [
    "# Checking the null for columns related to garage with a range of 300 to 400 for the garage_area\n",
    "test_housing_data.loc[(test_housing_data[\"garage_cars\"] == 1) & (test_housing_data[\"garage_type\"] == \"Detchd\") & \n",
    "                      (test_housing_data[\"garage_area\"]>300) & (test_housing_data[\"garage_area\"]<400), \n",
    "                      [\"garage_type\",\"garage_yr_blt\",\"garage_finish\",\"garage_cars\", \n",
    "                       \"garage_area\",\"garage_qual\", \"garage_cond\", \"year_built\", \"year_remod\"]].head()"
   ]
  },
  {
   "cell_type": "code",
   "execution_count": 84,
   "metadata": {},
   "outputs": [
    {
     "data": {
      "text/plain": [
       "       garage_finish\n",
       "False  Unf              347\n",
       "       RFn              232\n",
       "       Fin              217\n",
       "       NA                44\n",
       "True   Unf               35\n",
       "       Fin                1\n",
       "       RFn                1\n",
       "Name: garage_finish, dtype: int64"
      ]
     },
     "execution_count": 84,
     "metadata": {},
     "output_type": "execute_result"
    }
   ],
   "source": [
    "# To count the values in garage_finish when it is observed with the similar characteristics\n",
    "mask = (test_housing_data[\"garage_cars\"] == 1) & (test_housing_data[\"garage_type\"] == \"Detchd\") & (test_housing_data[\"garage_area\"]>300) & (test_housing_data[\"garage_area\"]<400)\n",
    "test_housing_data.groupby(mask)['garage_finish'].value_counts()"
   ]
  },
  {
   "cell_type": "code",
   "execution_count": 85,
   "metadata": {},
   "outputs": [
    {
     "data": {
      "text/plain": [
       "       garage_qual\n",
       "False  TA             747\n",
       "       NA              44\n",
       "       Fa              40\n",
       "       Gd               6\n",
       "       Po               3\n",
       "True   TA              35\n",
       "       Fa               2\n",
       "Name: garage_qual, dtype: int64"
      ]
     },
     "execution_count": 85,
     "metadata": {},
     "output_type": "execute_result"
    }
   ],
   "source": [
    "# To count the values in garage_qual when it is observed with the similar characteristics\n",
    "mask = (test_housing_data[\"garage_cars\"] == 1) & (test_housing_data[\"garage_type\"] == \"Detchd\") & (test_housing_data[\"garage_area\"]>300) & (test_housing_data[\"garage_area\"]<400)\n",
    "test_housing_data.groupby(mask)['garage_qual'].value_counts()"
   ]
  },
  {
   "cell_type": "code",
   "execution_count": 86,
   "metadata": {
    "scrolled": true
   },
   "outputs": [
    {
     "data": {
      "text/plain": [
       "       garage_cond\n",
       "False  TA             760\n",
       "       NA              44\n",
       "       Fa              26\n",
       "       Po               6\n",
       "       Gd               3\n",
       "       Ex               1\n",
       "True   TA              36\n",
       "       Fa               1\n",
       "Name: garage_cond, dtype: int64"
      ]
     },
     "execution_count": 86,
     "metadata": {},
     "output_type": "execute_result"
    }
   ],
   "source": [
    "# To count the values in garage_cond when it is observed with the similar characteristics\n",
    "mask = (test_housing_data[\"garage_cars\"] == 1) & (test_housing_data[\"garage_type\"] == \"Detchd\") & (test_housing_data[\"garage_area\"]>300) & (test_housing_data[\"garage_area\"]<400)\n",
    "test_housing_data.groupby(mask)['garage_cond'].value_counts()"
   ]
  },
  {
   "cell_type": "code",
   "execution_count": 87,
   "metadata": {},
   "outputs": [
    {
     "data": {
      "text/html": [
       "<div>\n",
       "<style scoped>\n",
       "    .dataframe tbody tr th:only-of-type {\n",
       "        vertical-align: middle;\n",
       "    }\n",
       "\n",
       "    .dataframe tbody tr th {\n",
       "        vertical-align: top;\n",
       "    }\n",
       "\n",
       "    .dataframe thead th {\n",
       "        text-align: right;\n",
       "    }\n",
       "</style>\n",
       "<table border=\"1\" class=\"dataframe\">\n",
       "  <thead>\n",
       "    <tr style=\"text-align: right;\">\n",
       "      <th></th>\n",
       "      <th>year_built</th>\n",
       "      <th>year_remod</th>\n",
       "      <th>garage_yr_blt</th>\n",
       "    </tr>\n",
       "  </thead>\n",
       "  <tbody>\n",
       "    <tr>\n",
       "      <th>764</th>\n",
       "      <td>1910</td>\n",
       "      <td>1983</td>\n",
       "      <td>NaN</td>\n",
       "    </tr>\n",
       "  </tbody>\n",
       "</table>\n",
       "</div>"
      ],
      "text/plain": [
       "     year_built  year_remod garage_yr_blt\n",
       "764        1910        1983           NaN"
      ]
     },
     "execution_count": 87,
     "metadata": {},
     "output_type": "execute_result"
    }
   ],
   "source": [
    "# To observe the house of year built and year remod with garage_yr_blt\n",
    "test_housing_data.loc[[764], [\"year_built\", \"year_remod\", \"garage_yr_blt\"]]"
   ]
  },
  {
   "cell_type": "markdown",
   "metadata": {},
   "source": [
    "**Analysis: Using the similar characteristic of the missing values as criteria with the garage_area set between 300-400, the garage_finish will be place \"Unf\", garage_qual will be palce as 'TA' and garage_cond will be placed as 'TA'**\n",
    "\n",
    "Majority of the sample are labeled as \"Unf\" for garage_finish, 'TA' for garage_qual and 'TA' for garage_cond when compared to the other observations. Thus, we will place the respective value for the respective column. As for the garage_yr_blt, we wiill place the year the house was built as we do not have enough information to deduce that the house remodel includes the garage."
   ]
  },
  {
   "cell_type": "code",
   "execution_count": 88,
   "metadata": {
    "scrolled": false
   },
   "outputs": [
    {
     "name": "stdout",
     "output_type": "stream",
     "text": [
      " The number of missing value in garage_finish is 1\n",
      " The number of missing value in garage_qual is 1\n",
      " The number of missing value in garage_cond is 1\n"
     ]
    }
   ],
   "source": [
    "print(f\" The number of missing value in garage_finish is {test_housing_data.garage_finish.isnull().sum()}\")\n",
    "print(f\" The number of missing value in garage_qual is {test_housing_data.garage_qual.isnull().sum()}\")\n",
    "print(f\" The number of missing value in garage_cond is {test_housing_data.garage_cond.isnull().sum()}\")"
   ]
  },
  {
   "cell_type": "code",
   "execution_count": 89,
   "metadata": {},
   "outputs": [
    {
     "data": {
      "text/html": [
       "<div>\n",
       "<style scoped>\n",
       "    .dataframe tbody tr th:only-of-type {\n",
       "        vertical-align: middle;\n",
       "    }\n",
       "\n",
       "    .dataframe tbody tr th {\n",
       "        vertical-align: top;\n",
       "    }\n",
       "\n",
       "    .dataframe thead th {\n",
       "        text-align: right;\n",
       "    }\n",
       "</style>\n",
       "<table border=\"1\" class=\"dataframe\">\n",
       "  <thead>\n",
       "    <tr style=\"text-align: right;\">\n",
       "      <th></th>\n",
       "      <th>garage_type</th>\n",
       "      <th>garage_yr_blt</th>\n",
       "      <th>garage_finish</th>\n",
       "      <th>garage_cars</th>\n",
       "      <th>garage_area</th>\n",
       "      <th>garage_qual</th>\n",
       "      <th>garage_cond</th>\n",
       "    </tr>\n",
       "  </thead>\n",
       "  <tbody>\n",
       "    <tr>\n",
       "      <th>764</th>\n",
       "      <td>Detchd</td>\n",
       "      <td>1910</td>\n",
       "      <td>Unf</td>\n",
       "      <td>1</td>\n",
       "      <td>360</td>\n",
       "      <td>TA</td>\n",
       "      <td>TA</td>\n",
       "    </tr>\n",
       "  </tbody>\n",
       "</table>\n",
       "</div>"
      ],
      "text/plain": [
       "    garage_type garage_yr_blt garage_finish  garage_cars  garage_area  \\\n",
       "764      Detchd          1910           Unf            1          360   \n",
       "\n",
       "    garage_qual garage_cond  \n",
       "764          TA          TA  "
      ]
     },
     "execution_count": 89,
     "metadata": {},
     "output_type": "execute_result"
    }
   ],
   "source": [
    "# Change the missing values using the respective values for the respctive columns\n",
    "test_housing_data.loc[[764],\"garage_finish\"] = test_housing_data.loc[[764],\"garage_finish\"].fillna('Unf')\n",
    "test_housing_data.loc[[764],\"garage_qual\"] = test_housing_data.loc[[764],\"garage_qual\"].fillna('TA')\n",
    "test_housing_data.loc[[764],\"garage_cond\"] = test_housing_data.loc[[764],\"garage_cond\"].fillna('TA')\n",
    "test_housing_data.loc[[764],\"garage_yr_blt\"] = test_housing_data.loc[[764],\"year_built\"]\n",
    "test_housing_data.loc[[764], [\"garage_type\",\"garage_yr_blt\",\"garage_finish\",\"garage_cars\", \"garage_area\",\"garage_qual\", \"garage_cond\"]].head()"
   ]
  },
  {
   "cell_type": "code",
   "execution_count": 90,
   "metadata": {},
   "outputs": [
    {
     "data": {
      "text/html": [
       "<div>\n",
       "<style scoped>\n",
       "    .dataframe tbody tr th:only-of-type {\n",
       "        vertical-align: middle;\n",
       "    }\n",
       "\n",
       "    .dataframe tbody tr th {\n",
       "        vertical-align: top;\n",
       "    }\n",
       "\n",
       "    .dataframe thead th {\n",
       "        text-align: right;\n",
       "    }\n",
       "</style>\n",
       "<table border=\"1\" class=\"dataframe\">\n",
       "  <thead>\n",
       "    <tr style=\"text-align: right;\">\n",
       "      <th></th>\n",
       "      <th>garage_type</th>\n",
       "      <th>garage_yr_blt</th>\n",
       "      <th>garage_finish</th>\n",
       "      <th>garage_cars</th>\n",
       "      <th>garage_area</th>\n",
       "      <th>garage_qual</th>\n",
       "      <th>garage_cond</th>\n",
       "    </tr>\n",
       "  </thead>\n",
       "  <tbody>\n",
       "  </tbody>\n",
       "</table>\n",
       "</div>"
      ],
      "text/plain": [
       "Empty DataFrame\n",
       "Columns: [garage_type, garage_yr_blt, garage_finish, garage_cars, garage_area, garage_qual, garage_cond]\n",
       "Index: []"
      ]
     },
     "execution_count": 90,
     "metadata": {},
     "output_type": "execute_result"
    }
   ],
   "source": [
    "# Checking the null for columns related to garage\n",
    "test_housing_data.loc[(test_housing_data[\"garage_type\"].isnull())|(test_housing_data[\"garage_yr_blt\"].isnull())|\n",
    "                      (test_housing_data[\"garage_finish\"].isnull())|(test_housing_data[\"garage_cars\"].isnull())|\n",
    "                      (test_housing_data[\"garage_area\"].isnull())|(test_housing_data[\"garage_qual\"].isnull())|\n",
    "                      (test_housing_data[\"garage_cond\"].isnull()), \n",
    "                      [\"garage_type\",\"garage_yr_blt\",\"garage_finish\",\"garage_cars\",\n",
    "                       \"garage_area\",\"garage_qual\", \"garage_cond\"]].head()"
   ]
  },
  {
   "cell_type": "markdown",
   "metadata": {},
   "source": [
    "**Analysis: The Index 764 with limited garage information missing values has been filled with relation to other similar characteristics observed from other observations.**"
   ]
  },
  {
   "cell_type": "markdown",
   "metadata": {},
   "source": [
    "**Encode ordinal garage features for test_housing_data**\n",
    "\n",
    "The ordinal garage features will be encoded to numerical form for future analysis."
   ]
  },
  {
   "cell_type": "code",
   "execution_count": 91,
   "metadata": {
    "scrolled": false
   },
   "outputs": [
    {
     "name": "stdout",
     "output_type": "stream",
     "text": [
      "The garage_qual unique characters is [1 3 2 0 4]\n",
      "The garage_cond unique characters is [1 3 0 2 4 5]\n",
      "The garage_finish unique characters is [1 3 2 0]\n"
     ]
    }
   ],
   "source": [
    "# Mapping the ordinal garage features for housing_data for an ordinal encoding\n",
    "test_housing_data[\"garage_qual\"] = test_housing_data[\"garage_qual\"].map({'NA': 0, 'Po': 1, 'Fa': 2, \"TA\": 3, \"Gd\": 4, \"Ex\":5})\n",
    "test_housing_data[\"garage_cond\"] = test_housing_data[\"garage_cond\"].map({'NA': 0, 'Po': 1, 'Fa': 2, \"TA\": 3, \"Gd\": 4, \"Ex\":5})\n",
    "test_housing_data[\"garage_finish\"] = test_housing_data[\"garage_finish\"].map({'NA': 0, 'Unf': 1, 'RFn': 2, \"Fin\": 3})\n",
    "\n",
    "print(f\"The garage_qual unique characters is {(test_housing_data.garage_qual.unique())}\")\n",
    "print(f\"The garage_cond unique characters is {(test_housing_data.garage_cond.unique())}\")\n",
    "print(f\"The garage_finish unique characters is {(test_housing_data.garage_finish.unique())}\")"
   ]
  },
  {
   "cell_type": "markdown",
   "metadata": {},
   "source": [
    "The nominal garage feature (garage_type) will be dummy encoded for future analysis"
   ]
  },
  {
   "cell_type": "code",
   "execution_count": 92,
   "metadata": {
    "scrolled": true
   },
   "outputs": [
    {
     "data": {
      "text/html": [
       "<div>\n",
       "<style scoped>\n",
       "    .dataframe tbody tr th:only-of-type {\n",
       "        vertical-align: middle;\n",
       "    }\n",
       "\n",
       "    .dataframe tbody tr th {\n",
       "        vertical-align: top;\n",
       "    }\n",
       "\n",
       "    .dataframe thead th {\n",
       "        text-align: right;\n",
       "    }\n",
       "</style>\n",
       "<table border=\"1\" class=\"dataframe\">\n",
       "  <thead>\n",
       "    <tr style=\"text-align: right;\">\n",
       "      <th></th>\n",
       "      <th>ms_subclass</th>\n",
       "      <th>ms_zoning</th>\n",
       "      <th>lot_frontage</th>\n",
       "      <th>lot_area</th>\n",
       "      <th>street</th>\n",
       "      <th>lot_shape</th>\n",
       "      <th>land_contour</th>\n",
       "      <th>utilities</th>\n",
       "      <th>lot_config</th>\n",
       "      <th>land_slope</th>\n",
       "      <th>...</th>\n",
       "      <th>yr_sold</th>\n",
       "      <th>sale_type</th>\n",
       "      <th>alley_Grvl</th>\n",
       "      <th>alley_Pave</th>\n",
       "      <th>garage_type_2Types</th>\n",
       "      <th>garage_type_Attchd</th>\n",
       "      <th>garage_type_Basment</th>\n",
       "      <th>garage_type_BuiltIn</th>\n",
       "      <th>garage_type_CarPort</th>\n",
       "      <th>garage_type_Detchd</th>\n",
       "    </tr>\n",
       "  </thead>\n",
       "  <tbody>\n",
       "    <tr>\n",
       "      <th>0</th>\n",
       "      <td>190</td>\n",
       "      <td>RM</td>\n",
       "      <td>69.000000</td>\n",
       "      <td>9142</td>\n",
       "      <td>Pave</td>\n",
       "      <td>Reg</td>\n",
       "      <td>Lvl</td>\n",
       "      <td>AllPub</td>\n",
       "      <td>Inside</td>\n",
       "      <td>Gtl</td>\n",
       "      <td>...</td>\n",
       "      <td>2006</td>\n",
       "      <td>WD</td>\n",
       "      <td>1</td>\n",
       "      <td>0</td>\n",
       "      <td>0</td>\n",
       "      <td>0</td>\n",
       "      <td>0</td>\n",
       "      <td>0</td>\n",
       "      <td>0</td>\n",
       "      <td>1</td>\n",
       "    </tr>\n",
       "    <tr>\n",
       "      <th>1</th>\n",
       "      <td>90</td>\n",
       "      <td>RL</td>\n",
       "      <td>69.545961</td>\n",
       "      <td>9662</td>\n",
       "      <td>Pave</td>\n",
       "      <td>IR1</td>\n",
       "      <td>Lvl</td>\n",
       "      <td>AllPub</td>\n",
       "      <td>Inside</td>\n",
       "      <td>Gtl</td>\n",
       "      <td>...</td>\n",
       "      <td>2006</td>\n",
       "      <td>WD</td>\n",
       "      <td>0</td>\n",
       "      <td>0</td>\n",
       "      <td>0</td>\n",
       "      <td>1</td>\n",
       "      <td>0</td>\n",
       "      <td>0</td>\n",
       "      <td>0</td>\n",
       "      <td>0</td>\n",
       "    </tr>\n",
       "    <tr>\n",
       "      <th>2</th>\n",
       "      <td>60</td>\n",
       "      <td>RL</td>\n",
       "      <td>58.000000</td>\n",
       "      <td>17104</td>\n",
       "      <td>Pave</td>\n",
       "      <td>IR1</td>\n",
       "      <td>Lvl</td>\n",
       "      <td>AllPub</td>\n",
       "      <td>Inside</td>\n",
       "      <td>Gtl</td>\n",
       "      <td>...</td>\n",
       "      <td>2006</td>\n",
       "      <td>New</td>\n",
       "      <td>0</td>\n",
       "      <td>0</td>\n",
       "      <td>0</td>\n",
       "      <td>1</td>\n",
       "      <td>0</td>\n",
       "      <td>0</td>\n",
       "      <td>0</td>\n",
       "      <td>0</td>\n",
       "    </tr>\n",
       "    <tr>\n",
       "      <th>3</th>\n",
       "      <td>30</td>\n",
       "      <td>RM</td>\n",
       "      <td>60.000000</td>\n",
       "      <td>8520</td>\n",
       "      <td>Pave</td>\n",
       "      <td>Reg</td>\n",
       "      <td>Lvl</td>\n",
       "      <td>AllPub</td>\n",
       "      <td>Inside</td>\n",
       "      <td>Gtl</td>\n",
       "      <td>...</td>\n",
       "      <td>2007</td>\n",
       "      <td>WD</td>\n",
       "      <td>0</td>\n",
       "      <td>0</td>\n",
       "      <td>0</td>\n",
       "      <td>0</td>\n",
       "      <td>0</td>\n",
       "      <td>0</td>\n",
       "      <td>0</td>\n",
       "      <td>1</td>\n",
       "    </tr>\n",
       "    <tr>\n",
       "      <th>4</th>\n",
       "      <td>20</td>\n",
       "      <td>RL</td>\n",
       "      <td>69.545961</td>\n",
       "      <td>9500</td>\n",
       "      <td>Pave</td>\n",
       "      <td>IR1</td>\n",
       "      <td>Lvl</td>\n",
       "      <td>AllPub</td>\n",
       "      <td>Inside</td>\n",
       "      <td>Gtl</td>\n",
       "      <td>...</td>\n",
       "      <td>2009</td>\n",
       "      <td>WD</td>\n",
       "      <td>0</td>\n",
       "      <td>0</td>\n",
       "      <td>0</td>\n",
       "      <td>1</td>\n",
       "      <td>0</td>\n",
       "      <td>0</td>\n",
       "      <td>0</td>\n",
       "      <td>0</td>\n",
       "    </tr>\n",
       "  </tbody>\n",
       "</table>\n",
       "<p>5 rows × 84 columns</p>\n",
       "</div>"
      ],
      "text/plain": [
       "   ms_subclass ms_zoning  lot_frontage  lot_area street lot_shape  \\\n",
       "0          190        RM     69.000000      9142   Pave       Reg   \n",
       "1           90        RL     69.545961      9662   Pave       IR1   \n",
       "2           60        RL     58.000000     17104   Pave       IR1   \n",
       "3           30        RM     60.000000      8520   Pave       Reg   \n",
       "4           20        RL     69.545961      9500   Pave       IR1   \n",
       "\n",
       "  land_contour utilities lot_config land_slope  ... yr_sold sale_type  \\\n",
       "0          Lvl    AllPub     Inside        Gtl  ...    2006       WD    \n",
       "1          Lvl    AllPub     Inside        Gtl  ...    2006       WD    \n",
       "2          Lvl    AllPub     Inside        Gtl  ...    2006       New   \n",
       "3          Lvl    AllPub     Inside        Gtl  ...    2007       WD    \n",
       "4          Lvl    AllPub     Inside        Gtl  ...    2009       WD    \n",
       "\n",
       "  alley_Grvl alley_Pave garage_type_2Types  garage_type_Attchd  \\\n",
       "0          1          0                  0                   0   \n",
       "1          0          0                  0                   1   \n",
       "2          0          0                  0                   1   \n",
       "3          0          0                  0                   0   \n",
       "4          0          0                  0                   1   \n",
       "\n",
       "   garage_type_Basment  garage_type_BuiltIn  garage_type_CarPort  \\\n",
       "0                    0                    0                    0   \n",
       "1                    0                    0                    0   \n",
       "2                    0                    0                    0   \n",
       "3                    0                    0                    0   \n",
       "4                    0                    0                    0   \n",
       "\n",
       "  garage_type_Detchd  \n",
       "0                  1  \n",
       "1                  0  \n",
       "2                  0  \n",
       "3                  1  \n",
       "4                  0  \n",
       "\n",
       "[5 rows x 84 columns]"
      ]
     },
     "execution_count": 92,
     "metadata": {},
     "output_type": "execute_result"
    }
   ],
   "source": [
    "# Perform a dummy encoding to the values.\n",
    "test_housing_data = pd.get_dummies(columns = [\"garage_type\"], drop_first = True, data = test_housing_data)\n",
    "test_housing_data.head()"
   ]
  },
  {
   "cell_type": "markdown",
   "metadata": {},
   "source": [
    "**Summary: Both housing_data and test_housing_data for missing values for garage features has been filled and the values have been performed an ordinal amd dummy encoding.**"
   ]
  },
  {
   "cell_type": "markdown",
   "metadata": {},
   "source": [
    "### 2.3.4.7 Mas_vnr missing values"
   ]
  },
  {
   "cell_type": "markdown",
   "metadata": {},
   "source": [
    "**1. housing_data**"
   ]
  },
  {
   "cell_type": "code",
   "execution_count": 93,
   "metadata": {
    "scrolled": false
   },
   "outputs": [
    {
     "data": {
      "text/html": [
       "<div>\n",
       "<style scoped>\n",
       "    .dataframe tbody tr th:only-of-type {\n",
       "        vertical-align: middle;\n",
       "    }\n",
       "\n",
       "    .dataframe tbody tr th {\n",
       "        vertical-align: top;\n",
       "    }\n",
       "\n",
       "    .dataframe thead th {\n",
       "        text-align: right;\n",
       "    }\n",
       "</style>\n",
       "<table border=\"1\" class=\"dataframe\">\n",
       "  <thead>\n",
       "    <tr style=\"text-align: right;\">\n",
       "      <th></th>\n",
       "      <th>mas_vnr_type</th>\n",
       "      <th>mas_vnr_area</th>\n",
       "    </tr>\n",
       "  </thead>\n",
       "  <tbody>\n",
       "    <tr>\n",
       "      <th>22</th>\n",
       "      <td>NaN</td>\n",
       "      <td>NaN</td>\n",
       "    </tr>\n",
       "    <tr>\n",
       "      <th>41</th>\n",
       "      <td>NaN</td>\n",
       "      <td>NaN</td>\n",
       "    </tr>\n",
       "    <tr>\n",
       "      <th>86</th>\n",
       "      <td>NaN</td>\n",
       "      <td>NaN</td>\n",
       "    </tr>\n",
       "    <tr>\n",
       "      <th>212</th>\n",
       "      <td>NaN</td>\n",
       "      <td>NaN</td>\n",
       "    </tr>\n",
       "    <tr>\n",
       "      <th>276</th>\n",
       "      <td>NaN</td>\n",
       "      <td>NaN</td>\n",
       "    </tr>\n",
       "  </tbody>\n",
       "</table>\n",
       "</div>"
      ],
      "text/plain": [
       "    mas_vnr_type  mas_vnr_area\n",
       "22           NaN           NaN\n",
       "41           NaN           NaN\n",
       "86           NaN           NaN\n",
       "212          NaN           NaN\n",
       "276          NaN           NaN"
      ]
     },
     "execution_count": 93,
     "metadata": {},
     "output_type": "execute_result"
    }
   ],
   "source": [
    "# To check the missing values for mas\n",
    "housing_data.loc[(housing_data[\"mas_vnr_type\"].isnull())|\n",
    "                 (housing_data[\"mas_vnr_area\"].isnull()), \n",
    "                 [\"mas_vnr_type\", \"mas_vnr_area\"]].head()"
   ]
  },
  {
   "cell_type": "markdown",
   "metadata": {},
   "source": [
    "**Analysis: Both mas_vnr_type and mas_vnr_area has no values coherently.**\n",
    "\n",
    "It is observed that both man_vnr_type and mas_vnr_area has no values coherently. This might suggest that there are no mansory veneer in these properties resulting in both values are absence. Thus, the mas_vnr_type will be indicated as 'None' while the mas_vnr_area will be indicated as zero value."
   ]
  },
  {
   "cell_type": "code",
   "execution_count": 94,
   "metadata": {},
   "outputs": [
    {
     "data": {
      "text/html": [
       "<div>\n",
       "<style scoped>\n",
       "    .dataframe tbody tr th:only-of-type {\n",
       "        vertical-align: middle;\n",
       "    }\n",
       "\n",
       "    .dataframe tbody tr th {\n",
       "        vertical-align: top;\n",
       "    }\n",
       "\n",
       "    .dataframe thead th {\n",
       "        text-align: right;\n",
       "    }\n",
       "</style>\n",
       "<table border=\"1\" class=\"dataframe\">\n",
       "  <thead>\n",
       "    <tr style=\"text-align: right;\">\n",
       "      <th></th>\n",
       "      <th>mas_vnr_type</th>\n",
       "      <th>mas_vnr_area</th>\n",
       "    </tr>\n",
       "  </thead>\n",
       "  <tbody>\n",
       "  </tbody>\n",
       "</table>\n",
       "</div>"
      ],
      "text/plain": [
       "Empty DataFrame\n",
       "Columns: [mas_vnr_type, mas_vnr_area]\n",
       "Index: []"
      ]
     },
     "execution_count": 94,
     "metadata": {},
     "output_type": "execute_result"
    }
   ],
   "source": [
    "# Change NaN in mas_vnr_type to 'None' and mas_vnr_area to 0..\n",
    "housing_data[\"mas_vnr_type\"] = housing_data[\"mas_vnr_type\"].fillna('None')\n",
    "housing_data[\"mas_vnr_area\"] = housing_data[\"mas_vnr_area\"].fillna(0)\n",
    "housing_data.loc[(housing_data[\"mas_vnr_type\"].isnull())|\n",
    "                 (housing_data[\"mas_vnr_area\"].isnull()), \n",
    "                 [\"mas_vnr_type\", \"mas_vnr_area\"]]"
   ]
  },
  {
   "cell_type": "markdown",
   "metadata": {},
   "source": [
    "**Analysis: Successfully indicated 'None' for mas_vnr_type and zero for mas_vnr_area missing values**"
   ]
  },
  {
   "cell_type": "markdown",
   "metadata": {},
   "source": [
    "**2. test_housing_data**"
   ]
  },
  {
   "cell_type": "code",
   "execution_count": 95,
   "metadata": {
    "scrolled": false
   },
   "outputs": [
    {
     "data": {
      "text/html": [
       "<div>\n",
       "<style scoped>\n",
       "    .dataframe tbody tr th:only-of-type {\n",
       "        vertical-align: middle;\n",
       "    }\n",
       "\n",
       "    .dataframe tbody tr th {\n",
       "        vertical-align: top;\n",
       "    }\n",
       "\n",
       "    .dataframe thead th {\n",
       "        text-align: right;\n",
       "    }\n",
       "</style>\n",
       "<table border=\"1\" class=\"dataframe\">\n",
       "  <thead>\n",
       "    <tr style=\"text-align: right;\">\n",
       "      <th></th>\n",
       "      <th>mas_vnr_type</th>\n",
       "      <th>mas_vnr_area</th>\n",
       "    </tr>\n",
       "  </thead>\n",
       "  <tbody>\n",
       "    <tr>\n",
       "      <th>865</th>\n",
       "      <td>NaN</td>\n",
       "      <td>NaN</td>\n",
       "    </tr>\n",
       "  </tbody>\n",
       "</table>\n",
       "</div>"
      ],
      "text/plain": [
       "    mas_vnr_type  mas_vnr_area\n",
       "865          NaN           NaN"
      ]
     },
     "execution_count": 95,
     "metadata": {},
     "output_type": "execute_result"
    }
   ],
   "source": [
    "# To check the missing values for mas\n",
    "test_housing_data.loc[(test_housing_data[\"mas_vnr_type\"].isnull())| \n",
    "                      (test_housing_data[\"mas_vnr_area\"].isnull()), \n",
    "                      [\"mas_vnr_type\", \"mas_vnr_area\"]].head()"
   ]
  },
  {
   "cell_type": "markdown",
   "metadata": {},
   "source": [
    "**Analysis: Similaryly, index 865 has no values for both mas_vnr_type and mas_vnr_area coherently.**\n",
    "\n",
    "Thus, this might suggest that there are no mansory veneer in this property resulting in both values are absence. Thus, the mas_vnr_type will be indicated as 'None' while the mas_vnr_area will be indicated as zero value."
   ]
  },
  {
   "cell_type": "code",
   "execution_count": 96,
   "metadata": {},
   "outputs": [
    {
     "data": {
      "text/html": [
       "<div>\n",
       "<style scoped>\n",
       "    .dataframe tbody tr th:only-of-type {\n",
       "        vertical-align: middle;\n",
       "    }\n",
       "\n",
       "    .dataframe tbody tr th {\n",
       "        vertical-align: top;\n",
       "    }\n",
       "\n",
       "    .dataframe thead th {\n",
       "        text-align: right;\n",
       "    }\n",
       "</style>\n",
       "<table border=\"1\" class=\"dataframe\">\n",
       "  <thead>\n",
       "    <tr style=\"text-align: right;\">\n",
       "      <th></th>\n",
       "      <th>mas_vnr_type</th>\n",
       "      <th>mas_vnr_area</th>\n",
       "    </tr>\n",
       "  </thead>\n",
       "  <tbody>\n",
       "  </tbody>\n",
       "</table>\n",
       "</div>"
      ],
      "text/plain": [
       "Empty DataFrame\n",
       "Columns: [mas_vnr_type, mas_vnr_area]\n",
       "Index: []"
      ]
     },
     "execution_count": 96,
     "metadata": {},
     "output_type": "execute_result"
    }
   ],
   "source": [
    "# Change NaN in mas_vnr_type to 'None' and mas_vnr_area to 0..\n",
    "test_housing_data[\"mas_vnr_type\"] = test_housing_data[\"mas_vnr_type\"].fillna('None')\n",
    "test_housing_data[\"mas_vnr_area\"] = test_housing_data[\"mas_vnr_area\"].fillna(0)\n",
    "test_housing_data.loc[(test_housing_data[\"mas_vnr_type\"].isnull())|\n",
    "                      (test_housing_data[\"mas_vnr_area\"].isnull()), \n",
    "                      [\"mas_vnr_type\", \"mas_vnr_area\"]]"
   ]
  },
  {
   "cell_type": "markdown",
   "metadata": {},
   "source": [
    "**Analysis: Successfully indicated 'None' for mas_vnr_type and zero for mas_vnr_area missing values**"
   ]
  },
  {
   "cell_type": "markdown",
   "metadata": {},
   "source": [
    "**Summary: Both housing_data and test_housing_data for missing values for masonry veneer features has been filled.**"
   ]
  },
  {
   "cell_type": "markdown",
   "metadata": {},
   "source": [
    "### 2.3.4.8 Pool missing values"
   ]
  },
  {
   "cell_type": "markdown",
   "metadata": {},
   "source": [
    "**1. housing_data**"
   ]
  },
  {
   "cell_type": "code",
   "execution_count": 97,
   "metadata": {},
   "outputs": [
    {
     "data": {
      "text/html": [
       "<div>\n",
       "<style scoped>\n",
       "    .dataframe tbody tr th:only-of-type {\n",
       "        vertical-align: middle;\n",
       "    }\n",
       "\n",
       "    .dataframe tbody tr th {\n",
       "        vertical-align: top;\n",
       "    }\n",
       "\n",
       "    .dataframe thead th {\n",
       "        text-align: right;\n",
       "    }\n",
       "</style>\n",
       "<table border=\"1\" class=\"dataframe\">\n",
       "  <thead>\n",
       "    <tr style=\"text-align: right;\">\n",
       "      <th></th>\n",
       "      <th>pool_qc</th>\n",
       "      <th>pool_area</th>\n",
       "    </tr>\n",
       "  </thead>\n",
       "  <tbody>\n",
       "    <tr>\n",
       "      <th>0</th>\n",
       "      <td>NaN</td>\n",
       "      <td>0</td>\n",
       "    </tr>\n",
       "    <tr>\n",
       "      <th>1</th>\n",
       "      <td>NaN</td>\n",
       "      <td>0</td>\n",
       "    </tr>\n",
       "    <tr>\n",
       "      <th>2</th>\n",
       "      <td>NaN</td>\n",
       "      <td>0</td>\n",
       "    </tr>\n",
       "    <tr>\n",
       "      <th>3</th>\n",
       "      <td>NaN</td>\n",
       "      <td>0</td>\n",
       "    </tr>\n",
       "    <tr>\n",
       "      <th>4</th>\n",
       "      <td>NaN</td>\n",
       "      <td>0</td>\n",
       "    </tr>\n",
       "  </tbody>\n",
       "</table>\n",
       "</div>"
      ],
      "text/plain": [
       "  pool_qc  pool_area\n",
       "0     NaN          0\n",
       "1     NaN          0\n",
       "2     NaN          0\n",
       "3     NaN          0\n",
       "4     NaN          0"
      ]
     },
     "execution_count": 97,
     "metadata": {},
     "output_type": "execute_result"
    }
   ],
   "source": [
    "# Checking the missing values for pool_qc\n",
    "housing_data.loc[(housing_data[\"pool_qc\"].isnull()), ['pool_qc', 'pool_area']].head()"
   ]
  },
  {
   "cell_type": "markdown",
   "metadata": {},
   "source": [
    "**Analysis: Pool quality (pool_qc) column have missing values when pool area is zero.**\n",
    "\n",
    "There are a significant amount of missing values for pool quality (pool_qc) column.\n",
    "When the pool area is 0, this suggests that there will be no rating for pool quality and will be indicated as 'NA' for No Pool.\n",
    "For pool_qc having NaN, it will be converted to 'NA' if pool_area is 0."
   ]
  },
  {
   "cell_type": "code",
   "execution_count": 98,
   "metadata": {},
   "outputs": [
    {
     "data": {
      "text/html": [
       "<div>\n",
       "<style scoped>\n",
       "    .dataframe tbody tr th:only-of-type {\n",
       "        vertical-align: middle;\n",
       "    }\n",
       "\n",
       "    .dataframe tbody tr th {\n",
       "        vertical-align: top;\n",
       "    }\n",
       "\n",
       "    .dataframe thead th {\n",
       "        text-align: right;\n",
       "    }\n",
       "</style>\n",
       "<table border=\"1\" class=\"dataframe\">\n",
       "  <thead>\n",
       "    <tr style=\"text-align: right;\">\n",
       "      <th></th>\n",
       "      <th>pool_qc</th>\n",
       "      <th>pool_area</th>\n",
       "    </tr>\n",
       "  </thead>\n",
       "  <tbody>\n",
       "  </tbody>\n",
       "</table>\n",
       "</div>"
      ],
      "text/plain": [
       "Empty DataFrame\n",
       "Columns: [pool_qc, pool_area]\n",
       "Index: []"
      ]
     },
     "execution_count": 98,
     "metadata": {},
     "output_type": "execute_result"
    }
   ],
   "source": [
    "# Change NaN in pool_qc column to 'NA' when pool_area is zero.\n",
    "modify_with_criteria_onenull_onezero(housing_data, \"pool_qc\", \"pool_area\", 'NA')\n",
    "housing_data.loc[(housing_data[\"pool_qc\"].isnull()), ['pool_qc', 'pool_area']]"
   ]
  },
  {
   "cell_type": "markdown",
   "metadata": {},
   "source": [
    "**Analysis: Successfully indicated 'NA' (No pool) in pool quality (pool_qc) column when pool area is zero.**\n",
    "\n",
    "There are no missing values left in pool_qc column."
   ]
  },
  {
   "cell_type": "markdown",
   "metadata": {},
   "source": [
    "**Encode ordinal pool_qc for housing_data**\n",
    "\n",
    "The ordinal pool will be encoded to numerical form for future analysis."
   ]
  },
  {
   "cell_type": "code",
   "execution_count": 99,
   "metadata": {
    "scrolled": false
   },
   "outputs": [
    {
     "name": "stdout",
     "output_type": "stream",
     "text": [
      "The pool_qc unique characters is [0 1 3 4 2]\n"
     ]
    }
   ],
   "source": [
    "# Mapping the ordinal pool features for housing_data for encoding\n",
    "housing_data[\"pool_qc\"] = housing_data[\"pool_qc\"].map({'NA': 0, 'Fa': 1, \"TA\": 2, \"Gd\": 3, \"Ex\":4})\n",
    "\n",
    "print(f\"The pool_qc unique characters is {(housing_data.pool_qc.unique())}\")"
   ]
  },
  {
   "cell_type": "markdown",
   "metadata": {},
   "source": [
    "**2. test_housing_data**"
   ]
  },
  {
   "cell_type": "code",
   "execution_count": 100,
   "metadata": {},
   "outputs": [
    {
     "data": {
      "text/html": [
       "<div>\n",
       "<style scoped>\n",
       "    .dataframe tbody tr th:only-of-type {\n",
       "        vertical-align: middle;\n",
       "    }\n",
       "\n",
       "    .dataframe tbody tr th {\n",
       "        vertical-align: top;\n",
       "    }\n",
       "\n",
       "    .dataframe thead th {\n",
       "        text-align: right;\n",
       "    }\n",
       "</style>\n",
       "<table border=\"1\" class=\"dataframe\">\n",
       "  <thead>\n",
       "    <tr style=\"text-align: right;\">\n",
       "      <th></th>\n",
       "      <th>pool_qc</th>\n",
       "      <th>pool_area</th>\n",
       "    </tr>\n",
       "  </thead>\n",
       "  <tbody>\n",
       "    <tr>\n",
       "      <th>0</th>\n",
       "      <td>NaN</td>\n",
       "      <td>0</td>\n",
       "    </tr>\n",
       "    <tr>\n",
       "      <th>1</th>\n",
       "      <td>NaN</td>\n",
       "      <td>0</td>\n",
       "    </tr>\n",
       "    <tr>\n",
       "      <th>2</th>\n",
       "      <td>NaN</td>\n",
       "      <td>0</td>\n",
       "    </tr>\n",
       "    <tr>\n",
       "      <th>3</th>\n",
       "      <td>NaN</td>\n",
       "      <td>0</td>\n",
       "    </tr>\n",
       "    <tr>\n",
       "      <th>4</th>\n",
       "      <td>NaN</td>\n",
       "      <td>0</td>\n",
       "    </tr>\n",
       "  </tbody>\n",
       "</table>\n",
       "</div>"
      ],
      "text/plain": [
       "  pool_qc  pool_area\n",
       "0     NaN          0\n",
       "1     NaN          0\n",
       "2     NaN          0\n",
       "3     NaN          0\n",
       "4     NaN          0"
      ]
     },
     "execution_count": 100,
     "metadata": {},
     "output_type": "execute_result"
    }
   ],
   "source": [
    "test_housing_data.loc[(test_housing_data[\"pool_qc\"].isnull()), ['pool_qc', 'pool_area']].head()"
   ]
  },
  {
   "cell_type": "markdown",
   "metadata": {},
   "source": [
    "**Analysis: Pool quality (pool_qc) column have missing values when pool area is zero.**\n",
    "\n",
    "There are a significant amount of missing values for pool quality (pool_qc) column.\n",
    "When the pool area is 0, this suggests that there will be no rating for pool quality and will be indicated as 'NA' for No Pool.\n",
    "For pool_qc having NaN, it will be converted to 'NA' if pool_area is 0."
   ]
  },
  {
   "cell_type": "code",
   "execution_count": 101,
   "metadata": {},
   "outputs": [
    {
     "data": {
      "text/html": [
       "<div>\n",
       "<style scoped>\n",
       "    .dataframe tbody tr th:only-of-type {\n",
       "        vertical-align: middle;\n",
       "    }\n",
       "\n",
       "    .dataframe tbody tr th {\n",
       "        vertical-align: top;\n",
       "    }\n",
       "\n",
       "    .dataframe thead th {\n",
       "        text-align: right;\n",
       "    }\n",
       "</style>\n",
       "<table border=\"1\" class=\"dataframe\">\n",
       "  <thead>\n",
       "    <tr style=\"text-align: right;\">\n",
       "      <th></th>\n",
       "      <th>pool_qc</th>\n",
       "      <th>pool_area</th>\n",
       "    </tr>\n",
       "  </thead>\n",
       "  <tbody>\n",
       "  </tbody>\n",
       "</table>\n",
       "</div>"
      ],
      "text/plain": [
       "Empty DataFrame\n",
       "Columns: [pool_qc, pool_area]\n",
       "Index: []"
      ]
     },
     "execution_count": 101,
     "metadata": {},
     "output_type": "execute_result"
    }
   ],
   "source": [
    "# Change NaN in pool_qc column to 'NA' when pool_area is zero.\n",
    "modify_with_criteria_onenull_onezero(test_housing_data, \"pool_qc\", \"pool_area\", 'NA')\n",
    "test_housing_data.loc[(test_housing_data[\"pool_qc\"].isnull()), ['pool_qc', 'pool_area']]"
   ]
  },
  {
   "cell_type": "markdown",
   "metadata": {},
   "source": [
    "**Analysis: Successfully indicated 'NA' (No pool) in pool quality (pool_qc) column when pool area is zero.**\n",
    "\n",
    "There are no missing values left in pool_qc column."
   ]
  },
  {
   "cell_type": "markdown",
   "metadata": {},
   "source": [
    "**Encode ordinal pool_qc for test_housing_data**\n",
    "\n",
    "The ordinal pool will be encoded to numerical form for future analysis."
   ]
  },
  {
   "cell_type": "code",
   "execution_count": 102,
   "metadata": {
    "scrolled": false
   },
   "outputs": [
    {
     "name": "stdout",
     "output_type": "stream",
     "text": [
      "The pool_qc unique characters is [0 4 2]\n"
     ]
    }
   ],
   "source": [
    "# Mapping the ordinal pool features for test_housing_data for encoding\n",
    "test_housing_data[\"pool_qc\"] = test_housing_data[\"pool_qc\"].map({'NA': 0, 'Fa': 1, \"TA\": 2, \"Gd\": 3, \"Ex\":4})\n",
    "\n",
    "print(f\"The pool_qc unique characters is {(test_housing_data.pool_qc.unique())}\")"
   ]
  },
  {
   "cell_type": "markdown",
   "metadata": {},
   "source": [
    "**Summary: Both housing_data and test_housing_data for missing values for pool features has been filled and the values are encoded.**"
   ]
  },
  {
   "cell_type": "markdown",
   "metadata": {},
   "source": [
    "### 2.3.4.9 Electrical missing values (test_housing_data only)"
   ]
  },
  {
   "cell_type": "code",
   "execution_count": 103,
   "metadata": {},
   "outputs": [
    {
     "data": {
      "text/html": [
       "<div>\n",
       "<style scoped>\n",
       "    .dataframe tbody tr th:only-of-type {\n",
       "        vertical-align: middle;\n",
       "    }\n",
       "\n",
       "    .dataframe tbody tr th {\n",
       "        vertical-align: top;\n",
       "    }\n",
       "\n",
       "    .dataframe thead th {\n",
       "        text-align: right;\n",
       "    }\n",
       "</style>\n",
       "<table border=\"1\" class=\"dataframe\">\n",
       "  <thead>\n",
       "    <tr style=\"text-align: right;\">\n",
       "      <th></th>\n",
       "      <th>electrical</th>\n",
       "      <th>heating</th>\n",
       "      <th>central_air</th>\n",
       "      <th>heating_qc</th>\n",
       "      <th>utilities</th>\n",
       "    </tr>\n",
       "  </thead>\n",
       "  <tbody>\n",
       "    <tr>\n",
       "      <th>634</th>\n",
       "      <td>NaN</td>\n",
       "      <td>GasA</td>\n",
       "      <td>Y</td>\n",
       "      <td>Gd</td>\n",
       "      <td>AllPub</td>\n",
       "    </tr>\n",
       "  </tbody>\n",
       "</table>\n",
       "</div>"
      ],
      "text/plain": [
       "    electrical heating central_air heating_qc utilities\n",
       "634        NaN    GasA           Y         Gd    AllPub"
      ]
     },
     "execution_count": 103,
     "metadata": {},
     "output_type": "execute_result"
    }
   ],
   "source": [
    "# To check the electrical missing value with other columns that are associated with electrical\n",
    "test_housing_data.loc[(test_housing_data.electrical.isnull()),\n",
    "                      [\"electrical\", \"heating\", 'central_air', \n",
    "                       \"heating_qc\", \"utilities\"]]"
   ]
  },
  {
   "cell_type": "markdown",
   "metadata": {},
   "source": [
    "**Analysis: Index 634 has missing value for electrical**\n",
    "\n",
    "We will look at similar characteristics that require or associate with electrical such as heating, central_air, heating_qc and utilities to observe the trend."
   ]
  },
  {
   "cell_type": "code",
   "execution_count": 104,
   "metadata": {
    "scrolled": true
   },
   "outputs": [
    {
     "data": {
      "text/html": [
       "<div>\n",
       "<style scoped>\n",
       "    .dataframe tbody tr th:only-of-type {\n",
       "        vertical-align: middle;\n",
       "    }\n",
       "\n",
       "    .dataframe tbody tr th {\n",
       "        vertical-align: top;\n",
       "    }\n",
       "\n",
       "    .dataframe thead th {\n",
       "        text-align: right;\n",
       "    }\n",
       "</style>\n",
       "<table border=\"1\" class=\"dataframe\">\n",
       "  <thead>\n",
       "    <tr style=\"text-align: right;\">\n",
       "      <th></th>\n",
       "      <th>electrical</th>\n",
       "      <th>heating</th>\n",
       "      <th>central_air</th>\n",
       "      <th>heating_qc</th>\n",
       "      <th>utilities</th>\n",
       "      <th>ms_zoning</th>\n",
       "    </tr>\n",
       "  </thead>\n",
       "  <tbody>\n",
       "    <tr>\n",
       "      <th>4</th>\n",
       "      <td>SBrkr</td>\n",
       "      <td>GasA</td>\n",
       "      <td>Y</td>\n",
       "      <td>Gd</td>\n",
       "      <td>AllPub</td>\n",
       "      <td>RL</td>\n",
       "    </tr>\n",
       "    <tr>\n",
       "      <th>10</th>\n",
       "      <td>SBrkr</td>\n",
       "      <td>GasA</td>\n",
       "      <td>Y</td>\n",
       "      <td>Gd</td>\n",
       "      <td>AllPub</td>\n",
       "      <td>RL</td>\n",
       "    </tr>\n",
       "    <tr>\n",
       "      <th>11</th>\n",
       "      <td>SBrkr</td>\n",
       "      <td>GasA</td>\n",
       "      <td>Y</td>\n",
       "      <td>Gd</td>\n",
       "      <td>AllPub</td>\n",
       "      <td>RM</td>\n",
       "    </tr>\n",
       "    <tr>\n",
       "      <th>19</th>\n",
       "      <td>SBrkr</td>\n",
       "      <td>GasA</td>\n",
       "      <td>Y</td>\n",
       "      <td>Gd</td>\n",
       "      <td>AllPub</td>\n",
       "      <td>RM</td>\n",
       "    </tr>\n",
       "    <tr>\n",
       "      <th>26</th>\n",
       "      <td>SBrkr</td>\n",
       "      <td>GasA</td>\n",
       "      <td>Y</td>\n",
       "      <td>Gd</td>\n",
       "      <td>AllPub</td>\n",
       "      <td>RL</td>\n",
       "    </tr>\n",
       "  </tbody>\n",
       "</table>\n",
       "</div>"
      ],
      "text/plain": [
       "   electrical heating central_air heating_qc utilities ms_zoning\n",
       "4       SBrkr    GasA           Y         Gd    AllPub        RL\n",
       "10      SBrkr    GasA           Y         Gd    AllPub        RL\n",
       "11      SBrkr    GasA           Y         Gd    AllPub        RM\n",
       "19      SBrkr    GasA           Y         Gd    AllPub        RM\n",
       "26      SBrkr    GasA           Y         Gd    AllPub        RL"
      ]
     },
     "execution_count": 104,
     "metadata": {},
     "output_type": "execute_result"
    }
   ],
   "source": [
    "# To filter the observations that are similar to the characterisitics of Index 634\n",
    "test_housing_data.loc[(test_housing_data[\"heating\"] == 'GasA') &\n",
    "                      (test_housing_data[\"central_air\"] == 'Y') &\n",
    "                      (test_housing_data[\"heating_qc\"] == 'Gd') &\n",
    "                      (test_housing_data[\"utilities\"] == 'AllPub'),\n",
    "                      [\"electrical\", \"heating\", 'central_air', \"heating_qc\", \"utilities\", 'ms_zoning']].head()"
   ]
  },
  {
   "cell_type": "code",
   "execution_count": 105,
   "metadata": {},
   "outputs": [
    {
     "data": {
      "text/plain": [
       "       electrical\n",
       "False  SBrkr         669\n",
       "       FuseA          48\n",
       "       FuseF          11\n",
       "       FuseP           5\n",
       "True   SBrkr         129\n",
       "       FuseA          13\n",
       "       FuseF           2\n",
       "       FuseP           1\n",
       "Name: electrical, dtype: int64"
      ]
     },
     "execution_count": 105,
     "metadata": {},
     "output_type": "execute_result"
    }
   ],
   "source": [
    "# To count the values in electrical when it is observed with the similar characteristics\n",
    "mask = (test_housing_data[\"heating\"] == 'GasA') & (test_housing_data[\"central_air\"] == 'Y') & (test_housing_data[\"heating_qc\"] == 'Gd') & (test_housing_data[\"utilities\"] == 'AllPub')\n",
    "housing_data.groupby(mask)['electrical'].value_counts()"
   ]
  },
  {
   "cell_type": "markdown",
   "metadata": {},
   "source": [
    "**Analysis: Using the similar characteristic of the missing values, majority of them have SBrkr as their electrical.**\n",
    "\n",
    "Majority of the sample have electrical type \"SBrkr\" for the similar characteristics of Index 634. Thus, we will place 'SBrkr for the electrical column of index 634."
   ]
  },
  {
   "cell_type": "code",
   "execution_count": 106,
   "metadata": {},
   "outputs": [
    {
     "data": {
      "text/html": [
       "<div>\n",
       "<style scoped>\n",
       "    .dataframe tbody tr th:only-of-type {\n",
       "        vertical-align: middle;\n",
       "    }\n",
       "\n",
       "    .dataframe tbody tr th {\n",
       "        vertical-align: top;\n",
       "    }\n",
       "\n",
       "    .dataframe thead th {\n",
       "        text-align: right;\n",
       "    }\n",
       "</style>\n",
       "<table border=\"1\" class=\"dataframe\">\n",
       "  <thead>\n",
       "    <tr style=\"text-align: right;\">\n",
       "      <th></th>\n",
       "      <th>electrical</th>\n",
       "      <th>heating</th>\n",
       "      <th>central_air</th>\n",
       "      <th>heating_qc</th>\n",
       "      <th>utilities</th>\n",
       "      <th>ms_zoning</th>\n",
       "    </tr>\n",
       "  </thead>\n",
       "  <tbody>\n",
       "    <tr>\n",
       "      <th>634</th>\n",
       "      <td>SBrkr</td>\n",
       "      <td>GasA</td>\n",
       "      <td>Y</td>\n",
       "      <td>Gd</td>\n",
       "      <td>AllPub</td>\n",
       "      <td>RL</td>\n",
       "    </tr>\n",
       "  </tbody>\n",
       "</table>\n",
       "</div>"
      ],
      "text/plain": [
       "    electrical heating central_air heating_qc utilities ms_zoning\n",
       "634      SBrkr    GasA           Y         Gd    AllPub        RL"
      ]
     },
     "execution_count": 106,
     "metadata": {},
     "output_type": "execute_result"
    }
   ],
   "source": [
    "# Change the missing values using the respective values for the respctive columns\n",
    "test_housing_data.loc[[634],\"electrical\"] = test_housing_data.loc[[634],\"electrical\"].fillna('SBrkr')\n",
    "test_housing_data.loc[[634], [\"electrical\", \"heating\", 'central_air', \"heating_qc\", \"utilities\", 'ms_zoning']].head()"
   ]
  },
  {
   "cell_type": "code",
   "execution_count": 107,
   "metadata": {},
   "outputs": [
    {
     "data": {
      "text/html": [
       "<div>\n",
       "<style scoped>\n",
       "    .dataframe tbody tr th:only-of-type {\n",
       "        vertical-align: middle;\n",
       "    }\n",
       "\n",
       "    .dataframe tbody tr th {\n",
       "        vertical-align: top;\n",
       "    }\n",
       "\n",
       "    .dataframe thead th {\n",
       "        text-align: right;\n",
       "    }\n",
       "</style>\n",
       "<table border=\"1\" class=\"dataframe\">\n",
       "  <thead>\n",
       "    <tr style=\"text-align: right;\">\n",
       "      <th></th>\n",
       "      <th>electrical</th>\n",
       "      <th>heating</th>\n",
       "      <th>central_air</th>\n",
       "      <th>heating_qc</th>\n",
       "      <th>utilities</th>\n",
       "    </tr>\n",
       "  </thead>\n",
       "  <tbody>\n",
       "  </tbody>\n",
       "</table>\n",
       "</div>"
      ],
      "text/plain": [
       "Empty DataFrame\n",
       "Columns: [electrical, heating, central_air, heating_qc, utilities]\n",
       "Index: []"
      ]
     },
     "execution_count": 107,
     "metadata": {},
     "output_type": "execute_result"
    }
   ],
   "source": [
    "# To check the electrical missing value presence\n",
    "test_housing_data.loc[(test_housing_data.electrical.isnull()),\n",
    "                      [\"electrical\", \"heating\", 'central_air', \n",
    "                       \"heating_qc\", \"utilities\"]]"
   ]
  },
  {
   "cell_type": "markdown",
   "metadata": {},
   "source": [
    "**Analysis: The Index 634 missing values has been filled for electrical with relation to other similar characteristics observed from other observations.**"
   ]
  },
  {
   "cell_type": "markdown",
   "metadata": {},
   "source": [
    "**Summary: test_housing_data for missing values for electrical has been filled.**"
   ]
  },
  {
   "cell_type": "markdown",
   "metadata": {},
   "source": [
    "**Encode ordinal electrical for housing_data and test_housing_data**\n",
    "\n",
    "The ordinal electrical will be encoded to numerical form for future analysis."
   ]
  },
  {
   "cell_type": "code",
   "execution_count": 108,
   "metadata": {
    "scrolled": false
   },
   "outputs": [
    {
     "name": "stdout",
     "output_type": "stream",
     "text": [
      "The housing_data electrical unique characters is [4 2 3 1 0]\n",
      "The test_housing_data electrical unique characters is [1 4 3 2]\n"
     ]
    }
   ],
   "source": [
    "# Mapping the ordinal electrical for housing_data and test_housing_data for encoding\n",
    "housing_data[\"electrical\"] = housing_data[\"electrical\"].map({'Mix': 0, 'FuseP': 1, \"FuseF\": 2, \"FuseA\": 3, \"SBrkr\":4})\n",
    "test_housing_data[\"electrical\"] = test_housing_data[\"electrical\"].map({'Mix': 0, 'FuseP': 1, \"FuseF\": 2, \"FuseA\": 3, \"SBrkr\":4})\n",
    "print(f\"The housing_data electrical unique characters is {(housing_data.electrical.unique())}\")\n",
    "print(f\"The test_housing_data electrical unique characters is {(test_housing_data.electrical.unique())}\")"
   ]
  },
  {
   "cell_type": "markdown",
   "metadata": {},
   "source": [
    "### 2.3.4.10 Miscellaneous feature missing values"
   ]
  },
  {
   "cell_type": "markdown",
   "metadata": {},
   "source": [
    "**1. housing_data**"
   ]
  },
  {
   "cell_type": "code",
   "execution_count": 109,
   "metadata": {
    "scrolled": true
   },
   "outputs": [
    {
     "data": {
      "text/html": [
       "<div>\n",
       "<style scoped>\n",
       "    .dataframe tbody tr th:only-of-type {\n",
       "        vertical-align: middle;\n",
       "    }\n",
       "\n",
       "    .dataframe tbody tr th {\n",
       "        vertical-align: top;\n",
       "    }\n",
       "\n",
       "    .dataframe thead th {\n",
       "        text-align: right;\n",
       "    }\n",
       "</style>\n",
       "<table border=\"1\" class=\"dataframe\">\n",
       "  <thead>\n",
       "    <tr style=\"text-align: right;\">\n",
       "      <th></th>\n",
       "      <th>misc_feature</th>\n",
       "      <th>misc_val</th>\n",
       "    </tr>\n",
       "  </thead>\n",
       "  <tbody>\n",
       "    <tr>\n",
       "      <th>0</th>\n",
       "      <td>NaN</td>\n",
       "      <td>0</td>\n",
       "    </tr>\n",
       "    <tr>\n",
       "      <th>1</th>\n",
       "      <td>NaN</td>\n",
       "      <td>0</td>\n",
       "    </tr>\n",
       "    <tr>\n",
       "      <th>2</th>\n",
       "      <td>NaN</td>\n",
       "      <td>0</td>\n",
       "    </tr>\n",
       "    <tr>\n",
       "      <th>3</th>\n",
       "      <td>NaN</td>\n",
       "      <td>0</td>\n",
       "    </tr>\n",
       "    <tr>\n",
       "      <th>4</th>\n",
       "      <td>NaN</td>\n",
       "      <td>0</td>\n",
       "    </tr>\n",
       "  </tbody>\n",
       "</table>\n",
       "</div>"
      ],
      "text/plain": [
       "  misc_feature  misc_val\n",
       "0          NaN         0\n",
       "1          NaN         0\n",
       "2          NaN         0\n",
       "3          NaN         0\n",
       "4          NaN         0"
      ]
     },
     "execution_count": 109,
     "metadata": {},
     "output_type": "execute_result"
    }
   ],
   "source": [
    "# To check for missing values in miscellaneous feature when miscellaneous value is zero\n",
    "housing_data.loc[((housing_data[\"misc_feature\"].isnull())), [\"misc_feature\", \"misc_val\"]].head()"
   ]
  },
  {
   "cell_type": "code",
   "execution_count": 110,
   "metadata": {},
   "outputs": [
    {
     "data": {
      "text/plain": [
       "True     1986\n",
       "False      65\n",
       "Name: misc_val, dtype: int64"
      ]
     },
     "execution_count": 110,
     "metadata": {},
     "output_type": "execute_result"
    }
   ],
   "source": [
    "# To count when miscellaneous value is zero\n",
    "zero_misc_val = housing_data[\"misc_val\"] == 0\n",
    "zero_misc_val.value_counts()"
   ]
  },
  {
   "cell_type": "markdown",
   "metadata": {},
   "source": [
    "**Analysis: The miscellaneous feature has missing value (NaN) when the miscellaneous feature value is zero**\n",
    "\n",
    "There are a significant amount of missing values for miscellaneous feature (misc_feature) column.\n",
    "When the miscellaneous feature value is 0, this suggests that there will be no miscellaneous feature and will be indicated as 'None'."
   ]
  },
  {
   "cell_type": "code",
   "execution_count": 111,
   "metadata": {},
   "outputs": [
    {
     "data": {
      "text/html": [
       "<div>\n",
       "<style scoped>\n",
       "    .dataframe tbody tr th:only-of-type {\n",
       "        vertical-align: middle;\n",
       "    }\n",
       "\n",
       "    .dataframe tbody tr th {\n",
       "        vertical-align: top;\n",
       "    }\n",
       "\n",
       "    .dataframe thead th {\n",
       "        text-align: right;\n",
       "    }\n",
       "</style>\n",
       "<table border=\"1\" class=\"dataframe\">\n",
       "  <thead>\n",
       "    <tr style=\"text-align: right;\">\n",
       "      <th></th>\n",
       "      <th>misc_feature</th>\n",
       "      <th>misc_val</th>\n",
       "    </tr>\n",
       "  </thead>\n",
       "  <tbody>\n",
       "  </tbody>\n",
       "</table>\n",
       "</div>"
      ],
      "text/plain": [
       "Empty DataFrame\n",
       "Columns: [misc_feature, misc_val]\n",
       "Index: []"
      ]
     },
     "execution_count": 111,
     "metadata": {},
     "output_type": "execute_result"
    }
   ],
   "source": [
    "# Change NaN in misc_feature column to 'NA' when misc_val is zero.\n",
    "modify_with_criteria_onenull_onezero(housing_data, \"misc_feature\", \"misc_val\", 'None')\n",
    "housing_data.loc[((housing_data[\"misc_feature\"].isnull())), [\"misc_feature\", \"misc_val\"]]"
   ]
  },
  {
   "cell_type": "markdown",
   "metadata": {},
   "source": [
    "**Analysis: Successfully indicated 'None' in miscellaneous feature (misc_feature) column when miscellaneous value is zero.**\n",
    "\n",
    "There are no missing values left in misc_feature column."
   ]
  },
  {
   "cell_type": "markdown",
   "metadata": {},
   "source": [
    "**2. test_housing_data**"
   ]
  },
  {
   "cell_type": "code",
   "execution_count": 112,
   "metadata": {
    "scrolled": true
   },
   "outputs": [
    {
     "data": {
      "text/html": [
       "<div>\n",
       "<style scoped>\n",
       "    .dataframe tbody tr th:only-of-type {\n",
       "        vertical-align: middle;\n",
       "    }\n",
       "\n",
       "    .dataframe tbody tr th {\n",
       "        vertical-align: top;\n",
       "    }\n",
       "\n",
       "    .dataframe thead th {\n",
       "        text-align: right;\n",
       "    }\n",
       "</style>\n",
       "<table border=\"1\" class=\"dataframe\">\n",
       "  <thead>\n",
       "    <tr style=\"text-align: right;\">\n",
       "      <th></th>\n",
       "      <th>misc_feature</th>\n",
       "      <th>misc_val</th>\n",
       "    </tr>\n",
       "  </thead>\n",
       "  <tbody>\n",
       "    <tr>\n",
       "      <th>0</th>\n",
       "      <td>NaN</td>\n",
       "      <td>0</td>\n",
       "    </tr>\n",
       "    <tr>\n",
       "      <th>1</th>\n",
       "      <td>NaN</td>\n",
       "      <td>0</td>\n",
       "    </tr>\n",
       "    <tr>\n",
       "      <th>2</th>\n",
       "      <td>NaN</td>\n",
       "      <td>0</td>\n",
       "    </tr>\n",
       "    <tr>\n",
       "      <th>3</th>\n",
       "      <td>NaN</td>\n",
       "      <td>0</td>\n",
       "    </tr>\n",
       "    <tr>\n",
       "      <th>4</th>\n",
       "      <td>NaN</td>\n",
       "      <td>0</td>\n",
       "    </tr>\n",
       "  </tbody>\n",
       "</table>\n",
       "</div>"
      ],
      "text/plain": [
       "  misc_feature  misc_val\n",
       "0          NaN         0\n",
       "1          NaN         0\n",
       "2          NaN         0\n",
       "3          NaN         0\n",
       "4          NaN         0"
      ]
     },
     "execution_count": 112,
     "metadata": {},
     "output_type": "execute_result"
    }
   ],
   "source": [
    "# To check for missing values in miscellaneous feature when miscellaneous value is zero\n",
    "test_housing_data.loc[((test_housing_data[\"misc_feature\"].isnull())), [\"misc_feature\", \"misc_val\"]].head()"
   ]
  },
  {
   "cell_type": "code",
   "execution_count": 113,
   "metadata": {},
   "outputs": [
    {
     "data": {
      "text/plain": [
       "True     840\n",
       "False     38\n",
       "Name: misc_val, dtype: int64"
      ]
     },
     "execution_count": 113,
     "metadata": {},
     "output_type": "execute_result"
    }
   ],
   "source": [
    "# To count when miscellaneous value is zero\n",
    "zero_misc_val = test_housing_data[\"misc_val\"] == 0\n",
    "zero_misc_val.value_counts()"
   ]
  },
  {
   "cell_type": "markdown",
   "metadata": {},
   "source": [
    "**Analysis: The miscellaneous feature has missing value (NaN) when the miscellaneous feature value is zero**\n",
    "\n",
    "There are a significant amount of missing values for miscellaneous feature (misc_feature) column.\n",
    "When the miscellaneous feature value is 0, this suggests that there will be no miscellaneous feature and will be indicated as 'None' for None."
   ]
  },
  {
   "cell_type": "code",
   "execution_count": 114,
   "metadata": {},
   "outputs": [
    {
     "data": {
      "text/html": [
       "<div>\n",
       "<style scoped>\n",
       "    .dataframe tbody tr th:only-of-type {\n",
       "        vertical-align: middle;\n",
       "    }\n",
       "\n",
       "    .dataframe tbody tr th {\n",
       "        vertical-align: top;\n",
       "    }\n",
       "\n",
       "    .dataframe thead th {\n",
       "        text-align: right;\n",
       "    }\n",
       "</style>\n",
       "<table border=\"1\" class=\"dataframe\">\n",
       "  <thead>\n",
       "    <tr style=\"text-align: right;\">\n",
       "      <th></th>\n",
       "      <th>misc_feature</th>\n",
       "      <th>misc_val</th>\n",
       "    </tr>\n",
       "  </thead>\n",
       "  <tbody>\n",
       "  </tbody>\n",
       "</table>\n",
       "</div>"
      ],
      "text/plain": [
       "Empty DataFrame\n",
       "Columns: [misc_feature, misc_val]\n",
       "Index: []"
      ]
     },
     "execution_count": 114,
     "metadata": {},
     "output_type": "execute_result"
    }
   ],
   "source": [
    "# Change NaN in misc_feature column to 'NA' when misc_val is zero.\n",
    "modify_with_criteria_onenull_onezero(test_housing_data, \"misc_feature\", \"misc_val\", 'None')\n",
    "test_housing_data.loc[((test_housing_data[\"misc_feature\"].isnull())), [\"misc_feature\", \"misc_val\"]]"
   ]
  },
  {
   "cell_type": "markdown",
   "metadata": {},
   "source": [
    "**Analysis: Successfully indicated 'None' in miscellaneous feature (misc_feature) column when miscellaneous value is zero.**\n",
    "\n",
    "There are no missing values left in misc_feature column."
   ]
  },
  {
   "cell_type": "markdown",
   "metadata": {},
   "source": [
    "**Summary: Both housing_data and test_housing_data for missing values for miscellaneous features has been filled.**"
   ]
  },
  {
   "cell_type": "markdown",
   "metadata": {},
   "source": [
    "### 2.3.4.11 Final check for missing values"
   ]
  },
  {
   "cell_type": "code",
   "execution_count": 115,
   "metadata": {
    "scrolled": true
   },
   "outputs": [
    {
     "data": {
      "text/plain": [
       "garage_type_Detchd    0\n",
       "bsmt_exposure         0\n",
       "exterior_2nd          0\n",
       "mas_vnr_type          0\n",
       "mas_vnr_area          0\n",
       "dtype: int64"
      ]
     },
     "execution_count": 115,
     "metadata": {},
     "output_type": "execute_result"
    }
   ],
   "source": [
    "housing_data.isnull().sum().sort_values(ascending = False)[0:5]"
   ]
  },
  {
   "cell_type": "code",
   "execution_count": 116,
   "metadata": {
    "scrolled": false
   },
   "outputs": [
    {
     "data": {
      "text/plain": [
       "garage_type_Detchd    0\n",
       "bsmt_exposure         0\n",
       "exterior_2nd          0\n",
       "mas_vnr_type          0\n",
       "mas_vnr_area          0\n",
       "dtype: int64"
      ]
     },
     "execution_count": 116,
     "metadata": {},
     "output_type": "execute_result"
    }
   ],
   "source": [
    "test_housing_data.isnull().sum().sort_values(ascending = False)[0:5]"
   ]
  },
  {
   "cell_type": "markdown",
   "metadata": {},
   "source": [
    "### 2.3.4.12 Convert the columns into integer columns"
   ]
  },
  {
   "cell_type": "markdown",
   "metadata": {},
   "source": [
    "Due to the presence of the missing values, the numerical column is in float while the garage_yr_blt is in object and float. Thus, we will convert it into integer"
   ]
  },
  {
   "cell_type": "markdown",
   "metadata": {},
   "source": [
    "**1. housing_data**"
   ]
  },
  {
   "cell_type": "markdown",
   "metadata": {},
   "source": [
    "1.1 Convert the float columns into integer"
   ]
  },
  {
   "cell_type": "code",
   "execution_count": 117,
   "metadata": {
    "scrolled": true
   },
   "outputs": [
    {
     "data": {
      "text/plain": [
       "int64      38\n",
       "object     29\n",
       "float64    10\n",
       "uint8       8\n",
       "dtype: int64"
      ]
     },
     "execution_count": 117,
     "metadata": {},
     "output_type": "execute_result"
    }
   ],
   "source": [
    "# List of datatype in the dataframe\n",
    "housing_data.dtypes.value_counts()"
   ]
  },
  {
   "cell_type": "code",
   "execution_count": 118,
   "metadata": {
    "scrolled": true
   },
   "outputs": [
    {
     "name": "stdout",
     "output_type": "stream",
     "text": [
      "<class 'pandas.core.frame.DataFrame'>\n",
      "RangeIndex: 2051 entries, 0 to 2050\n",
      "Data columns (total 10 columns):\n",
      " #   Column          Non-Null Count  Dtype  \n",
      "---  ------          --------------  -----  \n",
      " 0   lot_frontage    2051 non-null   float64\n",
      " 1   mas_vnr_area    2051 non-null   float64\n",
      " 2   bsmtfin_sf_1    2051 non-null   float64\n",
      " 3   bsmtfin_sf_2    2051 non-null   float64\n",
      " 4   bsmt_unf_sf     2051 non-null   float64\n",
      " 5   total_bsmt_sf   2051 non-null   float64\n",
      " 6   bsmt_full_bath  2051 non-null   float64\n",
      " 7   bsmt_half_bath  2051 non-null   float64\n",
      " 8   garage_cars     2051 non-null   float64\n",
      " 9   garage_area     2051 non-null   float64\n",
      "dtypes: float64(10)\n",
      "memory usage: 160.4 KB\n"
     ]
    }
   ],
   "source": [
    "# List of datatype 'float64'\n",
    "housing_data.select_dtypes(include=['float64']).info()"
   ]
  },
  {
   "cell_type": "code",
   "execution_count": 119,
   "metadata": {},
   "outputs": [
    {
     "data": {
      "text/plain": [
       "int64     38\n",
       "object    29\n",
       "int32     10\n",
       "uint8      8\n",
       "dtype: int64"
      ]
     },
     "execution_count": 119,
     "metadata": {},
     "output_type": "execute_result"
    }
   ],
   "source": [
    "#Convert the float columns in housing_data to integer\n",
    "housing_data[[\"lot_frontage\", \"mas_vnr_area\", \"bsmtfin_sf_1\", \"bsmtfin_sf_2\", \"bsmt_unf_sf\", \"total_bsmt_sf\", \"bsmt_full_bath\", \"bsmt_half_bath\", \"garage_cars\", \"garage_area\"]] = housing_data[[\"lot_frontage\", \"mas_vnr_area\", \"bsmtfin_sf_1\", \"bsmtfin_sf_2\", \"bsmt_unf_sf\", \"total_bsmt_sf\", \"bsmt_full_bath\", \"bsmt_half_bath\", \"garage_cars\", \"garage_area\"]].astype(int)\n",
    "housing_data.dtypes.value_counts()"
   ]
  },
  {
   "cell_type": "code",
   "execution_count": 120,
   "metadata": {
    "scrolled": true
   },
   "outputs": [
    {
     "name": "stdout",
     "output_type": "stream",
     "text": [
      "lot_frontage      int32\n",
      "mas_vnr_area      int32\n",
      "bsmtfin_sf_1      int32\n",
      "bsmtfin_sf_2      int32\n",
      "bsmt_unf_sf       int32\n",
      "total_bsmt_sf     int32\n",
      "bsmt_full_bath    int32\n",
      "bsmt_half_bath    int32\n",
      "garage_cars       int32\n",
      "garage_area       int32\n",
      "dtype: object\n"
     ]
    }
   ],
   "source": [
    "print((housing_data[[\"lot_frontage\", \"mas_vnr_area\", \"bsmtfin_sf_1\", \"bsmtfin_sf_2\", \"bsmt_unf_sf\", \"total_bsmt_sf\", \"bsmt_full_bath\", \"bsmt_half_bath\", \"garage_cars\", \"garage_area\"]]).dtypes)"
   ]
  },
  {
   "cell_type": "markdown",
   "metadata": {},
   "source": [
    "**Summary: The numeric columns (float) for housing_data has been converted to integer.**"
   ]
  },
  {
   "cell_type": "markdown",
   "metadata": {},
   "source": [
    "1.2 Convert the garage_yr_blt into integer"
   ]
  },
  {
   "cell_type": "code",
   "execution_count": 121,
   "metadata": {
    "scrolled": true
   },
   "outputs": [
    {
     "data": {
      "text/plain": [
       "array([1976.0, 1997.0, 1953.0, 2007.0, 1957.0, 1966.0, 2005.0, 1959.0,\n",
       "       1952.0, 1969.0, 1971.0, 1900.0, 2000.0, 2004.0, 1916.0, 1963.0,\n",
       "       1977.0, 2009.0, 1968.0, 1992.0, 1955.0, 1961.0, 1973.0, 1937.0,\n",
       "       'None', 2003.0, 1981.0, 1931.0, 1995.0, 1958.0, 1965.0, 2006.0,\n",
       "       1978.0, 1954.0, 1935.0, 1951.0, 1996.0, 1999.0, 1920.0, 1930.0,\n",
       "       1924.0, 1960.0, 1949.0, 1986.0, 1956.0, 1994.0, 1979.0, 1964.0,\n",
       "       2001.0, 1972.0, 1939.0, 1962.0, 1927.0, 1948.0, 1967.0, 1993.0,\n",
       "       2010.0, 1915.0, 1987.0, 1970.0, 1988.0, 1982.0, 1941.0, 1984.0,\n",
       "       1942.0, 1950.0, 2002.0, 1975.0, 2008.0, 1974.0, 1998.0, 1918.0,\n",
       "       1938.0, 1985.0, 1923.0, 1980.0, 1991.0, 1946.0, 1940.0, 1990.0,\n",
       "       1896.0, 1983.0, 1914.0, 1945.0, 1921.0, 1925.0, 1926.0, 1936.0,\n",
       "       1932.0, 1947.0, 1929.0, 1910.0, 1917.0, 1922.0, 1934.0, 1989.0,\n",
       "       1928.0, 2207.0, 1933.0, 1895.0, 1919.0], dtype=object)"
      ]
     },
     "execution_count": 121,
     "metadata": {},
     "output_type": "execute_result"
    }
   ],
   "source": [
    "housing_data[\"garage_yr_blt\"].unique()"
   ]
  },
  {
   "cell_type": "code",
   "execution_count": 122,
   "metadata": {},
   "outputs": [],
   "source": [
    "# Converting the missing values in garage_yr_blt to 'NA' and the rest convert to integer\n",
    "housing_data[\"garage_yr_blt\"] = housing_data[\"garage_yr_blt\"].apply(lambda x:'None' if x == 'None' else int(x))"
   ]
  },
  {
   "cell_type": "code",
   "execution_count": 123,
   "metadata": {
    "scrolled": false
   },
   "outputs": [
    {
     "data": {
      "text/plain": [
       "array([1976, 1997, 1953, 2007, 1957, 1966, 2005, 1959, 1952, 1969, 1971,\n",
       "       1900, 2000, 2004, 1916, 1963, 1977, 2009, 1968, 1992, 1955, 1961,\n",
       "       1973, 1937, 'None', 2003, 1981, 1931, 1995, 1958, 1965, 2006, 1978,\n",
       "       1954, 1935, 1951, 1996, 1999, 1920, 1930, 1924, 1960, 1949, 1986,\n",
       "       1956, 1994, 1979, 1964, 2001, 1972, 1939, 1962, 1927, 1948, 1967,\n",
       "       1993, 2010, 1915, 1987, 1970, 1988, 1982, 1941, 1984, 1942, 1950,\n",
       "       2002, 1975, 2008, 1974, 1998, 1918, 1938, 1985, 1923, 1980, 1991,\n",
       "       1946, 1940, 1990, 1896, 1983, 1914, 1945, 1921, 1925, 1926, 1936,\n",
       "       1932, 1947, 1929, 1910, 1917, 1922, 1934, 1989, 1928, 2207, 1933,\n",
       "       1895, 1919], dtype=object)"
      ]
     },
     "execution_count": 123,
     "metadata": {},
     "output_type": "execute_result"
    }
   ],
   "source": [
    "housing_data[\"garage_yr_blt\"].unique()"
   ]
  },
  {
   "cell_type": "markdown",
   "metadata": {},
   "source": [
    "**Summary: The garage_yr_blt values (float) for housing_data has been converted to integer.**"
   ]
  },
  {
   "cell_type": "markdown",
   "metadata": {},
   "source": [
    "**2. test_housing_data**"
   ]
  },
  {
   "cell_type": "markdown",
   "metadata": {},
   "source": [
    "1.1 Convert the float columns into integer"
   ]
  },
  {
   "cell_type": "code",
   "execution_count": 124,
   "metadata": {},
   "outputs": [
    {
     "data": {
      "text/plain": [
       "int64      45\n",
       "object     29\n",
       "uint8       8\n",
       "float64     2\n",
       "dtype: int64"
      ]
     },
     "execution_count": 124,
     "metadata": {},
     "output_type": "execute_result"
    }
   ],
   "source": [
    "# List of datatype in the dataframe\n",
    "test_housing_data.dtypes.value_counts()"
   ]
  },
  {
   "cell_type": "code",
   "execution_count": 125,
   "metadata": {
    "scrolled": true
   },
   "outputs": [
    {
     "name": "stdout",
     "output_type": "stream",
     "text": [
      "<class 'pandas.core.frame.DataFrame'>\n",
      "RangeIndex: 878 entries, 0 to 877\n",
      "Data columns (total 2 columns):\n",
      " #   Column        Non-Null Count  Dtype  \n",
      "---  ------        --------------  -----  \n",
      " 0   lot_frontage  878 non-null    float64\n",
      " 1   mas_vnr_area  878 non-null    float64\n",
      "dtypes: float64(2)\n",
      "memory usage: 13.8 KB\n"
     ]
    }
   ],
   "source": [
    "# List of datatype 'float64'\n",
    "test_housing_data.select_dtypes(include=['float64']).info()"
   ]
  },
  {
   "cell_type": "code",
   "execution_count": 126,
   "metadata": {},
   "outputs": [
    {
     "data": {
      "text/plain": [
       "int64     45\n",
       "object    29\n",
       "uint8      8\n",
       "int32      2\n",
       "dtype: int64"
      ]
     },
     "execution_count": 126,
     "metadata": {},
     "output_type": "execute_result"
    }
   ],
   "source": [
    "#Convert the float columns in housing_data to integer\n",
    "test_housing_data[[\"lot_frontage\", \"mas_vnr_area\"]] = test_housing_data[[\"lot_frontage\", \"mas_vnr_area\"]].astype(int)\n",
    "test_housing_data.dtypes.value_counts()"
   ]
  },
  {
   "cell_type": "code",
   "execution_count": 127,
   "metadata": {
    "scrolled": false
   },
   "outputs": [
    {
     "name": "stdout",
     "output_type": "stream",
     "text": [
      "lot_frontage    int32\n",
      "mas_vnr_area    int32\n",
      "dtype: object\n"
     ]
    }
   ],
   "source": [
    "print((test_housing_data[[\"lot_frontage\", \"mas_vnr_area\"]]).dtypes)"
   ]
  },
  {
   "cell_type": "markdown",
   "metadata": {},
   "source": [
    "**Summary: The numeric columns (float) for test_housing_data has been converted to integer.**"
   ]
  },
  {
   "cell_type": "markdown",
   "metadata": {},
   "source": [
    "1.2 Convert the garage_yr_blt into integer"
   ]
  },
  {
   "cell_type": "code",
   "execution_count": 128,
   "metadata": {
    "scrolled": true
   },
   "outputs": [
    {
     "data": {
      "text/plain": [
       "array([1910.0, 1977.0, 2006.0, 1935.0, 1963.0, 1972.0, 1959.0, 1978.0,\n",
       "       2004.0, 1980.0, 1991.0, 1993.0, 1954.0, 2000.0, 1943.0, 1957.0,\n",
       "       1940.0, 1956.0, 1961.0, 1925.0, 1968.0, 1982.0, 1969.0, 2007.0,\n",
       "       1989.0, 1920.0, 1937.0, 'None', 1979.0, 1962.0, 1950.0, 1973.0,\n",
       "       2001.0, 1952.0, 1953.0, 1999.0, 2009.0, 1998.0, 1974.0, 1951.0,\n",
       "       1987.0, 2003.0, 1924.0, 1970.0, 1975.0, 1958.0, 1971.0, 1992.0,\n",
       "       1994.0, 2005.0, 1960.0, 1967.0, 2002.0, 1997.0, 1981.0, 1938.0,\n",
       "       1988.0, 1939.0, 1927.0, 1984.0, 1964.0, 1995.0, 2008.0, 1966.0,\n",
       "       1941.0, 1983.0, 1906.0, 1930.0, 1955.0, 1946.0, 1996.0, 1928.0,\n",
       "       1976.0, 1915.0, 1923.0, 1965.0, 1947.0, 1900.0, 1918.0, 1934.0,\n",
       "       1932.0, 1986.0, 2010.0, 1985.0, 1949.0, 1948.0, 1917.0, 1990.0,\n",
       "       1921.0, 1926.0, 1931.0, 1916.0, 1922.0, 1908.0], dtype=object)"
      ]
     },
     "execution_count": 128,
     "metadata": {},
     "output_type": "execute_result"
    }
   ],
   "source": [
    "test_housing_data[\"garage_yr_blt\"].unique()"
   ]
  },
  {
   "cell_type": "code",
   "execution_count": 129,
   "metadata": {},
   "outputs": [],
   "source": [
    "# Converting the missing values in garage_yr_blt to 'NA' and the rest convert to integer\n",
    "test_housing_data[\"garage_yr_blt\"] = test_housing_data[\"garage_yr_blt\"].apply(lambda x:'None' if x == 'None' else int(x))"
   ]
  },
  {
   "cell_type": "code",
   "execution_count": 130,
   "metadata": {
    "scrolled": false
   },
   "outputs": [
    {
     "data": {
      "text/plain": [
       "array([1910, 1977, 2006, 1935, 1963, 1972, 1959, 1978, 2004, 1980, 1991,\n",
       "       1993, 1954, 2000, 1943, 1957, 1940, 1956, 1961, 1925, 1968, 1982,\n",
       "       1969, 2007, 1989, 1920, 1937, 'None', 1979, 1962, 1950, 1973, 2001,\n",
       "       1952, 1953, 1999, 2009, 1998, 1974, 1951, 1987, 2003, 1924, 1970,\n",
       "       1975, 1958, 1971, 1992, 1994, 2005, 1960, 1967, 2002, 1997, 1981,\n",
       "       1938, 1988, 1939, 1927, 1984, 1964, 1995, 2008, 1966, 1941, 1983,\n",
       "       1906, 1930, 1955, 1946, 1996, 1928, 1976, 1915, 1923, 1965, 1947,\n",
       "       1900, 1918, 1934, 1932, 1986, 2010, 1985, 1949, 1948, 1917, 1990,\n",
       "       1921, 1926, 1931, 1916, 1922, 1908], dtype=object)"
      ]
     },
     "execution_count": 130,
     "metadata": {},
     "output_type": "execute_result"
    }
   ],
   "source": [
    "test_housing_data[\"garage_yr_blt\"].unique()"
   ]
  },
  {
   "cell_type": "markdown",
   "metadata": {},
   "source": [
    "**Summary: The garage_yr_blt values (float) for test_housing_data has been converted to integer.**"
   ]
  },
  {
   "cell_type": "markdown",
   "metadata": {},
   "source": [
    "### 2.3.4.13 Encode the ordinal columns for future analysis"
   ]
  },
  {
   "cell_type": "markdown",
   "metadata": {},
   "source": [
    "For the ease of future analysis, the ordinal columns will be ordinally encoded."
   ]
  },
  {
   "cell_type": "markdown",
   "metadata": {},
   "source": [
    "**1. housing_data**"
   ]
  },
  {
   "cell_type": "code",
   "execution_count": 131,
   "metadata": {},
   "outputs": [
    {
     "name": "stdout",
     "output_type": "stream",
     "text": [
      "The lot_shape unique characters is [2 3 1 0]\n",
      "The utilities unique characters is [3 1 2]\n",
      "The land_slope unique characters is [2 0 1]\n",
      "The exter_qual unique characters is [3 2 4 1]\n",
      "The exter_cond unique characters is [2 3 1 4 0]\n",
      "The heating_qc unique characters is [4 2 3 1 0]\n",
      "The kitchen_qual unique characters is [3 2 1 4]\n",
      "The functional unique characters is [7 4 5 3 6 1 0 2]\n",
      "The paved_drive unique characters is [2 0 1]\n"
     ]
    }
   ],
   "source": [
    "# Encode the remaining ordinal columns with reference to data dictionary\n",
    "housing_data[\"lot_shape\"] = housing_data[\"lot_shape\"].map({'IR3': 0, 'IR2': 1, 'IR1': 2, \"Reg\": 3})\n",
    "housing_data[\"utilities\"] = housing_data[\"utilities\"].map({'ELO': 0, 'NoSeWa': 1, 'NoSewr': 2, \"AllPub\": 3})\n",
    "housing_data[\"land_slope\"] = housing_data[\"land_slope\"].map({'Sev': 0, 'Mod': 1, 'Gtl': 2})\n",
    "housing_data[\"exter_qual\"] = housing_data[\"exter_qual\"].map({'Po': 0, 'Fa': 1, \"TA\": 2, \"Gd\": 3, \"Ex\":4})\n",
    "housing_data[\"exter_cond\"] = housing_data[\"exter_cond\"].map({'Po': 0, 'Fa': 1, \"TA\": 2, \"Gd\": 3, \"Ex\":4})\n",
    "housing_data[\"heating_qc\"] = housing_data[\"heating_qc\"].map({'Po': 0, 'Fa': 1, \"TA\": 2, \"Gd\": 3, \"Ex\":4})\n",
    "housing_data[\"kitchen_qual\"] = housing_data[\"kitchen_qual\"].map({'Po': 0, 'Fa': 1, \"TA\": 2, \"Gd\": 3, \"Ex\":4})\n",
    "housing_data[\"functional\"] = housing_data[\"functional\"].map({'Sal': 0, 'Sev': 1, \"Maj2\": 2, \"Maj1\": 3, \"Mod\":4, \"Min2\": 5, \"Min1\": 6, \"Typ\": 7})\n",
    "housing_data[\"paved_drive\"] = housing_data[\"paved_drive\"].map({'N': 0, 'P': 1, \"Y\": 2})\n",
    "print(f\"The lot_shape unique characters is {(housing_data.lot_shape.unique())}\")\n",
    "print(f\"The utilities unique characters is {(housing_data.utilities.unique())}\")\n",
    "print(f\"The land_slope unique characters is {(housing_data.land_slope.unique())}\")\n",
    "print(f\"The exter_qual unique characters is {(housing_data.exter_qual.unique())}\")\n",
    "print(f\"The exter_cond unique characters is {(housing_data.exter_cond.unique())}\")\n",
    "print(f\"The heating_qc unique characters is {(housing_data.heating_qc.unique())}\")\n",
    "print(f\"The kitchen_qual unique characters is {(housing_data.kitchen_qual.unique())}\")\n",
    "print(f\"The functional unique characters is {(housing_data.functional.unique())}\")\n",
    "print(f\"The paved_drive unique characters is {(housing_data.paved_drive.unique())}\")"
   ]
  },
  {
   "cell_type": "markdown",
   "metadata": {},
   "source": [
    "**2. test_housing_data**"
   ]
  },
  {
   "cell_type": "code",
   "execution_count": 132,
   "metadata": {},
   "outputs": [
    {
     "name": "stdout",
     "output_type": "stream",
     "text": [
      "The lot_shape unique characters is [3 2 0 1]\n",
      "The utilities unique characters is [3 2]\n",
      "The land_slope unique characters is [2 1 0]\n",
      "The exter_qual unique characters is [2 3 1 4]\n",
      "The exter_cond unique characters is [1 2 3 4 0]\n",
      "The heating_qc unique characters is [3 2 4 1]\n",
      "The kitchen_qual unique characters is [1 2 3 4 0]\n",
      "The functional unique characters is [7 5 6 4 3 2]\n",
      "The paved_drive unique characters is [2 0 1]\n"
     ]
    }
   ],
   "source": [
    "# Encode the remaining ordinal columns with reference to data dictionary\n",
    "test_housing_data[\"lot_shape\"] = test_housing_data[\"lot_shape\"].map({'IR3': 0, 'IR2': 1, 'IR1': 2, \"Reg\": 3})\n",
    "test_housing_data[\"utilities\"] = test_housing_data[\"utilities\"].map({'ELO': 0, 'NoSeWa': 1, 'NoSewr': 2, \"AllPub\": 3})\n",
    "test_housing_data[\"land_slope\"] = test_housing_data[\"land_slope\"].map({'Sev': 0, 'Mod': 1, 'Gtl': 2})\n",
    "test_housing_data[\"exter_qual\"] = test_housing_data[\"exter_qual\"].map({'Po': 0, 'Fa': 1, \"TA\": 2, \"Gd\": 3, \"Ex\":4})\n",
    "test_housing_data[\"exter_cond\"] = test_housing_data[\"exter_cond\"].map({'Po': 0, 'Fa': 1, \"TA\": 2, \"Gd\": 3, \"Ex\":4})\n",
    "test_housing_data[\"heating_qc\"] = test_housing_data[\"heating_qc\"].map({'Po': 0, 'Fa': 1, \"TA\": 2, \"Gd\": 3, \"Ex\":4})\n",
    "test_housing_data[\"kitchen_qual\"] = test_housing_data[\"kitchen_qual\"].map({'Po': 0, 'Fa': 1, \"TA\": 2, \"Gd\": 3, \"Ex\":4})\n",
    "test_housing_data[\"functional\"] = test_housing_data[\"functional\"].map({'Sal': 0, 'Sev': 1, \"Maj2\": 2, \"Maj1\": 3, \"Mod\":4, \"Min2\": 5, \"Min1\": 6, \"Typ\": 7})\n",
    "test_housing_data[\"paved_drive\"] = test_housing_data[\"paved_drive\"].map({'N': 0, 'P': 1, \"Y\": 2})\n",
    "print(f\"The lot_shape unique characters is {(test_housing_data.lot_shape.unique())}\")\n",
    "print(f\"The utilities unique characters is {(test_housing_data.utilities.unique())}\")\n",
    "print(f\"The land_slope unique characters is {(test_housing_data.land_slope.unique())}\")\n",
    "print(f\"The exter_qual unique characters is {(test_housing_data.exter_qual.unique())}\")\n",
    "print(f\"The exter_cond unique characters is {(test_housing_data.exter_cond.unique())}\")\n",
    "print(f\"The heating_qc unique characters is {(test_housing_data.heating_qc.unique())}\")\n",
    "print(f\"The kitchen_qual unique characters is {(test_housing_data.kitchen_qual.unique())}\")\n",
    "print(f\"The functional unique characters is {(test_housing_data.functional.unique())}\")\n",
    "print(f\"The paved_drive unique characters is {(test_housing_data.paved_drive.unique())}\")"
   ]
  },
  {
   "cell_type": "markdown",
   "metadata": {},
   "source": [
    "**Summary: Both housing_data and test_housing_data ordinal columns has been converted to integer.**"
   ]
  },
  {
   "cell_type": "markdown",
   "metadata": {},
   "source": [
    "## 3. Summary"
   ]
  },
  {
   "cell_type": "markdown",
   "metadata": {},
   "source": [
    "For both housing_data and test_housing_data:\n",
    "\n",
    "* Rename the column for coherent and easier navigation and drop the columns of 'id' and 'pid'.\n",
    "* Rename the values of ms_zoning column to remove '(all)' and '(agr)'.\n",
    "* Fill the missing values for column having missing values in the alley, basement, fence, fireplace, frontage, garage, masonry, pool and miscellaneous features columns based on the similar characteristics of the missing values.\n",
    "* The missing values that are ordinal and nominal category has been converted to integer\n",
    "* The numeric columns (float) has been converted to integer\n",
    "* The ordinal columns have been convereted to integer\n",
    "\n",
    "For test_housing_data:\n",
    "* The additional column of missing values in elecrical has been filled."
   ]
  },
  {
   "cell_type": "markdown",
   "metadata": {},
   "source": [
    "## 4. Exporting Data"
   ]
  },
  {
   "cell_type": "code",
   "execution_count": 133,
   "metadata": {
    "scrolled": true
   },
   "outputs": [],
   "source": [
    "# Placed the # to refrain from executing\n",
    "#housing_data.to_csv(\"../code/housing_data_clean_id.csv\", index = False) \n",
    "#test_housing_data.to_csv(\"../code/test_housing_data_clean_id.csv\", index = False) "
   ]
  },
  {
   "cell_type": "markdown",
   "metadata": {},
   "source": [
    "## 5. References"
   ]
  },
  {
   "cell_type": "markdown",
   "metadata": {},
   "source": [
    "[1] \"Public and Private Lnads Percentages,\" 1991.[Online]. Available: https://www.summitpost.org/public-and-private-land-percentages-by-us-states/186111. [Accessed: Apr. 9. 2021].\n",
    "\n",
    "[2] \"Ames,\" *Niche.com.Inc*, 2021. [Online]. Available: https://www.niche.com/places-to-live/ames-story-ia/. [Accessed: Apr. 9. 2021]\n",
    "\n",
    "[3] \"QuickFacts Ames City, Iowa,\" *United States Census Bureau*, 2019. [Online]. Available: https://www.census.gov/quickfacts/amescityiowa. [Accessed: Apr. 6. 2021].\n",
    "\n",
    "[4] \"Housing in Ames, Iowa,\" *Sperling's Best Places*, [Online]. Available: https://www.bestplaces.net/housing/city/iowa/ames [Accessed: Apr. 9. 2021]\n",
    "\n",
    "[5] \"Iowa's affordable housing struggle,\" *The Gazette*, 2018.[Online]. Available: https://www.thegazette.com/regional-development/iowas-affordable-housing-struggle/. [Accessed: Apr. 9. 2021]."
   ]
  }
 ],
 "metadata": {
  "kernelspec": {
   "display_name": "Python 3",
   "language": "python",
   "name": "python3"
  },
  "language_info": {
   "codemirror_mode": {
    "name": "ipython",
    "version": 3
   },
   "file_extension": ".py",
   "mimetype": "text/x-python",
   "name": "python",
   "nbconvert_exporter": "python",
   "pygments_lexer": "ipython3",
   "version": "3.8.5"
  }
 },
 "nbformat": 4,
 "nbformat_minor": 4
}
